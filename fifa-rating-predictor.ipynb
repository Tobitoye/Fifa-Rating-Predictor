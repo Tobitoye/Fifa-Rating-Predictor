{
 "cells": [
  {
   "cell_type": "code",
   "execution_count": 1,
   "id": "5e02c46c",
   "metadata": {
    "_cell_guid": "595c0366-ecdf-47b5-ae1b-f97ddfae02bf",
    "_uuid": "745db63a-31d0-463e-9a41-d503854f149d",
    "collapsed": false,
    "execution": {
     "iopub.execute_input": "2023-11-30T00:23:35.507279Z",
     "iopub.status.busy": "2023-11-30T00:23:35.506430Z",
     "iopub.status.idle": "2023-11-30T00:23:36.495038Z",
     "shell.execute_reply": "2023-11-30T00:23:36.493573Z"
    },
    "jupyter": {
     "outputs_hidden": false
    },
    "papermill": {
     "duration": 1.015118,
     "end_time": "2023-11-30T00:23:36.497796",
     "exception": false,
     "start_time": "2023-11-30T00:23:35.482678",
     "status": "completed"
    },
    "tags": []
   },
   "outputs": [
    {
     "name": "stdout",
     "output_type": "stream",
     "text": [
      "/kaggle/input/fifa-21-messy-raw-dataset-for-cleaning-exploring/fifa21 raw data v2.csv\n",
      "/kaggle/input/fifa-21-messy-raw-dataset-for-cleaning-exploring/fifa21_raw_data.csv\n"
     ]
    }
   ],
   "source": [
    "# This Python 3 environment comes with many helpful analytics libraries installed\n",
    "# It is defined by the kaggle/python Docker image: https://github.com/kaggle/docker-python\n",
    "# For example, here's several helpful packages to load\n",
    "\n",
    "import numpy as np # linear algebra\n",
    "import pandas as pd # data processing, CSV file I/O (e.g. pd.read_csv)\n",
    "\n",
    "# Input data files are available in the read-only \"../input/\" directory\n",
    "# For example, running this (by clicking run or pressing Shift+Enter) will list all files under the input directory\n",
    "\n",
    "import os\n",
    "for dirname, _, filenames in os.walk('/kaggle/input'):\n",
    "    for filename in filenames:\n",
    "        print(os.path.join(dirname, filename))\n",
    "\n",
    "# You can write up to 20GB to the current directory (/kaggle/working/) that gets preserved as output when you create a version using \"Save & Run All\" \n",
    "# You can also write temporary files to /kaggle/temp/, but they won't be saved outside of the current session"
   ]
  },
  {
   "cell_type": "code",
   "execution_count": 2,
   "id": "66c02be7",
   "metadata": {
    "_cell_guid": "abde66bd-306e-4673-8760-4a74e0b974a8",
    "_uuid": "975050ea-b29c-484c-9fd8-6b7dced2a87a",
    "collapsed": false,
    "execution": {
     "iopub.execute_input": "2023-11-30T00:23:36.543751Z",
     "iopub.status.busy": "2023-11-30T00:23:36.543194Z",
     "iopub.status.idle": "2023-11-30T00:23:37.148160Z",
     "shell.execute_reply": "2023-11-30T00:23:37.146917Z"
    },
    "jupyter": {
     "outputs_hidden": false
    },
    "papermill": {
     "duration": 0.6314,
     "end_time": "2023-11-30T00:23:37.151411",
     "exception": false,
     "start_time": "2023-11-30T00:23:36.520011",
     "status": "completed"
    },
    "tags": []
   },
   "outputs": [
    {
     "name": "stderr",
     "output_type": "stream",
     "text": [
      "/tmp/ipykernel_21/1717771531.py:1: DtypeWarning: Columns (76) have mixed types. Specify dtype option on import or set low_memory=False.\n",
      "  data = pd.read_csv(\"/kaggle/input/fifa-21-messy-raw-dataset-for-cleaning-exploring/fifa21 raw data v2.csv\")\n"
     ]
    },
    {
     "data": {
      "text/html": [
       "<div>\n",
       "<style scoped>\n",
       "    .dataframe tbody tr th:only-of-type {\n",
       "        vertical-align: middle;\n",
       "    }\n",
       "\n",
       "    .dataframe tbody tr th {\n",
       "        vertical-align: top;\n",
       "    }\n",
       "\n",
       "    .dataframe thead th {\n",
       "        text-align: right;\n",
       "    }\n",
       "</style>\n",
       "<table border=\"1\" class=\"dataframe\">\n",
       "  <thead>\n",
       "    <tr style=\"text-align: right;\">\n",
       "      <th></th>\n",
       "      <th>ID</th>\n",
       "      <th>Name</th>\n",
       "      <th>LongName</th>\n",
       "      <th>photoUrl</th>\n",
       "      <th>playerUrl</th>\n",
       "      <th>Nationality</th>\n",
       "      <th>Age</th>\n",
       "      <th>↓OVA</th>\n",
       "      <th>POT</th>\n",
       "      <th>Club</th>\n",
       "      <th>...</th>\n",
       "      <th>A/W</th>\n",
       "      <th>D/W</th>\n",
       "      <th>IR</th>\n",
       "      <th>PAC</th>\n",
       "      <th>SHO</th>\n",
       "      <th>PAS</th>\n",
       "      <th>DRI</th>\n",
       "      <th>DEF</th>\n",
       "      <th>PHY</th>\n",
       "      <th>Hits</th>\n",
       "    </tr>\n",
       "  </thead>\n",
       "  <tbody>\n",
       "    <tr>\n",
       "      <th>0</th>\n",
       "      <td>158023</td>\n",
       "      <td>L. Messi</td>\n",
       "      <td>Lionel Messi</td>\n",
       "      <td>https://cdn.sofifa.com/players/158/023/21_60.png</td>\n",
       "      <td>http://sofifa.com/player/158023/lionel-messi/2...</td>\n",
       "      <td>Argentina</td>\n",
       "      <td>33</td>\n",
       "      <td>93</td>\n",
       "      <td>93</td>\n",
       "      <td>\\n\\n\\n\\nFC Barcelona</td>\n",
       "      <td>...</td>\n",
       "      <td>Medium</td>\n",
       "      <td>Low</td>\n",
       "      <td>5 ★</td>\n",
       "      <td>85</td>\n",
       "      <td>92</td>\n",
       "      <td>91</td>\n",
       "      <td>95</td>\n",
       "      <td>38</td>\n",
       "      <td>65</td>\n",
       "      <td>771</td>\n",
       "    </tr>\n",
       "    <tr>\n",
       "      <th>1</th>\n",
       "      <td>20801</td>\n",
       "      <td>Cristiano Ronaldo</td>\n",
       "      <td>C. Ronaldo dos Santos Aveiro</td>\n",
       "      <td>https://cdn.sofifa.com/players/020/801/21_60.png</td>\n",
       "      <td>http://sofifa.com/player/20801/c-ronaldo-dos-s...</td>\n",
       "      <td>Portugal</td>\n",
       "      <td>35</td>\n",
       "      <td>92</td>\n",
       "      <td>92</td>\n",
       "      <td>\\n\\n\\n\\nJuventus</td>\n",
       "      <td>...</td>\n",
       "      <td>High</td>\n",
       "      <td>Low</td>\n",
       "      <td>5 ★</td>\n",
       "      <td>89</td>\n",
       "      <td>93</td>\n",
       "      <td>81</td>\n",
       "      <td>89</td>\n",
       "      <td>35</td>\n",
       "      <td>77</td>\n",
       "      <td>562</td>\n",
       "    </tr>\n",
       "    <tr>\n",
       "      <th>2</th>\n",
       "      <td>200389</td>\n",
       "      <td>J. Oblak</td>\n",
       "      <td>Jan Oblak</td>\n",
       "      <td>https://cdn.sofifa.com/players/200/389/21_60.png</td>\n",
       "      <td>http://sofifa.com/player/200389/jan-oblak/210006/</td>\n",
       "      <td>Slovenia</td>\n",
       "      <td>27</td>\n",
       "      <td>91</td>\n",
       "      <td>93</td>\n",
       "      <td>\\n\\n\\n\\nAtlético Madrid</td>\n",
       "      <td>...</td>\n",
       "      <td>Medium</td>\n",
       "      <td>Medium</td>\n",
       "      <td>3 ★</td>\n",
       "      <td>87</td>\n",
       "      <td>92</td>\n",
       "      <td>78</td>\n",
       "      <td>90</td>\n",
       "      <td>52</td>\n",
       "      <td>90</td>\n",
       "      <td>150</td>\n",
       "    </tr>\n",
       "    <tr>\n",
       "      <th>3</th>\n",
       "      <td>192985</td>\n",
       "      <td>K. De Bruyne</td>\n",
       "      <td>Kevin De Bruyne</td>\n",
       "      <td>https://cdn.sofifa.com/players/192/985/21_60.png</td>\n",
       "      <td>http://sofifa.com/player/192985/kevin-de-bruyn...</td>\n",
       "      <td>Belgium</td>\n",
       "      <td>29</td>\n",
       "      <td>91</td>\n",
       "      <td>91</td>\n",
       "      <td>\\n\\n\\n\\nManchester City</td>\n",
       "      <td>...</td>\n",
       "      <td>High</td>\n",
       "      <td>High</td>\n",
       "      <td>4 ★</td>\n",
       "      <td>76</td>\n",
       "      <td>86</td>\n",
       "      <td>93</td>\n",
       "      <td>88</td>\n",
       "      <td>64</td>\n",
       "      <td>78</td>\n",
       "      <td>207</td>\n",
       "    </tr>\n",
       "    <tr>\n",
       "      <th>4</th>\n",
       "      <td>190871</td>\n",
       "      <td>Neymar Jr</td>\n",
       "      <td>Neymar da Silva Santos Jr.</td>\n",
       "      <td>https://cdn.sofifa.com/players/190/871/21_60.png</td>\n",
       "      <td>http://sofifa.com/player/190871/neymar-da-silv...</td>\n",
       "      <td>Brazil</td>\n",
       "      <td>28</td>\n",
       "      <td>91</td>\n",
       "      <td>91</td>\n",
       "      <td>\\n\\n\\n\\nParis Saint-Germain</td>\n",
       "      <td>...</td>\n",
       "      <td>High</td>\n",
       "      <td>Medium</td>\n",
       "      <td>5 ★</td>\n",
       "      <td>91</td>\n",
       "      <td>85</td>\n",
       "      <td>86</td>\n",
       "      <td>94</td>\n",
       "      <td>36</td>\n",
       "      <td>59</td>\n",
       "      <td>595</td>\n",
       "    </tr>\n",
       "  </tbody>\n",
       "</table>\n",
       "<p>5 rows × 77 columns</p>\n",
       "</div>"
      ],
      "text/plain": [
       "       ID               Name                      LongName  \\\n",
       "0  158023           L. Messi                  Lionel Messi   \n",
       "1   20801  Cristiano Ronaldo  C. Ronaldo dos Santos Aveiro   \n",
       "2  200389           J. Oblak                     Jan Oblak   \n",
       "3  192985       K. De Bruyne               Kevin De Bruyne   \n",
       "4  190871          Neymar Jr    Neymar da Silva Santos Jr.   \n",
       "\n",
       "                                           photoUrl  \\\n",
       "0  https://cdn.sofifa.com/players/158/023/21_60.png   \n",
       "1  https://cdn.sofifa.com/players/020/801/21_60.png   \n",
       "2  https://cdn.sofifa.com/players/200/389/21_60.png   \n",
       "3  https://cdn.sofifa.com/players/192/985/21_60.png   \n",
       "4  https://cdn.sofifa.com/players/190/871/21_60.png   \n",
       "\n",
       "                                           playerUrl Nationality  Age  ↓OVA  \\\n",
       "0  http://sofifa.com/player/158023/lionel-messi/2...   Argentina   33    93   \n",
       "1  http://sofifa.com/player/20801/c-ronaldo-dos-s...    Portugal   35    92   \n",
       "2  http://sofifa.com/player/200389/jan-oblak/210006/    Slovenia   27    91   \n",
       "3  http://sofifa.com/player/192985/kevin-de-bruyn...     Belgium   29    91   \n",
       "4  http://sofifa.com/player/190871/neymar-da-silv...      Brazil   28    91   \n",
       "\n",
       "   POT                         Club  ...     A/W     D/W   IR PAC SHO  PAS  \\\n",
       "0   93         \\n\\n\\n\\nFC Barcelona  ...  Medium     Low  5 ★  85  92   91   \n",
       "1   92             \\n\\n\\n\\nJuventus  ...    High     Low  5 ★  89  93   81   \n",
       "2   93      \\n\\n\\n\\nAtlético Madrid  ...  Medium  Medium  3 ★  87  92   78   \n",
       "3   91      \\n\\n\\n\\nManchester City  ...    High    High  4 ★  76  86   93   \n",
       "4   91  \\n\\n\\n\\nParis Saint-Germain  ...    High  Medium  5 ★  91  85   86   \n",
       "\n",
       "  DRI DEF PHY Hits  \n",
       "0  95  38  65  771  \n",
       "1  89  35  77  562  \n",
       "2  90  52  90  150  \n",
       "3  88  64  78  207  \n",
       "4  94  36  59  595  \n",
       "\n",
       "[5 rows x 77 columns]"
      ]
     },
     "execution_count": 2,
     "metadata": {},
     "output_type": "execute_result"
    }
   ],
   "source": [
    "data = pd.read_csv(\"/kaggle/input/fifa-21-messy-raw-dataset-for-cleaning-exploring/fifa21 raw data v2.csv\")\n",
    "data.head()"
   ]
  },
  {
   "cell_type": "code",
   "execution_count": 3,
   "id": "129eb46e",
   "metadata": {
    "_cell_guid": "9f166795-e9cb-4873-b972-1c8ddb502cfc",
    "_uuid": "c0a635c4-9e76-4689-a323-0f0966bf25b5",
    "collapsed": false,
    "execution": {
     "iopub.execute_input": "2023-11-30T00:23:37.209696Z",
     "iopub.status.busy": "2023-11-30T00:23:37.209203Z",
     "iopub.status.idle": "2023-11-30T00:23:37.218103Z",
     "shell.execute_reply": "2023-11-30T00:23:37.216882Z"
    },
    "jupyter": {
     "outputs_hidden": false
    },
    "papermill": {
     "duration": 0.043917,
     "end_time": "2023-11-30T00:23:37.220618",
     "exception": false,
     "start_time": "2023-11-30T00:23:37.176701",
     "status": "completed"
    },
    "tags": []
   },
   "outputs": [
    {
     "data": {
      "text/plain": [
       "Index(['ID', 'Name', 'LongName', 'photoUrl', 'playerUrl', 'Nationality', 'Age',\n",
       "       '↓OVA', 'POT', 'Club', 'Contract', 'Positions', 'Height', 'Weight',\n",
       "       'Preferred Foot', 'BOV', 'Best Position', 'Joined', 'Loan Date End',\n",
       "       'Value', 'Wage', 'Release Clause', 'Attacking', 'Crossing', 'Finishing',\n",
       "       'Heading Accuracy', 'Short Passing', 'Volleys', 'Skill', 'Dribbling',\n",
       "       'Curve', 'FK Accuracy', 'Long Passing', 'Ball Control', 'Movement',\n",
       "       'Acceleration', 'Sprint Speed', 'Agility', 'Reactions', 'Balance',\n",
       "       'Power', 'Shot Power', 'Jumping', 'Stamina', 'Strength', 'Long Shots',\n",
       "       'Mentality', 'Aggression', 'Interceptions', 'Positioning', 'Vision',\n",
       "       'Penalties', 'Composure', 'Defending', 'Marking', 'Standing Tackle',\n",
       "       'Sliding Tackle', 'Goalkeeping', 'GK Diving', 'GK Handling',\n",
       "       'GK Kicking', 'GK Positioning', 'GK Reflexes', 'Total Stats',\n",
       "       'Base Stats', 'W/F', 'SM', 'A/W', 'D/W', 'IR', 'PAC', 'SHO', 'PAS',\n",
       "       'DRI', 'DEF', 'PHY', 'Hits'],\n",
       "      dtype='object')"
      ]
     },
     "execution_count": 3,
     "metadata": {},
     "output_type": "execute_result"
    }
   ],
   "source": [
    "data.columns"
   ]
  },
  {
   "cell_type": "markdown",
   "id": "db117eda",
   "metadata": {
    "_cell_guid": "960bbc73-9118-4798-8151-bd6056c9585e",
    "_uuid": "1952cc81-e8c2-44fc-8cb9-3da731fd7831",
    "papermill": {
     "duration": 0.022469,
     "end_time": "2023-11-30T00:23:37.265453",
     "exception": false,
     "start_time": "2023-11-30T00:23:37.242984",
     "status": "completed"
    },
    "tags": []
   },
   "source": [
    "To decide my atrributes from the dataset i am using my football knowledge to pick criterias that directly affect or rather determin a players stats"
   ]
  },
  {
   "cell_type": "code",
   "execution_count": 4,
   "id": "f8c6f4e2",
   "metadata": {
    "_cell_guid": "5e9f94ce-8aa0-496b-957e-1c54f5c3a9f0",
    "_uuid": "e95a60bf-a73c-437a-ac68-f194dafc065b",
    "collapsed": false,
    "execution": {
     "iopub.execute_input": "2023-11-30T00:23:37.314654Z",
     "iopub.status.busy": "2023-11-30T00:23:37.314279Z",
     "iopub.status.idle": "2023-11-30T00:23:37.347901Z",
     "shell.execute_reply": "2023-11-30T00:23:37.346703Z"
    },
    "jupyter": {
     "outputs_hidden": false
    },
    "papermill": {
     "duration": 0.059637,
     "end_time": "2023-11-30T00:23:37.350335",
     "exception": false,
     "start_time": "2023-11-30T00:23:37.290698",
     "status": "completed"
    },
    "tags": []
   },
   "outputs": [
    {
     "data": {
      "text/html": [
       "<div>\n",
       "<style scoped>\n",
       "    .dataframe tbody tr th:only-of-type {\n",
       "        vertical-align: middle;\n",
       "    }\n",
       "\n",
       "    .dataframe tbody tr th {\n",
       "        vertical-align: top;\n",
       "    }\n",
       "\n",
       "    .dataframe thead th {\n",
       "        text-align: right;\n",
       "    }\n",
       "</style>\n",
       "<table border=\"1\" class=\"dataframe\">\n",
       "  <thead>\n",
       "    <tr style=\"text-align: right;\">\n",
       "      <th></th>\n",
       "      <th>Name</th>\n",
       "      <th>Nationality</th>\n",
       "      <th>Age</th>\n",
       "      <th>Club</th>\n",
       "      <th>Position</th>\n",
       "      <th>Value</th>\n",
       "      <th>Wage</th>\n",
       "      <th>Rating Level</th>\n",
       "    </tr>\n",
       "  </thead>\n",
       "  <tbody>\n",
       "    <tr>\n",
       "      <th>0</th>\n",
       "      <td>L. Messi</td>\n",
       "      <td>Argentina</td>\n",
       "      <td>33</td>\n",
       "      <td>\\n\\n\\n\\nFC Barcelona</td>\n",
       "      <td>RW</td>\n",
       "      <td>€103.5M</td>\n",
       "      <td>€560K</td>\n",
       "      <td>93</td>\n",
       "    </tr>\n",
       "    <tr>\n",
       "      <th>1</th>\n",
       "      <td>Cristiano Ronaldo</td>\n",
       "      <td>Portugal</td>\n",
       "      <td>35</td>\n",
       "      <td>\\n\\n\\n\\nJuventus</td>\n",
       "      <td>ST</td>\n",
       "      <td>€63M</td>\n",
       "      <td>€220K</td>\n",
       "      <td>92</td>\n",
       "    </tr>\n",
       "    <tr>\n",
       "      <th>2</th>\n",
       "      <td>J. Oblak</td>\n",
       "      <td>Slovenia</td>\n",
       "      <td>27</td>\n",
       "      <td>\\n\\n\\n\\nAtlético Madrid</td>\n",
       "      <td>GK</td>\n",
       "      <td>€120M</td>\n",
       "      <td>€125K</td>\n",
       "      <td>91</td>\n",
       "    </tr>\n",
       "    <tr>\n",
       "      <th>3</th>\n",
       "      <td>K. De Bruyne</td>\n",
       "      <td>Belgium</td>\n",
       "      <td>29</td>\n",
       "      <td>\\n\\n\\n\\nManchester City</td>\n",
       "      <td>CAM</td>\n",
       "      <td>€129M</td>\n",
       "      <td>€370K</td>\n",
       "      <td>91</td>\n",
       "    </tr>\n",
       "    <tr>\n",
       "      <th>4</th>\n",
       "      <td>Neymar Jr</td>\n",
       "      <td>Brazil</td>\n",
       "      <td>28</td>\n",
       "      <td>\\n\\n\\n\\nParis Saint-Germain</td>\n",
       "      <td>LW</td>\n",
       "      <td>€132M</td>\n",
       "      <td>€270K</td>\n",
       "      <td>91</td>\n",
       "    </tr>\n",
       "    <tr>\n",
       "      <th>...</th>\n",
       "      <td>...</td>\n",
       "      <td>...</td>\n",
       "      <td>...</td>\n",
       "      <td>...</td>\n",
       "      <td>...</td>\n",
       "      <td>...</td>\n",
       "      <td>...</td>\n",
       "      <td>...</td>\n",
       "    </tr>\n",
       "    <tr>\n",
       "      <th>18974</th>\n",
       "      <td>Xia Ao</td>\n",
       "      <td>China PR</td>\n",
       "      <td>21</td>\n",
       "      <td>\\n\\n\\n\\nWuhan Zall</td>\n",
       "      <td>CB</td>\n",
       "      <td>€100K</td>\n",
       "      <td>€1K</td>\n",
       "      <td>47</td>\n",
       "    </tr>\n",
       "    <tr>\n",
       "      <th>18975</th>\n",
       "      <td>B. Hough</td>\n",
       "      <td>England</td>\n",
       "      <td>17</td>\n",
       "      <td>\\n\\n\\n\\nOldham Athletic</td>\n",
       "      <td>CAM</td>\n",
       "      <td>€130K</td>\n",
       "      <td>€500</td>\n",
       "      <td>47</td>\n",
       "    </tr>\n",
       "    <tr>\n",
       "      <th>18976</th>\n",
       "      <td>R. McKinley</td>\n",
       "      <td>England</td>\n",
       "      <td>18</td>\n",
       "      <td>\\n\\n\\n\\nDerry City</td>\n",
       "      <td>CAM</td>\n",
       "      <td>€120K</td>\n",
       "      <td>€500</td>\n",
       "      <td>47</td>\n",
       "    </tr>\n",
       "    <tr>\n",
       "      <th>18977</th>\n",
       "      <td>Wang Zhen'ao</td>\n",
       "      <td>China PR</td>\n",
       "      <td>20</td>\n",
       "      <td>\\n\\n\\n\\nDalian YiFang FC</td>\n",
       "      <td>ST</td>\n",
       "      <td>€100K</td>\n",
       "      <td>€2K</td>\n",
       "      <td>47</td>\n",
       "    </tr>\n",
       "    <tr>\n",
       "      <th>18978</th>\n",
       "      <td>Zhou Xiao</td>\n",
       "      <td>China PR</td>\n",
       "      <td>21</td>\n",
       "      <td>\\n\\n\\n\\nDalian YiFang FC</td>\n",
       "      <td>LB</td>\n",
       "      <td>€100K</td>\n",
       "      <td>€1K</td>\n",
       "      <td>47</td>\n",
       "    </tr>\n",
       "  </tbody>\n",
       "</table>\n",
       "<p>18979 rows × 8 columns</p>\n",
       "</div>"
      ],
      "text/plain": [
       "                    Name Nationality  Age                         Club  \\\n",
       "0               L. Messi   Argentina   33         \\n\\n\\n\\nFC Barcelona   \n",
       "1      Cristiano Ronaldo    Portugal   35             \\n\\n\\n\\nJuventus   \n",
       "2               J. Oblak    Slovenia   27      \\n\\n\\n\\nAtlético Madrid   \n",
       "3           K. De Bruyne     Belgium   29      \\n\\n\\n\\nManchester City   \n",
       "4              Neymar Jr      Brazil   28  \\n\\n\\n\\nParis Saint-Germain   \n",
       "...                  ...         ...  ...                          ...   \n",
       "18974             Xia Ao    China PR   21           \\n\\n\\n\\nWuhan Zall   \n",
       "18975           B. Hough     England   17      \\n\\n\\n\\nOldham Athletic   \n",
       "18976        R. McKinley     England   18           \\n\\n\\n\\nDerry City   \n",
       "18977       Wang Zhen'ao    China PR   20     \\n\\n\\n\\nDalian YiFang FC   \n",
       "18978          Zhou Xiao    China PR   21     \\n\\n\\n\\nDalian YiFang FC   \n",
       "\n",
       "      Position    Value   Wage  Rating Level  \n",
       "0           RW  €103.5M  €560K            93  \n",
       "1           ST     €63M  €220K            92  \n",
       "2           GK    €120M  €125K            91  \n",
       "3          CAM    €129M  €370K            91  \n",
       "4           LW    €132M  €270K            91  \n",
       "...        ...      ...    ...           ...  \n",
       "18974       CB    €100K    €1K            47  \n",
       "18975      CAM    €130K   €500            47  \n",
       "18976      CAM    €120K   €500            47  \n",
       "18977       ST    €100K    €2K            47  \n",
       "18978       LB    €100K    €1K            47  \n",
       "\n",
       "[18979 rows x 8 columns]"
      ]
     },
     "execution_count": 4,
     "metadata": {},
     "output_type": "execute_result"
    }
   ],
   "source": [
    "df = pd.DataFrame(columns=['Name', 'Nationality', 'Age', 'Club', 'Position', 'Value', 'Wage'])\n",
    "df['Name'] = data.iloc[:, 1]  \n",
    "df['Nationality'] = data.iloc[:, 5]\n",
    "df['Age'] = data.iloc[:, 6]\n",
    "df['Club'] = data.iloc[:, 9]\n",
    "df['Position'] = data.iloc[:, 16]\n",
    "df['Value'] = data.iloc[:, 19]\n",
    "df['Wage'] = data.iloc[:, 20]\n",
    "df['Rating Level'] = data.iloc[:, 7]\n",
    "df"
   ]
  },
  {
   "cell_type": "markdown",
   "id": "b59bbd18",
   "metadata": {
    "_cell_guid": "669f86f9-49c0-4650-9ab1-e0772ac459de",
    "_uuid": "3c59de65-02f1-4b2f-b2b6-f4c2427e85d4",
    "papermill": {
     "duration": 0.021835,
     "end_time": "2023-11-30T00:23:37.394399",
     "exception": false,
     "start_time": "2023-11-30T00:23:37.372564",
     "status": "completed"
    },
    "tags": []
   },
   "source": [
    "Cleaning the dataset where i need to"
   ]
  },
  {
   "cell_type": "code",
   "execution_count": 5,
   "id": "bafb7c58",
   "metadata": {
    "_cell_guid": "e8e948d0-ca50-4115-9dec-2e13e800f6c3",
    "_uuid": "905f89eb-f272-4b0e-8a13-d63d808b4972",
    "collapsed": false,
    "execution": {
     "iopub.execute_input": "2023-11-30T00:23:37.446672Z",
     "iopub.status.busy": "2023-11-30T00:23:37.446181Z",
     "iopub.status.idle": "2023-11-30T00:23:37.462071Z",
     "shell.execute_reply": "2023-11-30T00:23:37.460915Z"
    },
    "jupyter": {
     "outputs_hidden": false
    },
    "papermill": {
     "duration": 0.044653,
     "end_time": "2023-11-30T00:23:37.464401",
     "exception": false,
     "start_time": "2023-11-30T00:23:37.419748",
     "status": "completed"
    },
    "tags": []
   },
   "outputs": [
    {
     "data": {
      "text/plain": [
       "array(['Argentina', 'Portugal', 'Slovenia', 'Belgium', 'Brazil', 'Poland',\n",
       "       'Egypt', 'France', 'Germany', 'Netherlands', 'Senegal', 'Spain',\n",
       "       'England', 'Scotland', 'Korea Republic', 'Costa Rica', 'Italy',\n",
       "       'Gabon', 'Croatia', 'Uruguay', 'Switzerland', 'Serbia', 'Slovakia',\n",
       "       'Morocco', 'Algeria', 'Denmark', 'Hungary', 'Bosnia Herzegovina',\n",
       "       'Nigeria', 'Cameroon', 'Norway', 'Ghana', 'Mexico', 'Austria',\n",
       "       'Albania', 'Colombia', 'Chile', 'Ivory Coast', 'Greece', 'Finland',\n",
       "       'Wales', 'Sweden', 'Togo', 'Czech Republic', 'Russia', 'Venezuela',\n",
       "       'Canada', 'United States', 'Guinea', 'Montenegro', 'Israel',\n",
       "       'Republic of Ireland', 'Ukraine', 'Turkey', 'Ecuador', 'Jamaica',\n",
       "       'DR Congo', 'Australia', 'China PR', 'Armenia', 'Northern Ireland',\n",
       "       'North Macedonia', 'Kosovo', 'Mali', 'Peru',\n",
       "       'Central African Republic', 'Iceland', 'Burkina Faso', 'Paraguay',\n",
       "       'Japan', 'Romania', 'New Zealand', 'Iran', 'Angola', 'Tunisia',\n",
       "       'Syria', 'Dominican Republic', 'Cape Verde', 'Equatorial Guinea',\n",
       "       'Kenya', 'Georgia', 'Panama', 'Zambia', 'Tanzania', 'Zimbabwe',\n",
       "       'Congo', 'South Africa', 'Moldova', 'Mozambique', 'Iraq',\n",
       "       'Guinea Bissau', 'Honduras', 'Cuba', 'Cyprus', 'Lithuania',\n",
       "       'Estonia', 'Madagascar', 'Benin', 'Curacao', 'Saudi Arabia',\n",
       "       'Gambia', 'Uzbekistan', 'Chad', 'United Arab Emirates',\n",
       "       'Saint Kitts and Nevis', 'Libya', 'Sierra Leone', 'Philippines',\n",
       "       'Liberia', 'Bulgaria', 'Comoros', 'Namibia', 'Luxembourg',\n",
       "       'Trinidad & Tobago', 'Bermuda', 'Thailand', 'Burundi',\n",
       "       'New Caledonia', 'Puerto Rico', 'Bolivia', 'Kazakhstan',\n",
       "       'Antigua & Barbuda', 'Latvia', 'Malawi', 'Montserrat',\n",
       "       'São Tomé & Príncipe', 'El Salvador', 'Mauritania', 'Jordan',\n",
       "       'Eritrea', 'Aruba', 'Uganda', 'Chinese Taipei', 'Azerbaijan',\n",
       "       'Afghanistan', 'Faroe Islands', 'Haiti', 'Sudan', 'Grenada',\n",
       "       'Lebanon', 'Guam', 'Palestine', 'Belarus', 'Guyana', 'Rwanda',\n",
       "       'Liechtenstein', 'Saint Lucia', 'Papua New Guinea', 'India',\n",
       "       'Ethiopia', 'Belize', 'Andorra', 'Guatemala', 'Malta', 'Niger',\n",
       "       'Korea DPR', 'Barbados', 'Macau', 'South Sudan', 'Singapore',\n",
       "       'Hong Kong', 'Nicaragua', 'Malaysia', 'Indonesia'], dtype=object)"
      ]
     },
     "execution_count": 5,
     "metadata": {},
     "output_type": "execute_result"
    }
   ],
   "source": [
    "df['Nationality'].unique()"
   ]
  },
  {
   "cell_type": "code",
   "execution_count": 6,
   "id": "997073cc",
   "metadata": {
    "_cell_guid": "90669c02-88a3-410a-9af6-7767241be56d",
    "_uuid": "7eea3fb8-ea5e-4efe-80d7-36b9d90e858c",
    "collapsed": false,
    "execution": {
     "iopub.execute_input": "2023-11-30T00:23:37.513417Z",
     "iopub.status.busy": "2023-11-30T00:23:37.512731Z",
     "iopub.status.idle": "2023-11-30T00:23:37.544124Z",
     "shell.execute_reply": "2023-11-30T00:23:37.543048Z"
    },
    "jupyter": {
     "outputs_hidden": false
    },
    "papermill": {
     "duration": 0.057796,
     "end_time": "2023-11-30T00:23:37.546479",
     "exception": false,
     "start_time": "2023-11-30T00:23:37.488683",
     "status": "completed"
    },
    "tags": []
   },
   "outputs": [
    {
     "data": {
      "text/html": [
       "<div>\n",
       "<style scoped>\n",
       "    .dataframe tbody tr th:only-of-type {\n",
       "        vertical-align: middle;\n",
       "    }\n",
       "\n",
       "    .dataframe tbody tr th {\n",
       "        vertical-align: top;\n",
       "    }\n",
       "\n",
       "    .dataframe thead th {\n",
       "        text-align: right;\n",
       "    }\n",
       "</style>\n",
       "<table border=\"1\" class=\"dataframe\">\n",
       "  <thead>\n",
       "    <tr style=\"text-align: right;\">\n",
       "      <th></th>\n",
       "      <th>Name</th>\n",
       "      <th>Nationality</th>\n",
       "      <th>Age</th>\n",
       "      <th>Club</th>\n",
       "      <th>Position</th>\n",
       "      <th>Value</th>\n",
       "      <th>Wage</th>\n",
       "      <th>Rating Level</th>\n",
       "    </tr>\n",
       "  </thead>\n",
       "  <tbody>\n",
       "    <tr>\n",
       "      <th>0</th>\n",
       "      <td>False</td>\n",
       "      <td>False</td>\n",
       "      <td>False</td>\n",
       "      <td>False</td>\n",
       "      <td>False</td>\n",
       "      <td>False</td>\n",
       "      <td>False</td>\n",
       "      <td>False</td>\n",
       "    </tr>\n",
       "    <tr>\n",
       "      <th>1</th>\n",
       "      <td>False</td>\n",
       "      <td>False</td>\n",
       "      <td>False</td>\n",
       "      <td>False</td>\n",
       "      <td>False</td>\n",
       "      <td>False</td>\n",
       "      <td>False</td>\n",
       "      <td>False</td>\n",
       "    </tr>\n",
       "    <tr>\n",
       "      <th>2</th>\n",
       "      <td>False</td>\n",
       "      <td>False</td>\n",
       "      <td>False</td>\n",
       "      <td>False</td>\n",
       "      <td>False</td>\n",
       "      <td>False</td>\n",
       "      <td>False</td>\n",
       "      <td>False</td>\n",
       "    </tr>\n",
       "    <tr>\n",
       "      <th>3</th>\n",
       "      <td>False</td>\n",
       "      <td>False</td>\n",
       "      <td>False</td>\n",
       "      <td>False</td>\n",
       "      <td>False</td>\n",
       "      <td>False</td>\n",
       "      <td>False</td>\n",
       "      <td>False</td>\n",
       "    </tr>\n",
       "    <tr>\n",
       "      <th>4</th>\n",
       "      <td>False</td>\n",
       "      <td>False</td>\n",
       "      <td>False</td>\n",
       "      <td>False</td>\n",
       "      <td>False</td>\n",
       "      <td>False</td>\n",
       "      <td>False</td>\n",
       "      <td>False</td>\n",
       "    </tr>\n",
       "    <tr>\n",
       "      <th>...</th>\n",
       "      <td>...</td>\n",
       "      <td>...</td>\n",
       "      <td>...</td>\n",
       "      <td>...</td>\n",
       "      <td>...</td>\n",
       "      <td>...</td>\n",
       "      <td>...</td>\n",
       "      <td>...</td>\n",
       "    </tr>\n",
       "    <tr>\n",
       "      <th>18974</th>\n",
       "      <td>False</td>\n",
       "      <td>False</td>\n",
       "      <td>False</td>\n",
       "      <td>False</td>\n",
       "      <td>False</td>\n",
       "      <td>False</td>\n",
       "      <td>False</td>\n",
       "      <td>False</td>\n",
       "    </tr>\n",
       "    <tr>\n",
       "      <th>18975</th>\n",
       "      <td>False</td>\n",
       "      <td>False</td>\n",
       "      <td>False</td>\n",
       "      <td>False</td>\n",
       "      <td>False</td>\n",
       "      <td>False</td>\n",
       "      <td>False</td>\n",
       "      <td>False</td>\n",
       "    </tr>\n",
       "    <tr>\n",
       "      <th>18976</th>\n",
       "      <td>False</td>\n",
       "      <td>False</td>\n",
       "      <td>False</td>\n",
       "      <td>False</td>\n",
       "      <td>False</td>\n",
       "      <td>False</td>\n",
       "      <td>False</td>\n",
       "      <td>False</td>\n",
       "    </tr>\n",
       "    <tr>\n",
       "      <th>18977</th>\n",
       "      <td>False</td>\n",
       "      <td>False</td>\n",
       "      <td>False</td>\n",
       "      <td>False</td>\n",
       "      <td>False</td>\n",
       "      <td>False</td>\n",
       "      <td>False</td>\n",
       "      <td>False</td>\n",
       "    </tr>\n",
       "    <tr>\n",
       "      <th>18978</th>\n",
       "      <td>False</td>\n",
       "      <td>False</td>\n",
       "      <td>False</td>\n",
       "      <td>False</td>\n",
       "      <td>False</td>\n",
       "      <td>False</td>\n",
       "      <td>False</td>\n",
       "      <td>False</td>\n",
       "    </tr>\n",
       "  </tbody>\n",
       "</table>\n",
       "<p>18979 rows × 8 columns</p>\n",
       "</div>"
      ],
      "text/plain": [
       "        Name  Nationality    Age   Club  Position  Value   Wage  Rating Level\n",
       "0      False        False  False  False     False  False  False         False\n",
       "1      False        False  False  False     False  False  False         False\n",
       "2      False        False  False  False     False  False  False         False\n",
       "3      False        False  False  False     False  False  False         False\n",
       "4      False        False  False  False     False  False  False         False\n",
       "...      ...          ...    ...    ...       ...    ...    ...           ...\n",
       "18974  False        False  False  False     False  False  False         False\n",
       "18975  False        False  False  False     False  False  False         False\n",
       "18976  False        False  False  False     False  False  False         False\n",
       "18977  False        False  False  False     False  False  False         False\n",
       "18978  False        False  False  False     False  False  False         False\n",
       "\n",
       "[18979 rows x 8 columns]"
      ]
     },
     "execution_count": 6,
     "metadata": {},
     "output_type": "execute_result"
    }
   ],
   "source": [
    "df.isna()"
   ]
  },
  {
   "cell_type": "code",
   "execution_count": 7,
   "id": "d80b61ba",
   "metadata": {
    "_cell_guid": "22739896-5c03-452f-849e-3754c6d83ba3",
    "_uuid": "10d41f33-9119-44b6-964a-bc04e511bc3d",
    "collapsed": false,
    "execution": {
     "iopub.execute_input": "2023-11-30T00:23:37.594308Z",
     "iopub.status.busy": "2023-11-30T00:23:37.593663Z",
     "iopub.status.idle": "2023-11-30T00:23:37.602429Z",
     "shell.execute_reply": "2023-11-30T00:23:37.601660Z"
    },
    "jupyter": {
     "outputs_hidden": false
    },
    "papermill": {
     "duration": 0.034984,
     "end_time": "2023-11-30T00:23:37.604455",
     "exception": false,
     "start_time": "2023-11-30T00:23:37.569471",
     "status": "completed"
    },
    "tags": []
   },
   "outputs": [
    {
     "data": {
      "text/plain": [
       "0               \\n\\n\\n\\nFC Barcelona\n",
       "1                   \\n\\n\\n\\nJuventus\n",
       "2            \\n\\n\\n\\nAtlético Madrid\n",
       "3            \\n\\n\\n\\nManchester City\n",
       "4        \\n\\n\\n\\nParis Saint-Germain\n",
       "                    ...             \n",
       "18974             \\n\\n\\n\\nWuhan Zall\n",
       "18975        \\n\\n\\n\\nOldham Athletic\n",
       "18976             \\n\\n\\n\\nDerry City\n",
       "18977       \\n\\n\\n\\nDalian YiFang FC\n",
       "18978       \\n\\n\\n\\nDalian YiFang FC\n",
       "Name: Club, Length: 18979, dtype: object"
      ]
     },
     "execution_count": 7,
     "metadata": {},
     "output_type": "execute_result"
    }
   ],
   "source": [
    "df['Club'] \n",
    "#there are a lot of /n which i would have to get rid of"
   ]
  },
  {
   "cell_type": "code",
   "execution_count": 8,
   "id": "1c6cd089",
   "metadata": {
    "_cell_guid": "92053259-c155-4a81-b673-86dfb1fd7468",
    "_uuid": "64b542ce-5656-4535-9186-4e7ce7f795b7",
    "collapsed": false,
    "execution": {
     "iopub.execute_input": "2023-11-30T00:23:37.653745Z",
     "iopub.status.busy": "2023-11-30T00:23:37.653348Z",
     "iopub.status.idle": "2023-11-30T00:23:37.675350Z",
     "shell.execute_reply": "2023-11-30T00:23:37.674500Z"
    },
    "jupyter": {
     "outputs_hidden": false
    },
    "papermill": {
     "duration": 0.049642,
     "end_time": "2023-11-30T00:23:37.677646",
     "exception": false,
     "start_time": "2023-11-30T00:23:37.628004",
     "status": "completed"
    },
    "tags": []
   },
   "outputs": [
    {
     "data": {
      "text/plain": [
       "0               FC Barcelona\n",
       "1                   Juventus\n",
       "2            Atlético Madrid\n",
       "3            Manchester City\n",
       "4        Paris Saint-Germain\n",
       "                ...         \n",
       "18974             Wuhan Zall\n",
       "18975        Oldham Athletic\n",
       "18976             Derry City\n",
       "18977       Dalian YiFang FC\n",
       "18978       Dalian YiFang FC\n",
       "Name: Club, Length: 18979, dtype: object"
      ]
     },
     "execution_count": 8,
     "metadata": {},
     "output_type": "execute_result"
    }
   ],
   "source": [
    "df['Club'] = df['Club'].str.lstrip('\\n') #using the str.lstrip fuction to remove all /n that was in the code\n",
    "df['Club']"
   ]
  },
  {
   "cell_type": "markdown",
   "id": "08a8579a",
   "metadata": {
    "_cell_guid": "c0fe0001-ca15-4537-9e46-1cf55a5c1e98",
    "_uuid": "22421169-a045-49e8-9669-6943113a8de1",
    "papermill": {
     "duration": 0.022657,
     "end_time": "2023-11-30T00:23:37.723535",
     "exception": false,
     "start_time": "2023-11-30T00:23:37.700878",
     "status": "completed"
    },
    "tags": []
   },
   "source": [
    "grouping the overall ratings into low(40-59) mid(60-79) high(80-99)"
   ]
  },
  {
   "cell_type": "code",
   "execution_count": 9,
   "id": "70126bef",
   "metadata": {
    "_cell_guid": "0d265e68-a30a-4f5c-94bc-f7241ba565df",
    "_uuid": "a01a0a81-d22f-4a4d-8d55-71be4895facd",
    "collapsed": false,
    "execution": {
     "iopub.execute_input": "2023-11-30T00:23:37.836191Z",
     "iopub.status.busy": "2023-11-30T00:23:37.835729Z",
     "iopub.status.idle": "2023-11-30T00:23:37.867619Z",
     "shell.execute_reply": "2023-11-30T00:23:37.866632Z"
    },
    "jupyter": {
     "outputs_hidden": false
    },
    "papermill": {
     "duration": 0.059726,
     "end_time": "2023-11-30T00:23:37.870039",
     "exception": false,
     "start_time": "2023-11-30T00:23:37.810313",
     "status": "completed"
    },
    "tags": []
   },
   "outputs": [
    {
     "data": {
      "text/html": [
       "<div>\n",
       "<style scoped>\n",
       "    .dataframe tbody tr th:only-of-type {\n",
       "        vertical-align: middle;\n",
       "    }\n",
       "\n",
       "    .dataframe tbody tr th {\n",
       "        vertical-align: top;\n",
       "    }\n",
       "\n",
       "    .dataframe thead th {\n",
       "        text-align: right;\n",
       "    }\n",
       "</style>\n",
       "<table border=\"1\" class=\"dataframe\">\n",
       "  <thead>\n",
       "    <tr style=\"text-align: right;\">\n",
       "      <th></th>\n",
       "      <th>Name</th>\n",
       "      <th>Nationality</th>\n",
       "      <th>Age</th>\n",
       "      <th>Club</th>\n",
       "      <th>Position</th>\n",
       "      <th>Value</th>\n",
       "      <th>Wage</th>\n",
       "      <th>Rating Level</th>\n",
       "      <th>Rating</th>\n",
       "    </tr>\n",
       "  </thead>\n",
       "  <tbody>\n",
       "    <tr>\n",
       "      <th>0</th>\n",
       "      <td>L. Messi</td>\n",
       "      <td>Argentina</td>\n",
       "      <td>33</td>\n",
       "      <td>FC Barcelona</td>\n",
       "      <td>RW</td>\n",
       "      <td>€103.5M</td>\n",
       "      <td>€560K</td>\n",
       "      <td>93</td>\n",
       "      <td>High</td>\n",
       "    </tr>\n",
       "    <tr>\n",
       "      <th>1</th>\n",
       "      <td>Cristiano Ronaldo</td>\n",
       "      <td>Portugal</td>\n",
       "      <td>35</td>\n",
       "      <td>Juventus</td>\n",
       "      <td>ST</td>\n",
       "      <td>€63M</td>\n",
       "      <td>€220K</td>\n",
       "      <td>92</td>\n",
       "      <td>High</td>\n",
       "    </tr>\n",
       "    <tr>\n",
       "      <th>2</th>\n",
       "      <td>J. Oblak</td>\n",
       "      <td>Slovenia</td>\n",
       "      <td>27</td>\n",
       "      <td>Atlético Madrid</td>\n",
       "      <td>GK</td>\n",
       "      <td>€120M</td>\n",
       "      <td>€125K</td>\n",
       "      <td>91</td>\n",
       "      <td>High</td>\n",
       "    </tr>\n",
       "    <tr>\n",
       "      <th>3</th>\n",
       "      <td>K. De Bruyne</td>\n",
       "      <td>Belgium</td>\n",
       "      <td>29</td>\n",
       "      <td>Manchester City</td>\n",
       "      <td>CAM</td>\n",
       "      <td>€129M</td>\n",
       "      <td>€370K</td>\n",
       "      <td>91</td>\n",
       "      <td>High</td>\n",
       "    </tr>\n",
       "    <tr>\n",
       "      <th>4</th>\n",
       "      <td>Neymar Jr</td>\n",
       "      <td>Brazil</td>\n",
       "      <td>28</td>\n",
       "      <td>Paris Saint-Germain</td>\n",
       "      <td>LW</td>\n",
       "      <td>€132M</td>\n",
       "      <td>€270K</td>\n",
       "      <td>91</td>\n",
       "      <td>High</td>\n",
       "    </tr>\n",
       "    <tr>\n",
       "      <th>...</th>\n",
       "      <td>...</td>\n",
       "      <td>...</td>\n",
       "      <td>...</td>\n",
       "      <td>...</td>\n",
       "      <td>...</td>\n",
       "      <td>...</td>\n",
       "      <td>...</td>\n",
       "      <td>...</td>\n",
       "      <td>...</td>\n",
       "    </tr>\n",
       "    <tr>\n",
       "      <th>18974</th>\n",
       "      <td>Xia Ao</td>\n",
       "      <td>China PR</td>\n",
       "      <td>21</td>\n",
       "      <td>Wuhan Zall</td>\n",
       "      <td>CB</td>\n",
       "      <td>€100K</td>\n",
       "      <td>€1K</td>\n",
       "      <td>47</td>\n",
       "      <td>Low</td>\n",
       "    </tr>\n",
       "    <tr>\n",
       "      <th>18975</th>\n",
       "      <td>B. Hough</td>\n",
       "      <td>England</td>\n",
       "      <td>17</td>\n",
       "      <td>Oldham Athletic</td>\n",
       "      <td>CAM</td>\n",
       "      <td>€130K</td>\n",
       "      <td>€500</td>\n",
       "      <td>47</td>\n",
       "      <td>Low</td>\n",
       "    </tr>\n",
       "    <tr>\n",
       "      <th>18976</th>\n",
       "      <td>R. McKinley</td>\n",
       "      <td>England</td>\n",
       "      <td>18</td>\n",
       "      <td>Derry City</td>\n",
       "      <td>CAM</td>\n",
       "      <td>€120K</td>\n",
       "      <td>€500</td>\n",
       "      <td>47</td>\n",
       "      <td>Low</td>\n",
       "    </tr>\n",
       "    <tr>\n",
       "      <th>18977</th>\n",
       "      <td>Wang Zhen'ao</td>\n",
       "      <td>China PR</td>\n",
       "      <td>20</td>\n",
       "      <td>Dalian YiFang FC</td>\n",
       "      <td>ST</td>\n",
       "      <td>€100K</td>\n",
       "      <td>€2K</td>\n",
       "      <td>47</td>\n",
       "      <td>Low</td>\n",
       "    </tr>\n",
       "    <tr>\n",
       "      <th>18978</th>\n",
       "      <td>Zhou Xiao</td>\n",
       "      <td>China PR</td>\n",
       "      <td>21</td>\n",
       "      <td>Dalian YiFang FC</td>\n",
       "      <td>LB</td>\n",
       "      <td>€100K</td>\n",
       "      <td>€1K</td>\n",
       "      <td>47</td>\n",
       "      <td>Low</td>\n",
       "    </tr>\n",
       "  </tbody>\n",
       "</table>\n",
       "<p>18979 rows × 9 columns</p>\n",
       "</div>"
      ],
      "text/plain": [
       "                    Name Nationality  Age                 Club Position  \\\n",
       "0               L. Messi   Argentina   33         FC Barcelona       RW   \n",
       "1      Cristiano Ronaldo    Portugal   35             Juventus       ST   \n",
       "2               J. Oblak    Slovenia   27      Atlético Madrid       GK   \n",
       "3           K. De Bruyne     Belgium   29      Manchester City      CAM   \n",
       "4              Neymar Jr      Brazil   28  Paris Saint-Germain       LW   \n",
       "...                  ...         ...  ...                  ...      ...   \n",
       "18974             Xia Ao    China PR   21           Wuhan Zall       CB   \n",
       "18975           B. Hough     England   17      Oldham Athletic      CAM   \n",
       "18976        R. McKinley     England   18           Derry City      CAM   \n",
       "18977       Wang Zhen'ao    China PR   20     Dalian YiFang FC       ST   \n",
       "18978          Zhou Xiao    China PR   21     Dalian YiFang FC       LB   \n",
       "\n",
       "         Value   Wage  Rating Level Rating  \n",
       "0      €103.5M  €560K            93   High  \n",
       "1         €63M  €220K            92   High  \n",
       "2        €120M  €125K            91   High  \n",
       "3        €129M  €370K            91   High  \n",
       "4        €132M  €270K            91   High  \n",
       "...        ...    ...           ...    ...  \n",
       "18974    €100K    €1K            47    Low  \n",
       "18975    €130K   €500            47    Low  \n",
       "18976    €120K   €500            47    Low  \n",
       "18977    €100K    €2K            47    Low  \n",
       "18978    €100K    €1K            47    Low  \n",
       "\n",
       "[18979 rows x 9 columns]"
      ]
     },
     "execution_count": 9,
     "metadata": {},
     "output_type": "execute_result"
    }
   ],
   "source": [
    "def categorize_rating(rating):\n",
    "    if 40 <= rating < 60:\n",
    "        return 'Low'\n",
    "    elif 60 <= rating < 80:\n",
    "        return 'Mid'\n",
    "    elif 80 <= rating <= 99:\n",
    "        return 'High'\n",
    "\n",
    "# Applying the categorize_rating function to create the 'Rating' column\n",
    "df['Rating'] = df['Rating Level'].apply(categorize_rating)\n",
    "df"
   ]
  },
  {
   "cell_type": "markdown",
   "id": "0b413e9e",
   "metadata": {
    "_cell_guid": "d8defa26-4763-40f9-863b-3335fd8b36b2",
    "_uuid": "420af7cc-00be-49f4-8db0-15bec18e1170",
    "papermill": {
     "duration": 0.023732,
     "end_time": "2023-11-30T00:23:37.917971",
     "exception": false,
     "start_time": "2023-11-30T00:23:37.894239",
     "status": "completed"
    },
    "tags": []
   },
   "source": [
    "cleaning the wage so that it can be converted to integar"
   ]
  },
  {
   "cell_type": "code",
   "execution_count": 10,
   "id": "98cd7148",
   "metadata": {
    "_cell_guid": "81880f99-17be-4858-91f6-49e8da0af006",
    "_uuid": "d4b19d5a-9ac8-4866-90fc-6130e3d369e4",
    "collapsed": false,
    "execution": {
     "iopub.execute_input": "2023-11-30T00:23:37.969642Z",
     "iopub.status.busy": "2023-11-30T00:23:37.969230Z",
     "iopub.status.idle": "2023-11-30T00:23:37.993208Z",
     "shell.execute_reply": "2023-11-30T00:23:37.992029Z"
    },
    "jupyter": {
     "outputs_hidden": false
    },
    "papermill": {
     "duration": 0.052466,
     "end_time": "2023-11-30T00:23:37.995912",
     "exception": false,
     "start_time": "2023-11-30T00:23:37.943446",
     "status": "completed"
    },
    "tags": []
   },
   "outputs": [
    {
     "data": {
      "text/plain": [
       "0        560K\n",
       "1        220K\n",
       "2        125K\n",
       "3        370K\n",
       "4        270K\n",
       "         ... \n",
       "18974      1K\n",
       "18975     500\n",
       "18976     500\n",
       "18977      2K\n",
       "18978      1K\n",
       "Name: Wage, Length: 18979, dtype: object"
      ]
     },
     "execution_count": 10,
     "metadata": {},
     "output_type": "execute_result"
    }
   ],
   "source": [
    "df['Wage'] = df['Wage'].str.lstrip('€')\n",
    "df['Wage']"
   ]
  },
  {
   "cell_type": "code",
   "execution_count": 11,
   "id": "a9a1d9f6",
   "metadata": {
    "_cell_guid": "86e42976-a9c3-48ca-be57-e998a3b83fcb",
    "_uuid": "38d56abe-b8f0-43a8-abef-8985d8780e80",
    "collapsed": false,
    "execution": {
     "iopub.execute_input": "2023-11-30T00:23:38.046686Z",
     "iopub.status.busy": "2023-11-30T00:23:38.046275Z",
     "iopub.status.idle": "2023-11-30T00:23:38.085047Z",
     "shell.execute_reply": "2023-11-30T00:23:38.083875Z"
    },
    "jupyter": {
     "outputs_hidden": false
    },
    "papermill": {
     "duration": 0.067136,
     "end_time": "2023-11-30T00:23:38.087545",
     "exception": false,
     "start_time": "2023-11-30T00:23:38.020409",
     "status": "completed"
    },
    "tags": []
   },
   "outputs": [
    {
     "data": {
      "text/plain": [
       "<bound method Series.info of 0        560000\n",
       "1        220000\n",
       "2        125000\n",
       "3        370000\n",
       "4        270000\n",
       "          ...  \n",
       "18974      1000\n",
       "18975       500\n",
       "18976       500\n",
       "18977      2000\n",
       "18978      1000\n",
       "Name: Wage, Length: 18979, dtype: int64>"
      ]
     },
     "execution_count": 11,
     "metadata": {},
     "output_type": "execute_result"
    }
   ],
   "source": [
    "df['Wage'] = df['Wage'].str.replace('K', '000', regex=True)\n",
    "\n",
    "df['Wage'] = df['Wage'].astype(int)\n",
    "\n",
    "df['Wage'].info"
   ]
  },
  {
   "cell_type": "code",
   "execution_count": 12,
   "id": "b104c0a3",
   "metadata": {
    "_cell_guid": "1f9f8f47-2088-4491-a63e-968ac145581f",
    "_uuid": "38cddc33-6216-43ce-9873-3e1a80bb756a",
    "collapsed": false,
    "execution": {
     "iopub.execute_input": "2023-11-30T00:23:38.138427Z",
     "iopub.status.busy": "2023-11-30T00:23:38.138014Z",
     "iopub.status.idle": "2023-11-30T00:23:38.155799Z",
     "shell.execute_reply": "2023-11-30T00:23:38.154505Z"
    },
    "jupyter": {
     "outputs_hidden": false
    },
    "papermill": {
     "duration": 0.046496,
     "end_time": "2023-11-30T00:23:38.158168",
     "exception": false,
     "start_time": "2023-11-30T00:23:38.111672",
     "status": "completed"
    },
    "tags": []
   },
   "outputs": [],
   "source": [
    "df['Value'] = df['Value'].str.lstrip('€')"
   ]
  },
  {
   "cell_type": "code",
   "execution_count": 13,
   "id": "a51990e3",
   "metadata": {
    "_cell_guid": "c4eed75e-d738-4192-9f5a-1e9628fd5230",
    "_uuid": "5865dc52-0f97-4540-b959-1bd8046cf5de",
    "collapsed": false,
    "execution": {
     "iopub.execute_input": "2023-11-30T00:23:38.208225Z",
     "iopub.status.busy": "2023-11-30T00:23:38.207800Z",
     "iopub.status.idle": "2023-11-30T00:23:40.066558Z",
     "shell.execute_reply": "2023-11-30T00:23:40.065314Z"
    },
    "jupyter": {
     "outputs_hidden": false
    },
    "papermill": {
     "duration": 1.886561,
     "end_time": "2023-11-30T00:23:40.068827",
     "exception": false,
     "start_time": "2023-11-30T00:23:38.182266",
     "status": "completed"
    },
    "tags": []
   },
   "outputs": [
    {
     "data": {
      "text/html": [
       "<div>\n",
       "<style scoped>\n",
       "    .dataframe tbody tr th:only-of-type {\n",
       "        vertical-align: middle;\n",
       "    }\n",
       "\n",
       "    .dataframe tbody tr th {\n",
       "        vertical-align: top;\n",
       "    }\n",
       "\n",
       "    .dataframe thead th {\n",
       "        text-align: right;\n",
       "    }\n",
       "</style>\n",
       "<table border=\"1\" class=\"dataframe\">\n",
       "  <thead>\n",
       "    <tr style=\"text-align: right;\">\n",
       "      <th></th>\n",
       "      <th>Name</th>\n",
       "      <th>Nationality</th>\n",
       "      <th>Age</th>\n",
       "      <th>Club</th>\n",
       "      <th>Position</th>\n",
       "      <th>Value</th>\n",
       "      <th>Wage</th>\n",
       "      <th>Rating Level</th>\n",
       "      <th>Rating</th>\n",
       "    </tr>\n",
       "  </thead>\n",
       "  <tbody>\n",
       "    <tr>\n",
       "      <th>0</th>\n",
       "      <td>L. Messi</td>\n",
       "      <td>Argentina</td>\n",
       "      <td>33</td>\n",
       "      <td>FC Barcelona</td>\n",
       "      <td>RW</td>\n",
       "      <td>103500000</td>\n",
       "      <td>560000</td>\n",
       "      <td>93</td>\n",
       "      <td>High</td>\n",
       "    </tr>\n",
       "    <tr>\n",
       "      <th>1</th>\n",
       "      <td>Cristiano Ronaldo</td>\n",
       "      <td>Portugal</td>\n",
       "      <td>35</td>\n",
       "      <td>Juventus</td>\n",
       "      <td>ST</td>\n",
       "      <td>63000000</td>\n",
       "      <td>220000</td>\n",
       "      <td>92</td>\n",
       "      <td>High</td>\n",
       "    </tr>\n",
       "    <tr>\n",
       "      <th>2</th>\n",
       "      <td>J. Oblak</td>\n",
       "      <td>Slovenia</td>\n",
       "      <td>27</td>\n",
       "      <td>Atlético Madrid</td>\n",
       "      <td>GK</td>\n",
       "      <td>120000000</td>\n",
       "      <td>125000</td>\n",
       "      <td>91</td>\n",
       "      <td>High</td>\n",
       "    </tr>\n",
       "    <tr>\n",
       "      <th>3</th>\n",
       "      <td>K. De Bruyne</td>\n",
       "      <td>Belgium</td>\n",
       "      <td>29</td>\n",
       "      <td>Manchester City</td>\n",
       "      <td>CAM</td>\n",
       "      <td>129000000</td>\n",
       "      <td>370000</td>\n",
       "      <td>91</td>\n",
       "      <td>High</td>\n",
       "    </tr>\n",
       "    <tr>\n",
       "      <th>4</th>\n",
       "      <td>Neymar Jr</td>\n",
       "      <td>Brazil</td>\n",
       "      <td>28</td>\n",
       "      <td>Paris Saint-Germain</td>\n",
       "      <td>LW</td>\n",
       "      <td>132000000</td>\n",
       "      <td>270000</td>\n",
       "      <td>91</td>\n",
       "      <td>High</td>\n",
       "    </tr>\n",
       "    <tr>\n",
       "      <th>...</th>\n",
       "      <td>...</td>\n",
       "      <td>...</td>\n",
       "      <td>...</td>\n",
       "      <td>...</td>\n",
       "      <td>...</td>\n",
       "      <td>...</td>\n",
       "      <td>...</td>\n",
       "      <td>...</td>\n",
       "      <td>...</td>\n",
       "    </tr>\n",
       "    <tr>\n",
       "      <th>18974</th>\n",
       "      <td>Xia Ao</td>\n",
       "      <td>China PR</td>\n",
       "      <td>21</td>\n",
       "      <td>Wuhan Zall</td>\n",
       "      <td>CB</td>\n",
       "      <td>100000</td>\n",
       "      <td>1000</td>\n",
       "      <td>47</td>\n",
       "      <td>Low</td>\n",
       "    </tr>\n",
       "    <tr>\n",
       "      <th>18975</th>\n",
       "      <td>B. Hough</td>\n",
       "      <td>England</td>\n",
       "      <td>17</td>\n",
       "      <td>Oldham Athletic</td>\n",
       "      <td>CAM</td>\n",
       "      <td>130000</td>\n",
       "      <td>500</td>\n",
       "      <td>47</td>\n",
       "      <td>Low</td>\n",
       "    </tr>\n",
       "    <tr>\n",
       "      <th>18976</th>\n",
       "      <td>R. McKinley</td>\n",
       "      <td>England</td>\n",
       "      <td>18</td>\n",
       "      <td>Derry City</td>\n",
       "      <td>CAM</td>\n",
       "      <td>120000</td>\n",
       "      <td>500</td>\n",
       "      <td>47</td>\n",
       "      <td>Low</td>\n",
       "    </tr>\n",
       "    <tr>\n",
       "      <th>18977</th>\n",
       "      <td>Wang Zhen'ao</td>\n",
       "      <td>China PR</td>\n",
       "      <td>20</td>\n",
       "      <td>Dalian YiFang FC</td>\n",
       "      <td>ST</td>\n",
       "      <td>100000</td>\n",
       "      <td>2000</td>\n",
       "      <td>47</td>\n",
       "      <td>Low</td>\n",
       "    </tr>\n",
       "    <tr>\n",
       "      <th>18978</th>\n",
       "      <td>Zhou Xiao</td>\n",
       "      <td>China PR</td>\n",
       "      <td>21</td>\n",
       "      <td>Dalian YiFang FC</td>\n",
       "      <td>LB</td>\n",
       "      <td>100000</td>\n",
       "      <td>1000</td>\n",
       "      <td>47</td>\n",
       "      <td>Low</td>\n",
       "    </tr>\n",
       "  </tbody>\n",
       "</table>\n",
       "<p>18979 rows × 9 columns</p>\n",
       "</div>"
      ],
      "text/plain": [
       "                    Name Nationality  Age                 Club Position  \\\n",
       "0               L. Messi   Argentina   33         FC Barcelona       RW   \n",
       "1      Cristiano Ronaldo    Portugal   35             Juventus       ST   \n",
       "2               J. Oblak    Slovenia   27      Atlético Madrid       GK   \n",
       "3           K. De Bruyne     Belgium   29      Manchester City      CAM   \n",
       "4              Neymar Jr      Brazil   28  Paris Saint-Germain       LW   \n",
       "...                  ...         ...  ...                  ...      ...   \n",
       "18974             Xia Ao    China PR   21           Wuhan Zall       CB   \n",
       "18975           B. Hough     England   17      Oldham Athletic      CAM   \n",
       "18976        R. McKinley     England   18           Derry City      CAM   \n",
       "18977       Wang Zhen'ao    China PR   20     Dalian YiFang FC       ST   \n",
       "18978          Zhou Xiao    China PR   21     Dalian YiFang FC       LB   \n",
       "\n",
       "           Value    Wage  Rating Level Rating  \n",
       "0      103500000  560000            93   High  \n",
       "1       63000000  220000            92   High  \n",
       "2      120000000  125000            91   High  \n",
       "3      129000000  370000            91   High  \n",
       "4      132000000  270000            91   High  \n",
       "...          ...     ...           ...    ...  \n",
       "18974     100000    1000            47    Low  \n",
       "18975     130000     500            47    Low  \n",
       "18976     120000     500            47    Low  \n",
       "18977     100000    2000            47    Low  \n",
       "18978     100000    1000            47    Low  \n",
       "\n",
       "[18979 rows x 9 columns]"
      ]
     },
     "execution_count": 13,
     "metadata": {},
     "output_type": "execute_result"
    }
   ],
   "source": [
    "# Function to convert Values value to million\n",
    "def convert_to_numericMil(value_str):\n",
    "    numeric_value = float(value_str.replace('M', ''))\n",
    "    return int(numeric_value * 1e6)\n",
    "\n",
    "# Function to convert Values to thousand\n",
    "def convert_to_numericTh(value_str2):\n",
    "    numeric_value2 = float(value_str2.replace('K', ''))\n",
    "    return int(numeric_value2 * 1e3)\n",
    "\n",
    "# Apply the conversion functions conditionally based on whether 'K' or 'M' is in the value\n",
    "for index, row in df.iterrows():\n",
    "    value = row['Value']\n",
    "    if 'K' in value:\n",
    "        df.at[index, 'Value'] = convert_to_numericTh(value)\n",
    "    elif 'M' in value:\n",
    "        df.at[index, 'Value'] = convert_to_numericMil(value)\n",
    "df"
   ]
  },
  {
   "cell_type": "code",
   "execution_count": 14,
   "id": "755a7feb",
   "metadata": {
    "_cell_guid": "28f1b733-a736-4b9f-843a-4035925ef387",
    "_uuid": "61824e3f-30f6-4c0c-91cd-99408afca84c",
    "collapsed": false,
    "execution": {
     "iopub.execute_input": "2023-11-30T00:23:40.119994Z",
     "iopub.status.busy": "2023-11-30T00:23:40.119548Z",
     "iopub.status.idle": "2023-11-30T00:23:40.126537Z",
     "shell.execute_reply": "2023-11-30T00:23:40.125706Z"
    },
    "jupyter": {
     "outputs_hidden": false
    },
    "papermill": {
     "duration": 0.035109,
     "end_time": "2023-11-30T00:23:40.128496",
     "exception": false,
     "start_time": "2023-11-30T00:23:40.093387",
     "status": "completed"
    },
    "tags": []
   },
   "outputs": [],
   "source": [
    "df['Value']= df['Value'].astype(int)"
   ]
  },
  {
   "cell_type": "code",
   "execution_count": 15,
   "id": "351764cd",
   "metadata": {
    "_cell_guid": "6929629d-dd98-48e8-afa3-f790e936e354",
    "_uuid": "88c42600-6cd5-48fe-bbfd-b81252eda936",
    "collapsed": false,
    "execution": {
     "iopub.execute_input": "2023-11-30T00:23:40.181069Z",
     "iopub.status.busy": "2023-11-30T00:23:40.180632Z",
     "iopub.status.idle": "2023-11-30T00:23:40.189138Z",
     "shell.execute_reply": "2023-11-30T00:23:40.188026Z"
    },
    "jupyter": {
     "outputs_hidden": false
    },
    "papermill": {
     "duration": 0.037173,
     "end_time": "2023-11-30T00:23:40.191579",
     "exception": false,
     "start_time": "2023-11-30T00:23:40.154406",
     "status": "completed"
    },
    "tags": []
   },
   "outputs": [
    {
     "data": {
      "text/plain": [
       "<bound method Series.info of 0        33\n",
       "1        35\n",
       "2        27\n",
       "3        29\n",
       "4        28\n",
       "         ..\n",
       "18974    21\n",
       "18975    17\n",
       "18976    18\n",
       "18977    20\n",
       "18978    21\n",
       "Name: Age, Length: 18979, dtype: int64>"
      ]
     },
     "execution_count": 15,
     "metadata": {},
     "output_type": "execute_result"
    }
   ],
   "source": [
    "df['Age'].info"
   ]
  },
  {
   "cell_type": "code",
   "execution_count": 16,
   "id": "1ecc9179",
   "metadata": {
    "_cell_guid": "5b0cde5b-c3a1-4f5f-9604-d9b1856af4ae",
    "_uuid": "be39275f-e2e7-4b5c-933c-cf382f188515",
    "collapsed": false,
    "execution": {
     "iopub.execute_input": "2023-11-30T00:23:40.243362Z",
     "iopub.status.busy": "2023-11-30T00:23:40.242898Z",
     "iopub.status.idle": "2023-11-30T00:23:40.251725Z",
     "shell.execute_reply": "2023-11-30T00:23:40.250705Z"
    },
    "jupyter": {
     "outputs_hidden": false
    },
    "papermill": {
     "duration": 0.037695,
     "end_time": "2023-11-30T00:23:40.253867",
     "exception": false,
     "start_time": "2023-11-30T00:23:40.216172",
     "status": "completed"
    },
    "tags": []
   },
   "outputs": [
    {
     "data": {
      "text/plain": [
       "<bound method Series.info of 0        93\n",
       "1        92\n",
       "2        91\n",
       "3        91\n",
       "4        91\n",
       "         ..\n",
       "18974    47\n",
       "18975    47\n",
       "18976    47\n",
       "18977    47\n",
       "18978    47\n",
       "Name: Rating Level, Length: 18979, dtype: int64>"
      ]
     },
     "execution_count": 16,
     "metadata": {},
     "output_type": "execute_result"
    }
   ],
   "source": [
    "df['Rating Level'].info"
   ]
  },
  {
   "cell_type": "markdown",
   "id": "493dd1cf",
   "metadata": {
    "_cell_guid": "a1beea20-5bc1-4ccb-8d91-152223001256",
    "_uuid": "e48d0e0f-e562-4686-8a04-4766a8fd62f0",
    "papermill": {
     "duration": 0.02467,
     "end_time": "2023-11-30T00:23:40.303582",
     "exception": false,
     "start_time": "2023-11-30T00:23:40.278912",
     "status": "completed"
    },
    "tags": []
   },
   "source": [
    "Now that i have made all cleaned my dataset to my prefered types i will move on to ecploring my dataset"
   ]
  },
  {
   "cell_type": "code",
   "execution_count": 17,
   "id": "d6404cfa",
   "metadata": {
    "_cell_guid": "854b6263-9a09-4ff2-bd9f-9a4beebc2981",
    "_uuid": "843e72ca-cea4-459b-af11-580431bae4f3",
    "collapsed": false,
    "execution": {
     "iopub.execute_input": "2023-11-30T00:23:40.355172Z",
     "iopub.status.busy": "2023-11-30T00:23:40.354744Z",
     "iopub.status.idle": "2023-11-30T00:23:42.316115Z",
     "shell.execute_reply": "2023-11-30T00:23:42.314888Z"
    },
    "jupyter": {
     "outputs_hidden": false
    },
    "papermill": {
     "duration": 1.990718,
     "end_time": "2023-11-30T00:23:42.318985",
     "exception": false,
     "start_time": "2023-11-30T00:23:40.328267",
     "status": "completed"
    },
    "tags": []
   },
   "outputs": [
    {
     "data": {
      "text/plain": [
       "<Axes: xlabel='Rating', ylabel='count'>"
      ]
     },
     "execution_count": 17,
     "metadata": {},
     "output_type": "execute_result"
    },
    {
     "data": {
      "image/png": "[encoded data removed]",
      "text/plain": [
       "<Figure size 640x480 with 1 Axes>"
      ]
     },
     "metadata": {},
     "output_type": "display_data"
    }
   ],
   "source": [
    "import seaborn as sns   \n",
    "sns.countplot(x=df['Rating'], data=data)"
   ]
  },
  {
   "cell_type": "markdown",
   "id": "736080cb",
   "metadata": {
    "_cell_guid": "b2c1dff3-14f2-4807-9d9d-5232acbc9b19",
    "_uuid": "fd97c886-29b7-4cbb-a872-4d3bb790e808",
    "papermill": {
     "duration": 0.025865,
     "end_time": "2023-11-30T00:23:42.371469",
     "exception": false,
     "start_time": "2023-11-30T00:23:42.345604",
     "status": "completed"
    },
    "tags": []
   },
   "source": [
    "As seen on the countplot most players are Mid tier level which are 60-79 rated players we can view this better if we use the actual ratings where we see the peak of the graph at the middle where it shows the mid teir ratings"
   ]
  },
  {
   "cell_type": "code",
   "execution_count": 18,
   "id": "01970103",
   "metadata": {
    "_cell_guid": "580f2d25-c68b-4057-9edb-20b74802577d",
    "_uuid": "28abe484-77f8-497d-9c47-84cb578b85b1",
    "collapsed": false,
    "execution": {
     "iopub.execute_input": "2023-11-30T00:23:42.425547Z",
     "iopub.status.busy": "2023-11-30T00:23:42.425129Z",
     "iopub.status.idle": "2023-11-30T00:23:43.105064Z",
     "shell.execute_reply": "2023-11-30T00:23:43.103887Z"
    },
    "jupyter": {
     "outputs_hidden": false
    },
    "papermill": {
     "duration": 0.710467,
     "end_time": "2023-11-30T00:23:43.107889",
     "exception": false,
     "start_time": "2023-11-30T00:23:42.397422",
     "status": "completed"
    },
    "tags": []
   },
   "outputs": [
    {
     "data": {
      "text/plain": [
       "<Axes: xlabel='Rating Level', ylabel='count'>"
      ]
     },
     "execution_count": 18,
     "metadata": {},
     "output_type": "execute_result"
    },
    {
     "data": {
      "image/png": "[encoded data removed]",
      "text/plain": [
       "<Figure size 640x480 with 1 Axes>"
      ]
     },
     "metadata": {},
     "output_type": "display_data"
    }
   ],
   "source": [
    "sns.countplot(x=df['Rating Level'], data=data)"
   ]
  },
  {
   "cell_type": "markdown",
   "id": "ba61bddc",
   "metadata": {
    "_cell_guid": "f866d947-4bab-48d7-b059-0c4a62cd011d",
    "_uuid": "66830d1e-c7b8-4252-ad12-1520bbdb4d86",
    "papermill": {
     "duration": 0.026483,
     "end_time": "2023-11-30T00:23:43.161107",
     "exception": false,
     "start_time": "2023-11-30T00:23:43.134624",
     "status": "completed"
    },
    "tags": []
   },
   "source": [
    "We can also view the outliers of our dataset"
   ]
  },
  {
   "cell_type": "code",
   "execution_count": 19,
   "id": "6d16cb33",
   "metadata": {
    "_cell_guid": "be28af8a-5fc7-47de-88e7-2138b8b4d9fa",
    "_uuid": "47911049-153c-4f13-a282-cf59b335db37",
    "collapsed": false,
    "execution": {
     "iopub.execute_input": "2023-11-30T00:23:43.219183Z",
     "iopub.status.busy": "2023-11-30T00:23:43.218168Z",
     "iopub.status.idle": "2023-11-30T00:23:43.463342Z",
     "shell.execute_reply": "2023-11-30T00:23:43.462099Z"
    },
    "jupyter": {
     "outputs_hidden": false
    },
    "papermill": {
     "duration": 0.277482,
     "end_time": "2023-11-30T00:23:43.465809",
     "exception": false,
     "start_time": "2023-11-30T00:23:43.188327",
     "status": "completed"
    },
    "tags": []
   },
   "outputs": [
    {
     "data": {
      "text/plain": [
       "<Axes: xlabel='Age'>"
      ]
     },
     "execution_count": 19,
     "metadata": {},
     "output_type": "execute_result"
    },
    {
     "data": {
      "image/png": "[encoded data removed]",
      "text/plain": [
       "<Figure size 640x480 with 1 Axes>"
      ]
     },
     "metadata": {},
     "output_type": "display_data"
    }
   ],
   "source": [
    "sns.boxplot(x=df['Age'], data=data)"
   ]
  },
  {
   "cell_type": "markdown",
   "id": "d27ac00c",
   "metadata": {
    "_cell_guid": "93c9d664-a9f9-4163-800d-339b51637510",
    "_uuid": "375a829e-375b-400a-a5eb-baef323e23d0",
    "papermill": {
     "duration": 0.026481,
     "end_time": "2023-11-30T00:23:43.519200",
     "exception": false,
     "start_time": "2023-11-30T00:23:43.492719",
     "status": "completed"
    },
    "tags": []
   },
   "source": [
    "As seen the age as an outlier which is a player above 50 years we can use this by viewing the max"
   ]
  },
  {
   "cell_type": "code",
   "execution_count": 20,
   "id": "2678214e",
   "metadata": {
    "_cell_guid": "e660162f-a0e1-4de5-bbbf-2ef1888d2f3b",
    "_uuid": "0f24bd0f-12e4-4898-8056-51746b608870",
    "collapsed": false,
    "execution": {
     "iopub.execute_input": "2023-11-30T00:23:43.574066Z",
     "iopub.status.busy": "2023-11-30T00:23:43.573612Z",
     "iopub.status.idle": "2023-11-30T00:23:43.581537Z",
     "shell.execute_reply": "2023-11-30T00:23:43.580456Z"
    },
    "jupyter": {
     "outputs_hidden": false
    },
    "papermill": {
     "duration": 0.03838,
     "end_time": "2023-11-30T00:23:43.583926",
     "exception": false,
     "start_time": "2023-11-30T00:23:43.545546",
     "status": "completed"
    },
    "tags": []
   },
   "outputs": [
    {
     "data": {
      "text/plain": [
       "53"
      ]
     },
     "execution_count": 20,
     "metadata": {},
     "output_type": "execute_result"
    }
   ],
   "source": [
    "df['Age'].max()"
   ]
  },
  {
   "cell_type": "markdown",
   "id": "ded47079",
   "metadata": {
    "_cell_guid": "16daf336-14f5-4bd5-a9ef-ff07c8cfccdc",
    "_uuid": "4031ee5f-c5e6-4b8a-b908-010a83649109",
    "papermill": {
     "duration": 0.026285,
     "end_time": "2023-11-30T00:23:43.636843",
     "exception": false,
     "start_time": "2023-11-30T00:23:43.610558",
     "status": "completed"
    },
    "tags": []
   },
   "source": [
    "The max player age is 53 which shows our outlier"
   ]
  },
  {
   "cell_type": "code",
   "execution_count": 21,
   "id": "4c7abc6d",
   "metadata": {
    "_cell_guid": "367f1f94-ae2c-48d1-a436-acf8554725af",
    "_uuid": "4020fe20-95c7-4130-84ce-02b6fa181eee",
    "collapsed": false,
    "execution": {
     "iopub.execute_input": "2023-11-30T00:23:43.692058Z",
     "iopub.status.busy": "2023-11-30T00:23:43.691635Z",
     "iopub.status.idle": "2023-11-30T00:23:43.916833Z",
     "shell.execute_reply": "2023-11-30T00:23:43.915709Z"
    },
    "jupyter": {
     "outputs_hidden": false
    },
    "papermill": {
     "duration": 0.255994,
     "end_time": "2023-11-30T00:23:43.919460",
     "exception": false,
     "start_time": "2023-11-30T00:23:43.663466",
     "status": "completed"
    },
    "tags": []
   },
   "outputs": [
    {
     "data": {
      "text/plain": [
       "<Axes: xlabel='Rating Level'>"
      ]
     },
     "execution_count": 21,
     "metadata": {},
     "output_type": "execute_result"
    },
    {
     "data": {
      "image/png": "[encoded data removed]",
      "text/plain": [
       "<Figure size 640x480 with 1 Axes>"
      ]
     },
     "metadata": {},
     "output_type": "display_data"
    }
   ],
   "source": [
    "sns.boxplot(x=df['Rating Level'], data=data)"
   ]
  },
  {
   "cell_type": "markdown",
   "id": "59c6b2c7",
   "metadata": {
    "_cell_guid": "17ec06f6-d5e8-4e2a-a641-df0c3b2ba218",
    "_uuid": "7290c1e5-3ea5-423f-9ba4-3fedc4c5649d",
    "papermill": {
     "duration": 0.029977,
     "end_time": "2023-11-30T00:23:43.976535",
     "exception": false,
     "start_time": "2023-11-30T00:23:43.946558",
     "status": "completed"
    },
    "tags": []
   },
   "source": [
    "The rating doesnt show a clear outlier"
   ]
  },
  {
   "cell_type": "code",
   "execution_count": 22,
   "id": "264d3282",
   "metadata": {
    "_cell_guid": "a130f524-d4b1-4805-8695-d83f9e588b5b",
    "_uuid": "950efdc2-0b71-4223-916b-6db39d8ffa50",
    "collapsed": false,
    "execution": {
     "iopub.execute_input": "2023-11-30T00:23:44.034451Z",
     "iopub.status.busy": "2023-11-30T00:23:44.034047Z",
     "iopub.status.idle": "2023-11-30T00:23:44.272980Z",
     "shell.execute_reply": "2023-11-30T00:23:44.271907Z"
    },
    "jupyter": {
     "outputs_hidden": false
    },
    "papermill": {
     "duration": 0.27076,
     "end_time": "2023-11-30T00:23:44.275557",
     "exception": false,
     "start_time": "2023-11-30T00:23:44.004797",
     "status": "completed"
    },
    "tags": []
   },
   "outputs": [
    {
     "data": {
      "text/plain": [
       "<Axes: xlabel='Wage'>"
      ]
     },
     "execution_count": 22,
     "metadata": {},
     "output_type": "execute_result"
    },
    {
     "data": {
      "image/png": "[encoded data removed]",
      "text/plain": [
       "<Figure size 640x480 with 1 Axes>"
      ]
     },
     "metadata": {},
     "output_type": "display_data"
    }
   ],
   "source": [
    "sns.boxplot(x=df['Wage'], data=data)"
   ]
  },
  {
   "cell_type": "code",
   "execution_count": 23,
   "id": "c3f778e5",
   "metadata": {
    "_cell_guid": "22a2a9ef-c04a-4441-89b3-b49161bcfcaf",
    "_uuid": "64e3cb4e-c6b1-4f43-86fa-d6defd739d2b",
    "collapsed": false,
    "execution": {
     "iopub.execute_input": "2023-11-30T00:23:44.333396Z",
     "iopub.status.busy": "2023-11-30T00:23:44.332997Z",
     "iopub.status.idle": "2023-11-30T00:23:44.588868Z",
     "shell.execute_reply": "2023-11-30T00:23:44.587680Z"
    },
    "jupyter": {
     "outputs_hidden": false
    },
    "papermill": {
     "duration": 0.287985,
     "end_time": "2023-11-30T00:23:44.591508",
     "exception": false,
     "start_time": "2023-11-30T00:23:44.303523",
     "status": "completed"
    },
    "tags": []
   },
   "outputs": [
    {
     "data": {
      "text/plain": [
       "<Axes: xlabel='Value'>"
      ]
     },
     "execution_count": 23,
     "metadata": {},
     "output_type": "execute_result"
    },
    {
     "data": {
      "image/png": "[encoded data removed]",
      "text/plain": [
       "<Figure size 640x480 with 1 Axes>"
      ]
     },
     "metadata": {},
     "output_type": "display_data"
    }
   ],
   "source": [
    "sns.boxplot(x=df['Value'], data=data)"
   ]
  },
  {
   "cell_type": "code",
   "execution_count": 24,
   "id": "84aad76c",
   "metadata": {
    "_cell_guid": "e6b1d776-cf0d-4732-898f-d93fd6037c39",
    "_uuid": "2a17e918-11f6-490f-90f0-7957370964b1",
    "collapsed": false,
    "execution": {
     "iopub.execute_input": "2023-11-30T00:23:44.650333Z",
     "iopub.status.busy": "2023-11-30T00:23:44.649902Z",
     "iopub.status.idle": "2023-11-30T00:23:44.997475Z",
     "shell.execute_reply": "2023-11-30T00:23:44.996195Z"
    },
    "jupyter": {
     "outputs_hidden": false
    },
    "papermill": {
     "duration": 0.380317,
     "end_time": "2023-11-30T00:23:45.000332",
     "exception": false,
     "start_time": "2023-11-30T00:23:44.620015",
     "status": "completed"
    },
    "tags": []
   },
   "outputs": [
    {
     "data": {
      "image/png": "[encoded data removed]",
      "text/plain": [
       "<Figure size 800x800 with 1 Axes>"
      ]
     },
     "metadata": {},
     "output_type": "display_data"
    }
   ],
   "source": [
    "import matplotlib.pyplot as plt\n",
    "\n",
    "status_counts = df['Position'].value_counts()\n",
    "\n",
    "plt.figure(figsize=(8,8))\n",
    "plt.pie(status_counts, labels=status_counts.index, autopct='%1.1f%%')\n",
    "plt.title('Player Positions')\n",
    "plt.show()"
   ]
  },
  {
   "cell_type": "code",
   "execution_count": 25,
   "id": "9f35f7fa",
   "metadata": {
    "_cell_guid": "c8ba609a-dfb5-42ec-99a5-78c50da4566b",
    "_uuid": "48b933b4-5c39-4fb6-9520-e011b8e18240",
    "collapsed": false,
    "execution": {
     "iopub.execute_input": "2023-11-30T00:23:45.061509Z",
     "iopub.status.busy": "2023-11-30T00:23:45.060755Z",
     "iopub.status.idle": "2023-11-30T00:23:45.441174Z",
     "shell.execute_reply": "2023-11-30T00:23:45.439763Z"
    },
    "jupyter": {
     "outputs_hidden": false
    },
    "papermill": {
     "duration": 0.414256,
     "end_time": "2023-11-30T00:23:45.444017",
     "exception": false,
     "start_time": "2023-11-30T00:23:45.029761",
     "status": "completed"
    },
    "tags": []
   },
   "outputs": [
    {
     "data": {
      "image/png": "[encoded data removed]",
      "text/plain": [
       "<Figure size 800x600 with 1 Axes>"
      ]
     },
     "metadata": {},
     "output_type": "display_data"
    }
   ],
   "source": [
    "grouped_df = df.groupby('Position')['Rating Level'].mean().reset_index()\n",
    "\n",
    "plt.figure(figsize=(8,6))\n",
    "plt.barh(grouped_df['Position'], grouped_df['Rating Level'], color=['#1f77b4','#ff7f0e','#2ca02c','#d62728','#9467bd','#8c564b','#e377c2','#7f7f7f','#bcbd22','#17becf'])\n",
    "plt.title('Average Rating per position of player')\n",
    "plt.xlabel('Rating')\n",
    "plt.ylabel('Educational Level')\n",
    "plt.show()"
   ]
  },
  {
   "cell_type": "code",
   "execution_count": 26,
   "id": "66d23b29",
   "metadata": {
    "_cell_guid": "f8fba2c0-d296-412e-8960-2b1a514e335e",
    "_uuid": "fed0fd87-f6ca-481d-8680-67dd44244106",
    "collapsed": false,
    "execution": {
     "iopub.execute_input": "2023-11-30T00:23:45.505954Z",
     "iopub.status.busy": "2023-11-30T00:23:45.505525Z",
     "iopub.status.idle": "2023-11-30T00:23:47.232113Z",
     "shell.execute_reply": "2023-11-30T00:23:47.230858Z"
    },
    "jupyter": {
     "outputs_hidden": false
    },
    "papermill": {
     "duration": 1.761753,
     "end_time": "2023-11-30T00:23:47.235792",
     "exception": false,
     "start_time": "2023-11-30T00:23:45.474039",
     "status": "completed"
    },
    "tags": []
   },
   "outputs": [
    {
     "data": {
      "image/png": "[encoded data removed]",
      "text/plain": [
       "<Figure size 1100x700 with 1 Axes>"
      ]
     },
     "metadata": {},
     "output_type": "display_data"
    }
   ],
   "source": [
    "plt.figure(figsize=(11, 7))\n",
    "sns.scatterplot(data=df, x='Age', y='Value', hue='Position',size='Wage', sizes=(50, 200))\n",
    "plt.title('Scatter plot of Age, Value, Position and Wage')\n",
    "plt.xlabel('Age')\n",
    "plt.ylabel('Value')\n",
    "plt.show()"
   ]
  },
  {
   "cell_type": "markdown",
   "id": "14e8c169",
   "metadata": {
    "_cell_guid": "82b40ec0-f49b-4f06-9a9e-3bf91a5afee6",
    "_uuid": "77718271-a7c3-43c0-ae02-a52427e796eb",
    "papermill": {
     "duration": 0.032379,
     "end_time": "2023-11-30T00:23:47.304369",
     "exception": false,
     "start_time": "2023-11-30T00:23:47.271990",
     "status": "completed"
    },
    "tags": []
   },
   "source": [
    "Clustering"
   ]
  },
  {
   "cell_type": "code",
   "execution_count": 27,
   "id": "4931d6c5",
   "metadata": {
    "_cell_guid": "c5f9e02b-9307-42cf-99a0-0264bcc54521",
    "_uuid": "4f56258a-793a-4dd3-af0a-dc032cccc602",
    "collapsed": false,
    "execution": {
     "iopub.execute_input": "2023-11-30T00:23:47.374701Z",
     "iopub.status.busy": "2023-11-30T00:23:47.373978Z",
     "iopub.status.idle": "2023-11-30T00:23:47.393058Z",
     "shell.execute_reply": "2023-11-30T00:23:47.391243Z"
    },
    "jupyter": {
     "outputs_hidden": false
    },
    "papermill": {
     "duration": 0.058781,
     "end_time": "2023-11-30T00:23:47.396787",
     "exception": false,
     "start_time": "2023-11-30T00:23:47.338006",
     "status": "completed"
    },
    "tags": []
   },
   "outputs": [
    {
     "data": {
      "text/html": [
       "<div>\n",
       "<style scoped>\n",
       "    .dataframe tbody tr th:only-of-type {\n",
       "        vertical-align: middle;\n",
       "    }\n",
       "\n",
       "    .dataframe tbody tr th {\n",
       "        vertical-align: top;\n",
       "    }\n",
       "\n",
       "    .dataframe thead th {\n",
       "        text-align: right;\n",
       "    }\n",
       "</style>\n",
       "<table border=\"1\" class=\"dataframe\">\n",
       "  <thead>\n",
       "    <tr style=\"text-align: right;\">\n",
       "      <th></th>\n",
       "      <th>Nationality</th>\n",
       "      <th>Age</th>\n",
       "      <th>Club</th>\n",
       "      <th>Position</th>\n",
       "      <th>Value</th>\n",
       "      <th>Wage</th>\n",
       "      <th>Rating</th>\n",
       "    </tr>\n",
       "  </thead>\n",
       "  <tbody>\n",
       "    <tr>\n",
       "      <th>0</th>\n",
       "      <td>Argentina</td>\n",
       "      <td>33</td>\n",
       "      <td>FC Barcelona</td>\n",
       "      <td>RW</td>\n",
       "      <td>103500000</td>\n",
       "      <td>560000</td>\n",
       "      <td>High</td>\n",
       "    </tr>\n",
       "    <tr>\n",
       "      <th>1</th>\n",
       "      <td>Portugal</td>\n",
       "      <td>35</td>\n",
       "      <td>Juventus</td>\n",
       "      <td>ST</td>\n",
       "      <td>63000000</td>\n",
       "      <td>220000</td>\n",
       "      <td>High</td>\n",
       "    </tr>\n",
       "    <tr>\n",
       "      <th>2</th>\n",
       "      <td>Slovenia</td>\n",
       "      <td>27</td>\n",
       "      <td>Atlético Madrid</td>\n",
       "      <td>GK</td>\n",
       "      <td>120000000</td>\n",
       "      <td>125000</td>\n",
       "      <td>High</td>\n",
       "    </tr>\n",
       "    <tr>\n",
       "      <th>3</th>\n",
       "      <td>Belgium</td>\n",
       "      <td>29</td>\n",
       "      <td>Manchester City</td>\n",
       "      <td>CAM</td>\n",
       "      <td>129000000</td>\n",
       "      <td>370000</td>\n",
       "      <td>High</td>\n",
       "    </tr>\n",
       "    <tr>\n",
       "      <th>4</th>\n",
       "      <td>Brazil</td>\n",
       "      <td>28</td>\n",
       "      <td>Paris Saint-Germain</td>\n",
       "      <td>LW</td>\n",
       "      <td>132000000</td>\n",
       "      <td>270000</td>\n",
       "      <td>High</td>\n",
       "    </tr>\n",
       "  </tbody>\n",
       "</table>\n",
       "</div>"
      ],
      "text/plain": [
       "  Nationality  Age                 Club Position      Value    Wage Rating\n",
       "0   Argentina   33         FC Barcelona       RW  103500000  560000   High\n",
       "1    Portugal   35             Juventus       ST   63000000  220000   High\n",
       "2    Slovenia   27      Atlético Madrid       GK  120000000  125000   High\n",
       "3     Belgium   29      Manchester City      CAM  129000000  370000   High\n",
       "4      Brazil   28  Paris Saint-Germain       LW  132000000  270000   High"
      ]
     },
     "execution_count": 27,
     "metadata": {},
     "output_type": "execute_result"
    }
   ],
   "source": [
    "df_cluster = df[['Nationality', 'Age', 'Club', 'Position', 'Value', 'Wage', 'Rating']]\n",
    "df_cluster.head()"
   ]
  },
  {
   "cell_type": "code",
   "execution_count": 28,
   "id": "b9010b81",
   "metadata": {
    "_cell_guid": "084b9546-5196-4684-9906-808390d157da",
    "_uuid": "a72e15bd-58ad-4a9d-848a-634c62f1d1a2",
    "collapsed": false,
    "execution": {
     "iopub.execute_input": "2023-11-30T00:23:47.469194Z",
     "iopub.status.busy": "2023-11-30T00:23:47.468101Z",
     "iopub.status.idle": "2023-11-30T00:23:47.503408Z",
     "shell.execute_reply": "2023-11-30T00:23:47.502580Z"
    },
    "jupyter": {
     "outputs_hidden": false
    },
    "papermill": {
     "duration": 0.072738,
     "end_time": "2023-11-30T00:23:47.506442",
     "exception": false,
     "start_time": "2023-11-30T00:23:47.433704",
     "status": "completed"
    },
    "tags": []
   },
   "outputs": [
    {
     "data": {
      "text/html": [
       "<div>\n",
       "<style scoped>\n",
       "    .dataframe tbody tr th:only-of-type {\n",
       "        vertical-align: middle;\n",
       "    }\n",
       "\n",
       "    .dataframe tbody tr th {\n",
       "        vertical-align: top;\n",
       "    }\n",
       "\n",
       "    .dataframe thead th {\n",
       "        text-align: right;\n",
       "    }\n",
       "</style>\n",
       "<table border=\"1\" class=\"dataframe\">\n",
       "  <thead>\n",
       "    <tr style=\"text-align: right;\">\n",
       "      <th></th>\n",
       "      <th>Nationality</th>\n",
       "      <th>Age</th>\n",
       "      <th>Club</th>\n",
       "      <th>Position</th>\n",
       "      <th>Value</th>\n",
       "      <th>Wage</th>\n",
       "      <th>Rating</th>\n",
       "    </tr>\n",
       "  </thead>\n",
       "  <tbody>\n",
       "    <tr>\n",
       "      <th>0</th>\n",
       "      <td>Argentina</td>\n",
       "      <td>33</td>\n",
       "      <td>FC Barcelona</td>\n",
       "      <td>RW</td>\n",
       "      <td>103500000</td>\n",
       "      <td>560000</td>\n",
       "      <td>High</td>\n",
       "    </tr>\n",
       "    <tr>\n",
       "      <th>1</th>\n",
       "      <td>Portugal</td>\n",
       "      <td>35</td>\n",
       "      <td>Juventus</td>\n",
       "      <td>ST</td>\n",
       "      <td>63000000</td>\n",
       "      <td>220000</td>\n",
       "      <td>High</td>\n",
       "    </tr>\n",
       "    <tr>\n",
       "      <th>2</th>\n",
       "      <td>Slovenia</td>\n",
       "      <td>27</td>\n",
       "      <td>Atlético Madrid</td>\n",
       "      <td>GK</td>\n",
       "      <td>120000000</td>\n",
       "      <td>125000</td>\n",
       "      <td>High</td>\n",
       "    </tr>\n",
       "    <tr>\n",
       "      <th>3</th>\n",
       "      <td>Belgium</td>\n",
       "      <td>29</td>\n",
       "      <td>Manchester City</td>\n",
       "      <td>CAM</td>\n",
       "      <td>129000000</td>\n",
       "      <td>370000</td>\n",
       "      <td>High</td>\n",
       "    </tr>\n",
       "    <tr>\n",
       "      <th>4</th>\n",
       "      <td>Brazil</td>\n",
       "      <td>28</td>\n",
       "      <td>Paris Saint-Germain</td>\n",
       "      <td>LW</td>\n",
       "      <td>132000000</td>\n",
       "      <td>270000</td>\n",
       "      <td>High</td>\n",
       "    </tr>\n",
       "    <tr>\n",
       "      <th>...</th>\n",
       "      <td>...</td>\n",
       "      <td>...</td>\n",
       "      <td>...</td>\n",
       "      <td>...</td>\n",
       "      <td>...</td>\n",
       "      <td>...</td>\n",
       "      <td>...</td>\n",
       "    </tr>\n",
       "    <tr>\n",
       "      <th>501</th>\n",
       "      <td>Russia</td>\n",
       "      <td>34</td>\n",
       "      <td>PFC CSKA Moscow</td>\n",
       "      <td>GK</td>\n",
       "      <td>3600000</td>\n",
       "      <td>40000</td>\n",
       "      <td>High</td>\n",
       "    </tr>\n",
       "    <tr>\n",
       "      <th>502</th>\n",
       "      <td>Portugal</td>\n",
       "      <td>33</td>\n",
       "      <td>Orlando City SC</td>\n",
       "      <td>LW</td>\n",
       "      <td>13000000</td>\n",
       "      <td>13000</td>\n",
       "      <td>High</td>\n",
       "    </tr>\n",
       "    <tr>\n",
       "      <th>503</th>\n",
       "      <td>England</td>\n",
       "      <td>34</td>\n",
       "      <td>Liverpool</td>\n",
       "      <td>CDM</td>\n",
       "      <td>9500000</td>\n",
       "      <td>95000</td>\n",
       "      <td>High</td>\n",
       "    </tr>\n",
       "    <tr>\n",
       "      <th>504</th>\n",
       "      <td>Spain</td>\n",
       "      <td>38</td>\n",
       "      <td>Real Betis</td>\n",
       "      <td>CAM</td>\n",
       "      <td>7000000</td>\n",
       "      <td>22000</td>\n",
       "      <td>High</td>\n",
       "    </tr>\n",
       "    <tr>\n",
       "      <th>505</th>\n",
       "      <td>Italy</td>\n",
       "      <td>37</td>\n",
       "      <td>Sampdoria</td>\n",
       "      <td>CF</td>\n",
       "      <td>7000000</td>\n",
       "      <td>22000</td>\n",
       "      <td>High</td>\n",
       "    </tr>\n",
       "  </tbody>\n",
       "</table>\n",
       "<p>506 rows × 7 columns</p>\n",
       "</div>"
      ],
      "text/plain": [
       "    Nationality  Age                 Club Position      Value    Wage Rating\n",
       "0     Argentina   33         FC Barcelona       RW  103500000  560000   High\n",
       "1      Portugal   35             Juventus       ST   63000000  220000   High\n",
       "2      Slovenia   27      Atlético Madrid       GK  120000000  125000   High\n",
       "3       Belgium   29      Manchester City      CAM  129000000  370000   High\n",
       "4        Brazil   28  Paris Saint-Germain       LW  132000000  270000   High\n",
       "..          ...  ...                  ...      ...        ...     ...    ...\n",
       "501      Russia   34      PFC CSKA Moscow       GK    3600000   40000   High\n",
       "502    Portugal   33      Orlando City SC       LW   13000000   13000   High\n",
       "503     England   34            Liverpool      CDM    9500000   95000   High\n",
       "504       Spain   38           Real Betis      CAM    7000000   22000   High\n",
       "505       Italy   37            Sampdoria       CF    7000000   22000   High\n",
       "\n",
       "[506 rows x 7 columns]"
      ]
     },
     "execution_count": 28,
     "metadata": {},
     "output_type": "execute_result"
    }
   ],
   "source": [
    "df_cluster_LowRating = df_cluster[df_cluster['Rating']=='Low']\n",
    "df_cluster_MidRating = df_cluster[df_cluster['Rating']=='Mid']\n",
    "df_cluster_HighRating = df_cluster[df_cluster['Rating']=='High']\n",
    "df_cluster_HighRating"
   ]
  },
  {
   "cell_type": "code",
   "execution_count": 29,
   "id": "a0c2b590",
   "metadata": {
    "_cell_guid": "411d0735-5606-4b54-9a48-eb806f42950c",
    "_uuid": "ac558790-cc0d-4ba0-886f-028f1f65774f",
    "collapsed": false,
    "execution": {
     "iopub.execute_input": "2023-11-30T00:23:47.578565Z",
     "iopub.status.busy": "2023-11-30T00:23:47.577195Z",
     "iopub.status.idle": "2023-11-30T00:23:47.631810Z",
     "shell.execute_reply": "2023-11-30T00:23:47.630561Z"
    },
    "jupyter": {
     "outputs_hidden": false
    },
    "papermill": {
     "duration": 0.092165,
     "end_time": "2023-11-30T00:23:47.634455",
     "exception": false,
     "start_time": "2023-11-30T00:23:47.542290",
     "status": "completed"
    },
    "tags": []
   },
   "outputs": [
    {
     "data": {
      "text/html": [
       "<div>\n",
       "<style scoped>\n",
       "    .dataframe tbody tr th:only-of-type {\n",
       "        vertical-align: middle;\n",
       "    }\n",
       "\n",
       "    .dataframe tbody tr th {\n",
       "        vertical-align: top;\n",
       "    }\n",
       "\n",
       "    .dataframe thead th {\n",
       "        text-align: right;\n",
       "    }\n",
       "</style>\n",
       "<table border=\"1\" class=\"dataframe\">\n",
       "  <thead>\n",
       "    <tr style=\"text-align: right;\">\n",
       "      <th></th>\n",
       "      <th>Age</th>\n",
       "      <th>Value</th>\n",
       "      <th>Wage</th>\n",
       "      <th>Nationality_Albania</th>\n",
       "      <th>Nationality_Algeria</th>\n",
       "      <th>Nationality_Antigua &amp; Barbuda</th>\n",
       "      <th>Nationality_Argentina</th>\n",
       "      <th>Nationality_Australia</th>\n",
       "      <th>Nationality_Austria</th>\n",
       "      <th>Nationality_Azerbaijan</th>\n",
       "      <th>...</th>\n",
       "      <th>Position_LB</th>\n",
       "      <th>Position_LM</th>\n",
       "      <th>Position_LW</th>\n",
       "      <th>Position_LWB</th>\n",
       "      <th>Position_RB</th>\n",
       "      <th>Position_RM</th>\n",
       "      <th>Position_RW</th>\n",
       "      <th>Position_RWB</th>\n",
       "      <th>Position_ST</th>\n",
       "      <th>Rating_Low</th>\n",
       "    </tr>\n",
       "  </thead>\n",
       "  <tbody>\n",
       "    <tr>\n",
       "      <th>15545</th>\n",
       "      <td>27</td>\n",
       "      <td>275000</td>\n",
       "      <td>500</td>\n",
       "      <td>False</td>\n",
       "      <td>False</td>\n",
       "      <td>False</td>\n",
       "      <td>False</td>\n",
       "      <td>False</td>\n",
       "      <td>False</td>\n",
       "      <td>False</td>\n",
       "      <td>...</td>\n",
       "      <td>False</td>\n",
       "      <td>False</td>\n",
       "      <td>False</td>\n",
       "      <td>False</td>\n",
       "      <td>False</td>\n",
       "      <td>False</td>\n",
       "      <td>False</td>\n",
       "      <td>False</td>\n",
       "      <td>True</td>\n",
       "      <td>True</td>\n",
       "    </tr>\n",
       "    <tr>\n",
       "      <th>15546</th>\n",
       "      <td>19</td>\n",
       "      <td>550000</td>\n",
       "      <td>3000</td>\n",
       "      <td>False</td>\n",
       "      <td>False</td>\n",
       "      <td>False</td>\n",
       "      <td>False</td>\n",
       "      <td>False</td>\n",
       "      <td>False</td>\n",
       "      <td>False</td>\n",
       "      <td>...</td>\n",
       "      <td>False</td>\n",
       "      <td>False</td>\n",
       "      <td>False</td>\n",
       "      <td>False</td>\n",
       "      <td>False</td>\n",
       "      <td>False</td>\n",
       "      <td>False</td>\n",
       "      <td>False</td>\n",
       "      <td>False</td>\n",
       "      <td>True</td>\n",
       "    </tr>\n",
       "    <tr>\n",
       "      <th>15547</th>\n",
       "      <td>24</td>\n",
       "      <td>325000</td>\n",
       "      <td>900</td>\n",
       "      <td>False</td>\n",
       "      <td>False</td>\n",
       "      <td>False</td>\n",
       "      <td>False</td>\n",
       "      <td>False</td>\n",
       "      <td>False</td>\n",
       "      <td>False</td>\n",
       "      <td>...</td>\n",
       "      <td>True</td>\n",
       "      <td>False</td>\n",
       "      <td>False</td>\n",
       "      <td>False</td>\n",
       "      <td>False</td>\n",
       "      <td>False</td>\n",
       "      <td>False</td>\n",
       "      <td>False</td>\n",
       "      <td>False</td>\n",
       "      <td>True</td>\n",
       "    </tr>\n",
       "    <tr>\n",
       "      <th>15548</th>\n",
       "      <td>28</td>\n",
       "      <td>220000</td>\n",
       "      <td>1000</td>\n",
       "      <td>False</td>\n",
       "      <td>False</td>\n",
       "      <td>False</td>\n",
       "      <td>False</td>\n",
       "      <td>False</td>\n",
       "      <td>False</td>\n",
       "      <td>False</td>\n",
       "      <td>...</td>\n",
       "      <td>False</td>\n",
       "      <td>False</td>\n",
       "      <td>False</td>\n",
       "      <td>False</td>\n",
       "      <td>False</td>\n",
       "      <td>False</td>\n",
       "      <td>False</td>\n",
       "      <td>False</td>\n",
       "      <td>False</td>\n",
       "      <td>True</td>\n",
       "    </tr>\n",
       "    <tr>\n",
       "      <th>15549</th>\n",
       "      <td>18</td>\n",
       "      <td>575000</td>\n",
       "      <td>650</td>\n",
       "      <td>False</td>\n",
       "      <td>False</td>\n",
       "      <td>False</td>\n",
       "      <td>False</td>\n",
       "      <td>False</td>\n",
       "      <td>False</td>\n",
       "      <td>False</td>\n",
       "      <td>...</td>\n",
       "      <td>False</td>\n",
       "      <td>False</td>\n",
       "      <td>False</td>\n",
       "      <td>False</td>\n",
       "      <td>False</td>\n",
       "      <td>False</td>\n",
       "      <td>False</td>\n",
       "      <td>False</td>\n",
       "      <td>False</td>\n",
       "      <td>True</td>\n",
       "    </tr>\n",
       "  </tbody>\n",
       "</table>\n",
       "<p>5 rows × 708 columns</p>\n",
       "</div>"
      ],
      "text/plain": [
       "       Age   Value  Wage  Nationality_Albania  Nationality_Algeria  \\\n",
       "15545   27  275000   500                False                False   \n",
       "15546   19  550000  3000                False                False   \n",
       "15547   24  325000   900                False                False   \n",
       "15548   28  220000  1000                False                False   \n",
       "15549   18  575000   650                False                False   \n",
       "\n",
       "       Nationality_Antigua & Barbuda  Nationality_Argentina  \\\n",
       "15545                          False                  False   \n",
       "15546                          False                  False   \n",
       "15547                          False                  False   \n",
       "15548                          False                  False   \n",
       "15549                          False                  False   \n",
       "\n",
       "       Nationality_Australia  Nationality_Austria  Nationality_Azerbaijan  \\\n",
       "15545                  False                False                   False   \n",
       "15546                  False                False                   False   \n",
       "15547                  False                False                   False   \n",
       "15548                  False                False                   False   \n",
       "15549                  False                False                   False   \n",
       "\n",
       "       ...  Position_LB  Position_LM  Position_LW  Position_LWB  Position_RB  \\\n",
       "15545  ...        False        False        False         False        False   \n",
       "15546  ...        False        False        False         False        False   \n",
       "15547  ...         True        False        False         False        False   \n",
       "15548  ...        False        False        False         False        False   \n",
       "15549  ...        False        False        False         False        False   \n",
       "\n",
       "       Position_RM  Position_RW  Position_RWB  Position_ST  Rating_Low  \n",
       "15545        False        False         False         True        True  \n",
       "15546        False        False         False        False        True  \n",
       "15547        False        False         False        False        True  \n",
       "15548        False        False         False        False        True  \n",
       "15549        False        False         False        False        True  \n",
       "\n",
       "[5 rows x 708 columns]"
      ]
     },
     "execution_count": 29,
     "metadata": {},
     "output_type": "execute_result"
    }
   ],
   "source": [
    "X_cluster_LowRating=pd.get_dummies(df_cluster_LowRating)\n",
    "X_cluster_LowRating.head()"
   ]
  },
  {
   "cell_type": "code",
   "execution_count": 30,
   "id": "cc984680",
   "metadata": {
    "_cell_guid": "b99e51a9-9c33-4677-bcb2-8ac3aaa7ab9d",
    "_uuid": "ab71b1f1-1460-4e43-ab1f-7560f8412053",
    "collapsed": false,
    "execution": {
     "iopub.execute_input": "2023-11-30T00:23:47.705161Z",
     "iopub.status.busy": "2023-11-30T00:23:47.703811Z",
     "iopub.status.idle": "2023-11-30T00:23:47.858012Z",
     "shell.execute_reply": "2023-11-30T00:23:47.856997Z"
    },
    "jupyter": {
     "outputs_hidden": false
    },
    "papermill": {
     "duration": 0.192766,
     "end_time": "2023-11-30T00:23:47.860787",
     "exception": false,
     "start_time": "2023-11-30T00:23:47.668021",
     "status": "completed"
    },
    "tags": []
   },
   "outputs": [
    {
     "data": {
      "text/html": [
       "<div>\n",
       "<style scoped>\n",
       "    .dataframe tbody tr th:only-of-type {\n",
       "        vertical-align: middle;\n",
       "    }\n",
       "\n",
       "    .dataframe tbody tr th {\n",
       "        vertical-align: top;\n",
       "    }\n",
       "\n",
       "    .dataframe thead th {\n",
       "        text-align: right;\n",
       "    }\n",
       "</style>\n",
       "<table border=\"1\" class=\"dataframe\">\n",
       "  <thead>\n",
       "    <tr style=\"text-align: right;\">\n",
       "      <th></th>\n",
       "      <th>Age</th>\n",
       "      <th>Value</th>\n",
       "      <th>Wage</th>\n",
       "      <th>Nationality_Afghanistan</th>\n",
       "      <th>Nationality_Albania</th>\n",
       "      <th>Nationality_Algeria</th>\n",
       "      <th>Nationality_Andorra</th>\n",
       "      <th>Nationality_Angola</th>\n",
       "      <th>Nationality_Antigua &amp; Barbuda</th>\n",
       "      <th>Nationality_Argentina</th>\n",
       "      <th>...</th>\n",
       "      <th>Position_LB</th>\n",
       "      <th>Position_LM</th>\n",
       "      <th>Position_LW</th>\n",
       "      <th>Position_LWB</th>\n",
       "      <th>Position_RB</th>\n",
       "      <th>Position_RM</th>\n",
       "      <th>Position_RW</th>\n",
       "      <th>Position_RWB</th>\n",
       "      <th>Position_ST</th>\n",
       "      <th>Rating_Mid</th>\n",
       "    </tr>\n",
       "  </thead>\n",
       "  <tbody>\n",
       "    <tr>\n",
       "      <th>506</th>\n",
       "      <td>28</td>\n",
       "      <td>0</td>\n",
       "      <td>0</td>\n",
       "      <td>False</td>\n",
       "      <td>False</td>\n",
       "      <td>False</td>\n",
       "      <td>False</td>\n",
       "      <td>False</td>\n",
       "      <td>False</td>\n",
       "      <td>False</td>\n",
       "      <td>...</td>\n",
       "      <td>False</td>\n",
       "      <td>False</td>\n",
       "      <td>False</td>\n",
       "      <td>False</td>\n",
       "      <td>False</td>\n",
       "      <td>False</td>\n",
       "      <td>False</td>\n",
       "      <td>False</td>\n",
       "      <td>False</td>\n",
       "      <td>True</td>\n",
       "    </tr>\n",
       "    <tr>\n",
       "      <th>507</th>\n",
       "      <td>33</td>\n",
       "      <td>11000000</td>\n",
       "      <td>1000</td>\n",
       "      <td>False</td>\n",
       "      <td>False</td>\n",
       "      <td>False</td>\n",
       "      <td>False</td>\n",
       "      <td>False</td>\n",
       "      <td>False</td>\n",
       "      <td>False</td>\n",
       "      <td>...</td>\n",
       "      <td>False</td>\n",
       "      <td>False</td>\n",
       "      <td>False</td>\n",
       "      <td>False</td>\n",
       "      <td>False</td>\n",
       "      <td>False</td>\n",
       "      <td>False</td>\n",
       "      <td>False</td>\n",
       "      <td>True</td>\n",
       "      <td>True</td>\n",
       "    </tr>\n",
       "    <tr>\n",
       "      <th>508</th>\n",
       "      <td>32</td>\n",
       "      <td>0</td>\n",
       "      <td>0</td>\n",
       "      <td>False</td>\n",
       "      <td>False</td>\n",
       "      <td>False</td>\n",
       "      <td>False</td>\n",
       "      <td>False</td>\n",
       "      <td>False</td>\n",
       "      <td>False</td>\n",
       "      <td>...</td>\n",
       "      <td>False</td>\n",
       "      <td>False</td>\n",
       "      <td>False</td>\n",
       "      <td>False</td>\n",
       "      <td>False</td>\n",
       "      <td>False</td>\n",
       "      <td>False</td>\n",
       "      <td>False</td>\n",
       "      <td>False</td>\n",
       "      <td>True</td>\n",
       "    </tr>\n",
       "    <tr>\n",
       "      <th>509</th>\n",
       "      <td>24</td>\n",
       "      <td>0</td>\n",
       "      <td>0</td>\n",
       "      <td>False</td>\n",
       "      <td>False</td>\n",
       "      <td>False</td>\n",
       "      <td>False</td>\n",
       "      <td>False</td>\n",
       "      <td>False</td>\n",
       "      <td>False</td>\n",
       "      <td>...</td>\n",
       "      <td>False</td>\n",
       "      <td>False</td>\n",
       "      <td>False</td>\n",
       "      <td>False</td>\n",
       "      <td>True</td>\n",
       "      <td>False</td>\n",
       "      <td>False</td>\n",
       "      <td>False</td>\n",
       "      <td>False</td>\n",
       "      <td>True</td>\n",
       "    </tr>\n",
       "    <tr>\n",
       "      <th>510</th>\n",
       "      <td>32</td>\n",
       "      <td>0</td>\n",
       "      <td>0</td>\n",
       "      <td>False</td>\n",
       "      <td>False</td>\n",
       "      <td>False</td>\n",
       "      <td>False</td>\n",
       "      <td>False</td>\n",
       "      <td>False</td>\n",
       "      <td>False</td>\n",
       "      <td>...</td>\n",
       "      <td>True</td>\n",
       "      <td>False</td>\n",
       "      <td>False</td>\n",
       "      <td>False</td>\n",
       "      <td>False</td>\n",
       "      <td>False</td>\n",
       "      <td>False</td>\n",
       "      <td>False</td>\n",
       "      <td>False</td>\n",
       "      <td>True</td>\n",
       "    </tr>\n",
       "  </tbody>\n",
       "</table>\n",
       "<p>5 rows × 859 columns</p>\n",
       "</div>"
      ],
      "text/plain": [
       "     Age     Value  Wage  Nationality_Afghanistan  Nationality_Albania  \\\n",
       "506   28         0     0                    False                False   \n",
       "507   33  11000000  1000                    False                False   \n",
       "508   32         0     0                    False                False   \n",
       "509   24         0     0                    False                False   \n",
       "510   32         0     0                    False                False   \n",
       "\n",
       "     Nationality_Algeria  Nationality_Andorra  Nationality_Angola  \\\n",
       "506                False                False               False   \n",
       "507                False                False               False   \n",
       "508                False                False               False   \n",
       "509                False                False               False   \n",
       "510                False                False               False   \n",
       "\n",
       "     Nationality_Antigua & Barbuda  Nationality_Argentina  ...  Position_LB  \\\n",
       "506                          False                  False  ...        False   \n",
       "507                          False                  False  ...        False   \n",
       "508                          False                  False  ...        False   \n",
       "509                          False                  False  ...        False   \n",
       "510                          False                  False  ...         True   \n",
       "\n",
       "     Position_LM  Position_LW  Position_LWB  Position_RB  Position_RM  \\\n",
       "506        False        False         False        False        False   \n",
       "507        False        False         False        False        False   \n",
       "508        False        False         False        False        False   \n",
       "509        False        False         False         True        False   \n",
       "510        False        False         False        False        False   \n",
       "\n",
       "     Position_RW  Position_RWB  Position_ST  Rating_Mid  \n",
       "506        False         False        False        True  \n",
       "507        False         False         True        True  \n",
       "508        False         False        False        True  \n",
       "509        False         False        False        True  \n",
       "510        False         False        False        True  \n",
       "\n",
       "[5 rows x 859 columns]"
      ]
     },
     "execution_count": 30,
     "metadata": {},
     "output_type": "execute_result"
    }
   ],
   "source": [
    "X_cluster_MidRating=pd.get_dummies(df_cluster_MidRating)\n",
    "X_cluster_MidRating.head()"
   ]
  },
  {
   "cell_type": "code",
   "execution_count": 31,
   "id": "cce1ea51",
   "metadata": {
    "_cell_guid": "8f93541e-3268-4fa1-921f-a704a4470c5d",
    "_uuid": "37843d2a-baa9-4478-b127-c03093f49c3b",
    "collapsed": false,
    "execution": {
     "iopub.execute_input": "2023-11-30T00:23:47.937092Z",
     "iopub.status.busy": "2023-11-30T00:23:47.936126Z",
     "iopub.status.idle": "2023-11-30T00:23:47.970708Z",
     "shell.execute_reply": "2023-11-30T00:23:47.969058Z"
    },
    "jupyter": {
     "outputs_hidden": false
    },
    "papermill": {
     "duration": 0.074097,
     "end_time": "2023-11-30T00:23:47.973535",
     "exception": false,
     "start_time": "2023-11-30T00:23:47.899438",
     "status": "completed"
    },
    "tags": []
   },
   "outputs": [
    {
     "data": {
      "text/html": [
       "<div>\n",
       "<style scoped>\n",
       "    .dataframe tbody tr th:only-of-type {\n",
       "        vertical-align: middle;\n",
       "    }\n",
       "\n",
       "    .dataframe tbody tr th {\n",
       "        vertical-align: top;\n",
       "    }\n",
       "\n",
       "    .dataframe thead th {\n",
       "        text-align: right;\n",
       "    }\n",
       "</style>\n",
       "<table border=\"1\" class=\"dataframe\">\n",
       "  <thead>\n",
       "    <tr style=\"text-align: right;\">\n",
       "      <th></th>\n",
       "      <th>Age</th>\n",
       "      <th>Value</th>\n",
       "      <th>Wage</th>\n",
       "      <th>Nationality_Albania</th>\n",
       "      <th>Nationality_Algeria</th>\n",
       "      <th>Nationality_Argentina</th>\n",
       "      <th>Nationality_Armenia</th>\n",
       "      <th>Nationality_Australia</th>\n",
       "      <th>Nationality_Austria</th>\n",
       "      <th>Nationality_Belgium</th>\n",
       "      <th>...</th>\n",
       "      <th>Position_LB</th>\n",
       "      <th>Position_LM</th>\n",
       "      <th>Position_LW</th>\n",
       "      <th>Position_LWB</th>\n",
       "      <th>Position_RB</th>\n",
       "      <th>Position_RM</th>\n",
       "      <th>Position_RW</th>\n",
       "      <th>Position_RWB</th>\n",
       "      <th>Position_ST</th>\n",
       "      <th>Rating_High</th>\n",
       "    </tr>\n",
       "  </thead>\n",
       "  <tbody>\n",
       "    <tr>\n",
       "      <th>0</th>\n",
       "      <td>33</td>\n",
       "      <td>103500000</td>\n",
       "      <td>560000</td>\n",
       "      <td>False</td>\n",
       "      <td>False</td>\n",
       "      <td>True</td>\n",
       "      <td>False</td>\n",
       "      <td>False</td>\n",
       "      <td>False</td>\n",
       "      <td>False</td>\n",
       "      <td>...</td>\n",
       "      <td>False</td>\n",
       "      <td>False</td>\n",
       "      <td>False</td>\n",
       "      <td>False</td>\n",
       "      <td>False</td>\n",
       "      <td>False</td>\n",
       "      <td>True</td>\n",
       "      <td>False</td>\n",
       "      <td>False</td>\n",
       "      <td>True</td>\n",
       "    </tr>\n",
       "    <tr>\n",
       "      <th>1</th>\n",
       "      <td>35</td>\n",
       "      <td>63000000</td>\n",
       "      <td>220000</td>\n",
       "      <td>False</td>\n",
       "      <td>False</td>\n",
       "      <td>False</td>\n",
       "      <td>False</td>\n",
       "      <td>False</td>\n",
       "      <td>False</td>\n",
       "      <td>False</td>\n",
       "      <td>...</td>\n",
       "      <td>False</td>\n",
       "      <td>False</td>\n",
       "      <td>False</td>\n",
       "      <td>False</td>\n",
       "      <td>False</td>\n",
       "      <td>False</td>\n",
       "      <td>False</td>\n",
       "      <td>False</td>\n",
       "      <td>True</td>\n",
       "      <td>True</td>\n",
       "    </tr>\n",
       "    <tr>\n",
       "      <th>2</th>\n",
       "      <td>27</td>\n",
       "      <td>120000000</td>\n",
       "      <td>125000</td>\n",
       "      <td>False</td>\n",
       "      <td>False</td>\n",
       "      <td>False</td>\n",
       "      <td>False</td>\n",
       "      <td>False</td>\n",
       "      <td>False</td>\n",
       "      <td>False</td>\n",
       "      <td>...</td>\n",
       "      <td>False</td>\n",
       "      <td>False</td>\n",
       "      <td>False</td>\n",
       "      <td>False</td>\n",
       "      <td>False</td>\n",
       "      <td>False</td>\n",
       "      <td>False</td>\n",
       "      <td>False</td>\n",
       "      <td>False</td>\n",
       "      <td>True</td>\n",
       "    </tr>\n",
       "    <tr>\n",
       "      <th>3</th>\n",
       "      <td>29</td>\n",
       "      <td>129000000</td>\n",
       "      <td>370000</td>\n",
       "      <td>False</td>\n",
       "      <td>False</td>\n",
       "      <td>False</td>\n",
       "      <td>False</td>\n",
       "      <td>False</td>\n",
       "      <td>False</td>\n",
       "      <td>True</td>\n",
       "      <td>...</td>\n",
       "      <td>False</td>\n",
       "      <td>False</td>\n",
       "      <td>False</td>\n",
       "      <td>False</td>\n",
       "      <td>False</td>\n",
       "      <td>False</td>\n",
       "      <td>False</td>\n",
       "      <td>False</td>\n",
       "      <td>False</td>\n",
       "      <td>True</td>\n",
       "    </tr>\n",
       "    <tr>\n",
       "      <th>4</th>\n",
       "      <td>28</td>\n",
       "      <td>132000000</td>\n",
       "      <td>270000</td>\n",
       "      <td>False</td>\n",
       "      <td>False</td>\n",
       "      <td>False</td>\n",
       "      <td>False</td>\n",
       "      <td>False</td>\n",
       "      <td>False</td>\n",
       "      <td>False</td>\n",
       "      <td>...</td>\n",
       "      <td>False</td>\n",
       "      <td>False</td>\n",
       "      <td>True</td>\n",
       "      <td>False</td>\n",
       "      <td>False</td>\n",
       "      <td>False</td>\n",
       "      <td>False</td>\n",
       "      <td>False</td>\n",
       "      <td>False</td>\n",
       "      <td>True</td>\n",
       "    </tr>\n",
       "  </tbody>\n",
       "</table>\n",
       "<p>5 rows × 187 columns</p>\n",
       "</div>"
      ],
      "text/plain": [
       "   Age      Value    Wage  Nationality_Albania  Nationality_Algeria  \\\n",
       "0   33  103500000  560000                False                False   \n",
       "1   35   63000000  220000                False                False   \n",
       "2   27  120000000  125000                False                False   \n",
       "3   29  129000000  370000                False                False   \n",
       "4   28  132000000  270000                False                False   \n",
       "\n",
       "   Nationality_Argentina  Nationality_Armenia  Nationality_Australia  \\\n",
       "0                   True                False                  False   \n",
       "1                  False                False                  False   \n",
       "2                  False                False                  False   \n",
       "3                  False                False                  False   \n",
       "4                  False                False                  False   \n",
       "\n",
       "   Nationality_Austria  Nationality_Belgium  ...  Position_LB  Position_LM  \\\n",
       "0                False                False  ...        False        False   \n",
       "1                False                False  ...        False        False   \n",
       "2                False                False  ...        False        False   \n",
       "3                False                 True  ...        False        False   \n",
       "4                False                False  ...        False        False   \n",
       "\n",
       "   Position_LW  Position_LWB  Position_RB  Position_RM  Position_RW  \\\n",
       "0        False         False        False        False         True   \n",
       "1        False         False        False        False        False   \n",
       "2        False         False        False        False        False   \n",
       "3        False         False        False        False        False   \n",
       "4         True         False        False        False        False   \n",
       "\n",
       "   Position_RWB  Position_ST  Rating_High  \n",
       "0         False        False         True  \n",
       "1         False         True         True  \n",
       "2         False        False         True  \n",
       "3         False        False         True  \n",
       "4         False        False         True  \n",
       "\n",
       "[5 rows x 187 columns]"
      ]
     },
     "execution_count": 31,
     "metadata": {},
     "output_type": "execute_result"
    }
   ],
   "source": [
    "X_cluster_HighRating=pd.get_dummies(df_cluster_HighRating)\n",
    "X_cluster_HighRating.head()"
   ]
  },
  {
   "cell_type": "markdown",
   "id": "ce48819d",
   "metadata": {
    "_cell_guid": "7bcde071-cc77-4f76-b061-5e76e7965d27",
    "_uuid": "88c349e4-3689-4a19-9b99-812dd0c9e7f1",
    "papermill": {
     "duration": 0.035932,
     "end_time": "2023-11-30T00:23:48.044451",
     "exception": false,
     "start_time": "2023-11-30T00:23:48.008519",
     "status": "completed"
    },
    "tags": []
   },
   "source": [
    "Creating our modules"
   ]
  },
  {
   "cell_type": "code",
   "execution_count": 32,
   "id": "7f97ec63",
   "metadata": {
    "_cell_guid": "ffb28493-48b9-4975-99ad-385d87e365c7",
    "_uuid": "43479975-a033-4fe7-a8cb-f5a005257162",
    "collapsed": false,
    "execution": {
     "iopub.execute_input": "2023-11-30T00:23:48.118984Z",
     "iopub.status.busy": "2023-11-30T00:23:48.118008Z",
     "iopub.status.idle": "2023-11-30T00:23:48.134104Z",
     "shell.execute_reply": "2023-11-30T00:23:48.132895Z"
    },
    "jupyter": {
     "outputs_hidden": false
    },
    "papermill": {
     "duration": 0.057405,
     "end_time": "2023-11-30T00:23:48.137396",
     "exception": false,
     "start_time": "2023-11-30T00:23:48.079991",
     "status": "completed"
    },
    "tags": []
   },
   "outputs": [],
   "source": [
    "df['HighRating'] = df['Rating'].apply(lambda x: 'High' if x == 'High' else None)"
   ]
  },
  {
   "cell_type": "code",
   "execution_count": 33,
   "id": "f13f9f41",
   "metadata": {
    "_cell_guid": "7871ebff-11f2-4f32-b2b9-2950ac702c62",
    "_uuid": "c3e75706-6ea1-4583-a6e0-512dfdd71d79",
    "collapsed": false,
    "execution": {
     "iopub.execute_input": "2023-11-30T00:23:48.212160Z",
     "iopub.status.busy": "2023-11-30T00:23:48.211717Z",
     "iopub.status.idle": "2023-11-30T00:23:48.413763Z",
     "shell.execute_reply": "2023-11-30T00:23:48.412638Z"
    },
    "jupyter": {
     "outputs_hidden": false
    },
    "papermill": {
     "duration": 0.239953,
     "end_time": "2023-11-30T00:23:48.416244",
     "exception": false,
     "start_time": "2023-11-30T00:23:48.176291",
     "status": "completed"
    },
    "tags": []
   },
   "outputs": [
    {
     "data": {
      "text/html": [
       "<div>\n",
       "<style scoped>\n",
       "    .dataframe tbody tr th:only-of-type {\n",
       "        vertical-align: middle;\n",
       "    }\n",
       "\n",
       "    .dataframe tbody tr th {\n",
       "        vertical-align: top;\n",
       "    }\n",
       "\n",
       "    .dataframe thead th {\n",
       "        text-align: right;\n",
       "    }\n",
       "</style>\n",
       "<table border=\"1\" class=\"dataframe\">\n",
       "  <thead>\n",
       "    <tr style=\"text-align: right;\">\n",
       "      <th></th>\n",
       "      <th>Name</th>\n",
       "      <th>Nationality</th>\n",
       "      <th>Age</th>\n",
       "      <th>Club</th>\n",
       "      <th>Position</th>\n",
       "      <th>Value</th>\n",
       "      <th>Wage</th>\n",
       "      <th>Rating Level</th>\n",
       "      <th>Rating</th>\n",
       "      <th>HighRating</th>\n",
       "      <th>encoded_rating</th>\n",
       "    </tr>\n",
       "  </thead>\n",
       "  <tbody>\n",
       "    <tr>\n",
       "      <th>0</th>\n",
       "      <td>L. Messi</td>\n",
       "      <td>Argentina</td>\n",
       "      <td>33</td>\n",
       "      <td>FC Barcelona</td>\n",
       "      <td>RW</td>\n",
       "      <td>103500000</td>\n",
       "      <td>560000</td>\n",
       "      <td>93</td>\n",
       "      <td>High</td>\n",
       "      <td>High</td>\n",
       "      <td>0</td>\n",
       "    </tr>\n",
       "    <tr>\n",
       "      <th>1</th>\n",
       "      <td>Cristiano Ronaldo</td>\n",
       "      <td>Portugal</td>\n",
       "      <td>35</td>\n",
       "      <td>Juventus</td>\n",
       "      <td>ST</td>\n",
       "      <td>63000000</td>\n",
       "      <td>220000</td>\n",
       "      <td>92</td>\n",
       "      <td>High</td>\n",
       "      <td>High</td>\n",
       "      <td>0</td>\n",
       "    </tr>\n",
       "    <tr>\n",
       "      <th>2</th>\n",
       "      <td>J. Oblak</td>\n",
       "      <td>Slovenia</td>\n",
       "      <td>27</td>\n",
       "      <td>Atlético Madrid</td>\n",
       "      <td>GK</td>\n",
       "      <td>120000000</td>\n",
       "      <td>125000</td>\n",
       "      <td>91</td>\n",
       "      <td>High</td>\n",
       "      <td>High</td>\n",
       "      <td>0</td>\n",
       "    </tr>\n",
       "    <tr>\n",
       "      <th>3</th>\n",
       "      <td>K. De Bruyne</td>\n",
       "      <td>Belgium</td>\n",
       "      <td>29</td>\n",
       "      <td>Manchester City</td>\n",
       "      <td>CAM</td>\n",
       "      <td>129000000</td>\n",
       "      <td>370000</td>\n",
       "      <td>91</td>\n",
       "      <td>High</td>\n",
       "      <td>High</td>\n",
       "      <td>0</td>\n",
       "    </tr>\n",
       "    <tr>\n",
       "      <th>4</th>\n",
       "      <td>Neymar Jr</td>\n",
       "      <td>Brazil</td>\n",
       "      <td>28</td>\n",
       "      <td>Paris Saint-Germain</td>\n",
       "      <td>LW</td>\n",
       "      <td>132000000</td>\n",
       "      <td>270000</td>\n",
       "      <td>91</td>\n",
       "      <td>High</td>\n",
       "      <td>High</td>\n",
       "      <td>0</td>\n",
       "    </tr>\n",
       "    <tr>\n",
       "      <th>...</th>\n",
       "      <td>...</td>\n",
       "      <td>...</td>\n",
       "      <td>...</td>\n",
       "      <td>...</td>\n",
       "      <td>...</td>\n",
       "      <td>...</td>\n",
       "      <td>...</td>\n",
       "      <td>...</td>\n",
       "      <td>...</td>\n",
       "      <td>...</td>\n",
       "      <td>...</td>\n",
       "    </tr>\n",
       "    <tr>\n",
       "      <th>18974</th>\n",
       "      <td>Xia Ao</td>\n",
       "      <td>China PR</td>\n",
       "      <td>21</td>\n",
       "      <td>Wuhan Zall</td>\n",
       "      <td>CB</td>\n",
       "      <td>100000</td>\n",
       "      <td>1000</td>\n",
       "      <td>47</td>\n",
       "      <td>Low</td>\n",
       "      <td>None</td>\n",
       "      <td>1</td>\n",
       "    </tr>\n",
       "    <tr>\n",
       "      <th>18975</th>\n",
       "      <td>B. Hough</td>\n",
       "      <td>England</td>\n",
       "      <td>17</td>\n",
       "      <td>Oldham Athletic</td>\n",
       "      <td>CAM</td>\n",
       "      <td>130000</td>\n",
       "      <td>500</td>\n",
       "      <td>47</td>\n",
       "      <td>Low</td>\n",
       "      <td>None</td>\n",
       "      <td>1</td>\n",
       "    </tr>\n",
       "    <tr>\n",
       "      <th>18976</th>\n",
       "      <td>R. McKinley</td>\n",
       "      <td>England</td>\n",
       "      <td>18</td>\n",
       "      <td>Derry City</td>\n",
       "      <td>CAM</td>\n",
       "      <td>120000</td>\n",
       "      <td>500</td>\n",
       "      <td>47</td>\n",
       "      <td>Low</td>\n",
       "      <td>None</td>\n",
       "      <td>1</td>\n",
       "    </tr>\n",
       "    <tr>\n",
       "      <th>18977</th>\n",
       "      <td>Wang Zhen'ao</td>\n",
       "      <td>China PR</td>\n",
       "      <td>20</td>\n",
       "      <td>Dalian YiFang FC</td>\n",
       "      <td>ST</td>\n",
       "      <td>100000</td>\n",
       "      <td>2000</td>\n",
       "      <td>47</td>\n",
       "      <td>Low</td>\n",
       "      <td>None</td>\n",
       "      <td>1</td>\n",
       "    </tr>\n",
       "    <tr>\n",
       "      <th>18978</th>\n",
       "      <td>Zhou Xiao</td>\n",
       "      <td>China PR</td>\n",
       "      <td>21</td>\n",
       "      <td>Dalian YiFang FC</td>\n",
       "      <td>LB</td>\n",
       "      <td>100000</td>\n",
       "      <td>1000</td>\n",
       "      <td>47</td>\n",
       "      <td>Low</td>\n",
       "      <td>None</td>\n",
       "      <td>1</td>\n",
       "    </tr>\n",
       "  </tbody>\n",
       "</table>\n",
       "<p>18979 rows × 11 columns</p>\n",
       "</div>"
      ],
      "text/plain": [
       "                    Name Nationality  Age                 Club Position  \\\n",
       "0               L. Messi   Argentina   33         FC Barcelona       RW   \n",
       "1      Cristiano Ronaldo    Portugal   35             Juventus       ST   \n",
       "2               J. Oblak    Slovenia   27      Atlético Madrid       GK   \n",
       "3           K. De Bruyne     Belgium   29      Manchester City      CAM   \n",
       "4              Neymar Jr      Brazil   28  Paris Saint-Germain       LW   \n",
       "...                  ...         ...  ...                  ...      ...   \n",
       "18974             Xia Ao    China PR   21           Wuhan Zall       CB   \n",
       "18975           B. Hough     England   17      Oldham Athletic      CAM   \n",
       "18976        R. McKinley     England   18           Derry City      CAM   \n",
       "18977       Wang Zhen'ao    China PR   20     Dalian YiFang FC       ST   \n",
       "18978          Zhou Xiao    China PR   21     Dalian YiFang FC       LB   \n",
       "\n",
       "           Value    Wage  Rating Level Rating HighRating  encoded_rating  \n",
       "0      103500000  560000            93   High       High               0  \n",
       "1       63000000  220000            92   High       High               0  \n",
       "2      120000000  125000            91   High       High               0  \n",
       "3      129000000  370000            91   High       High               0  \n",
       "4      132000000  270000            91   High       High               0  \n",
       "...          ...     ...           ...    ...        ...             ...  \n",
       "18974     100000    1000            47    Low       None               1  \n",
       "18975     130000     500            47    Low       None               1  \n",
       "18976     120000     500            47    Low       None               1  \n",
       "18977     100000    2000            47    Low       None               1  \n",
       "18978     100000    1000            47    Low       None               1  \n",
       "\n",
       "[18979 rows x 11 columns]"
      ]
     },
     "execution_count": 33,
     "metadata": {},
     "output_type": "execute_result"
    }
   ],
   "source": [
    "from sklearn.preprocessing import LabelEncoder\n",
    "\n",
    "label_encoder = LabelEncoder()\n",
    "\n",
    "df['encoded_rating'] = label_encoder.fit_transform(df['Rating'])\n",
    "df"
   ]
  },
  {
   "cell_type": "code",
   "execution_count": 34,
   "id": "5de357f9",
   "metadata": {
    "_cell_guid": "6ba97467-af11-4a36-a376-5985e92afa96",
    "_uuid": "35770d5e-399e-47c6-8b4b-32c612410c99",
    "collapsed": false,
    "execution": {
     "iopub.execute_input": "2023-11-30T00:23:48.487275Z",
     "iopub.status.busy": "2023-11-30T00:23:48.486836Z",
     "iopub.status.idle": "2023-11-30T00:23:48.499307Z",
     "shell.execute_reply": "2023-11-30T00:23:48.498118Z"
    },
    "jupyter": {
     "outputs_hidden": false
    },
    "papermill": {
     "duration": 0.050901,
     "end_time": "2023-11-30T00:23:48.501506",
     "exception": false,
     "start_time": "2023-11-30T00:23:48.450605",
     "status": "completed"
    },
    "tags": []
   },
   "outputs": [
    {
     "data": {
      "text/plain": [
       "0        0\n",
       "1        0\n",
       "2        0\n",
       "3        0\n",
       "4        0\n",
       "        ..\n",
       "18974    1\n",
       "18975    1\n",
       "18976    1\n",
       "18977    1\n",
       "18978    1\n",
       "Name: encoded_rating, Length: 18979, dtype: int64"
      ]
     },
     "execution_count": 34,
     "metadata": {},
     "output_type": "execute_result"
    }
   ],
   "source": [
    "predictors=df[['Nationality', 'Age', 'Club', 'Position', 'Value', 'Wage']]\n",
    "target=df[\"encoded_rating\"]\n",
    "target"
   ]
  },
  {
   "cell_type": "code",
   "execution_count": null,
   "id": "2eaf6bda",
   "metadata": {
    "_cell_guid": "5c4abf60-f05f-4a5e-9db6-a11bbb4401d5",
    "_uuid": "4e1be24e-5b07-4680-b3f0-ee74b4d3fa62",
    "collapsed": false,
    "jupyter": {
     "outputs_hidden": false
    },
    "papermill": {
     "duration": 0.03425,
     "end_time": "2023-11-30T00:23:48.570570",
     "exception": false,
     "start_time": "2023-11-30T00:23:48.536320",
     "status": "completed"
    },
    "tags": []
   },
   "outputs": [],
   "source": []
  },
  {
   "cell_type": "code",
   "execution_count": 35,
   "id": "b6fe68eb",
   "metadata": {
    "_cell_guid": "0663b5ab-3511-4ef7-aafa-f1e8c3b4adde",
    "_uuid": "16347906-f4f4-443f-8fe4-b351dff968d0",
    "collapsed": false,
    "execution": {
     "iopub.execute_input": "2023-11-30T00:23:48.642126Z",
     "iopub.status.busy": "2023-11-30T00:23:48.641314Z",
     "iopub.status.idle": "2023-11-30T00:23:48.819503Z",
     "shell.execute_reply": "2023-11-30T00:23:48.818301Z"
    },
    "jupyter": {
     "outputs_hidden": false
    },
    "papermill": {
     "duration": 0.217214,
     "end_time": "2023-11-30T00:23:48.822324",
     "exception": false,
     "start_time": "2023-11-30T00:23:48.605110",
     "status": "completed"
    },
    "tags": []
   },
   "outputs": [
    {
     "data": {
      "text/html": [
       "<div>\n",
       "<style scoped>\n",
       "    .dataframe tbody tr th:only-of-type {\n",
       "        vertical-align: middle;\n",
       "    }\n",
       "\n",
       "    .dataframe tbody tr th {\n",
       "        vertical-align: top;\n",
       "    }\n",
       "\n",
       "    .dataframe thead th {\n",
       "        text-align: right;\n",
       "    }\n",
       "</style>\n",
       "<table border=\"1\" class=\"dataframe\">\n",
       "  <thead>\n",
       "    <tr style=\"text-align: right;\">\n",
       "      <th></th>\n",
       "      <th>Age</th>\n",
       "      <th>Value</th>\n",
       "      <th>Wage</th>\n",
       "      <th>Nationality_Afghanistan</th>\n",
       "      <th>Nationality_Albania</th>\n",
       "      <th>Nationality_Algeria</th>\n",
       "      <th>Nationality_Andorra</th>\n",
       "      <th>Nationality_Angola</th>\n",
       "      <th>Nationality_Antigua &amp; Barbuda</th>\n",
       "      <th>Nationality_Argentina</th>\n",
       "      <th>...</th>\n",
       "      <th>Position_GK</th>\n",
       "      <th>Position_LB</th>\n",
       "      <th>Position_LM</th>\n",
       "      <th>Position_LW</th>\n",
       "      <th>Position_LWB</th>\n",
       "      <th>Position_RB</th>\n",
       "      <th>Position_RM</th>\n",
       "      <th>Position_RW</th>\n",
       "      <th>Position_RWB</th>\n",
       "      <th>Position_ST</th>\n",
       "    </tr>\n",
       "  </thead>\n",
       "  <tbody>\n",
       "    <tr>\n",
       "      <th>0</th>\n",
       "      <td>33</td>\n",
       "      <td>103500000</td>\n",
       "      <td>560000</td>\n",
       "      <td>False</td>\n",
       "      <td>False</td>\n",
       "      <td>False</td>\n",
       "      <td>False</td>\n",
       "      <td>False</td>\n",
       "      <td>False</td>\n",
       "      <td>True</td>\n",
       "      <td>...</td>\n",
       "      <td>False</td>\n",
       "      <td>False</td>\n",
       "      <td>False</td>\n",
       "      <td>False</td>\n",
       "      <td>False</td>\n",
       "      <td>False</td>\n",
       "      <td>False</td>\n",
       "      <td>True</td>\n",
       "      <td>False</td>\n",
       "      <td>False</td>\n",
       "    </tr>\n",
       "    <tr>\n",
       "      <th>1</th>\n",
       "      <td>35</td>\n",
       "      <td>63000000</td>\n",
       "      <td>220000</td>\n",
       "      <td>False</td>\n",
       "      <td>False</td>\n",
       "      <td>False</td>\n",
       "      <td>False</td>\n",
       "      <td>False</td>\n",
       "      <td>False</td>\n",
       "      <td>False</td>\n",
       "      <td>...</td>\n",
       "      <td>False</td>\n",
       "      <td>False</td>\n",
       "      <td>False</td>\n",
       "      <td>False</td>\n",
       "      <td>False</td>\n",
       "      <td>False</td>\n",
       "      <td>False</td>\n",
       "      <td>False</td>\n",
       "      <td>False</td>\n",
       "      <td>True</td>\n",
       "    </tr>\n",
       "    <tr>\n",
       "      <th>2</th>\n",
       "      <td>27</td>\n",
       "      <td>120000000</td>\n",
       "      <td>125000</td>\n",
       "      <td>False</td>\n",
       "      <td>False</td>\n",
       "      <td>False</td>\n",
       "      <td>False</td>\n",
       "      <td>False</td>\n",
       "      <td>False</td>\n",
       "      <td>False</td>\n",
       "      <td>...</td>\n",
       "      <td>True</td>\n",
       "      <td>False</td>\n",
       "      <td>False</td>\n",
       "      <td>False</td>\n",
       "      <td>False</td>\n",
       "      <td>False</td>\n",
       "      <td>False</td>\n",
       "      <td>False</td>\n",
       "      <td>False</td>\n",
       "      <td>False</td>\n",
       "    </tr>\n",
       "    <tr>\n",
       "      <th>3</th>\n",
       "      <td>29</td>\n",
       "      <td>129000000</td>\n",
       "      <td>370000</td>\n",
       "      <td>False</td>\n",
       "      <td>False</td>\n",
       "      <td>False</td>\n",
       "      <td>False</td>\n",
       "      <td>False</td>\n",
       "      <td>False</td>\n",
       "      <td>False</td>\n",
       "      <td>...</td>\n",
       "      <td>False</td>\n",
       "      <td>False</td>\n",
       "      <td>False</td>\n",
       "      <td>False</td>\n",
       "      <td>False</td>\n",
       "      <td>False</td>\n",
       "      <td>False</td>\n",
       "      <td>False</td>\n",
       "      <td>False</td>\n",
       "      <td>False</td>\n",
       "    </tr>\n",
       "    <tr>\n",
       "      <th>4</th>\n",
       "      <td>28</td>\n",
       "      <td>132000000</td>\n",
       "      <td>270000</td>\n",
       "      <td>False</td>\n",
       "      <td>False</td>\n",
       "      <td>False</td>\n",
       "      <td>False</td>\n",
       "      <td>False</td>\n",
       "      <td>False</td>\n",
       "      <td>False</td>\n",
       "      <td>...</td>\n",
       "      <td>False</td>\n",
       "      <td>False</td>\n",
       "      <td>False</td>\n",
       "      <td>True</td>\n",
       "      <td>False</td>\n",
       "      <td>False</td>\n",
       "      <td>False</td>\n",
       "      <td>False</td>\n",
       "      <td>False</td>\n",
       "      <td>False</td>\n",
       "    </tr>\n",
       "    <tr>\n",
       "      <th>...</th>\n",
       "      <td>...</td>\n",
       "      <td>...</td>\n",
       "      <td>...</td>\n",
       "      <td>...</td>\n",
       "      <td>...</td>\n",
       "      <td>...</td>\n",
       "      <td>...</td>\n",
       "      <td>...</td>\n",
       "      <td>...</td>\n",
       "      <td>...</td>\n",
       "      <td>...</td>\n",
       "      <td>...</td>\n",
       "      <td>...</td>\n",
       "      <td>...</td>\n",
       "      <td>...</td>\n",
       "      <td>...</td>\n",
       "      <td>...</td>\n",
       "      <td>...</td>\n",
       "      <td>...</td>\n",
       "      <td>...</td>\n",
       "      <td>...</td>\n",
       "    </tr>\n",
       "    <tr>\n",
       "      <th>18974</th>\n",
       "      <td>21</td>\n",
       "      <td>100000</td>\n",
       "      <td>1000</td>\n",
       "      <td>False</td>\n",
       "      <td>False</td>\n",
       "      <td>False</td>\n",
       "      <td>False</td>\n",
       "      <td>False</td>\n",
       "      <td>False</td>\n",
       "      <td>False</td>\n",
       "      <td>...</td>\n",
       "      <td>False</td>\n",
       "      <td>False</td>\n",
       "      <td>False</td>\n",
       "      <td>False</td>\n",
       "      <td>False</td>\n",
       "      <td>False</td>\n",
       "      <td>False</td>\n",
       "      <td>False</td>\n",
       "      <td>False</td>\n",
       "      <td>False</td>\n",
       "    </tr>\n",
       "    <tr>\n",
       "      <th>18975</th>\n",
       "      <td>17</td>\n",
       "      <td>130000</td>\n",
       "      <td>500</td>\n",
       "      <td>False</td>\n",
       "      <td>False</td>\n",
       "      <td>False</td>\n",
       "      <td>False</td>\n",
       "      <td>False</td>\n",
       "      <td>False</td>\n",
       "      <td>False</td>\n",
       "      <td>...</td>\n",
       "      <td>False</td>\n",
       "      <td>False</td>\n",
       "      <td>False</td>\n",
       "      <td>False</td>\n",
       "      <td>False</td>\n",
       "      <td>False</td>\n",
       "      <td>False</td>\n",
       "      <td>False</td>\n",
       "      <td>False</td>\n",
       "      <td>False</td>\n",
       "    </tr>\n",
       "    <tr>\n",
       "      <th>18976</th>\n",
       "      <td>18</td>\n",
       "      <td>120000</td>\n",
       "      <td>500</td>\n",
       "      <td>False</td>\n",
       "      <td>False</td>\n",
       "      <td>False</td>\n",
       "      <td>False</td>\n",
       "      <td>False</td>\n",
       "      <td>False</td>\n",
       "      <td>False</td>\n",
       "      <td>...</td>\n",
       "      <td>False</td>\n",
       "      <td>False</td>\n",
       "      <td>False</td>\n",
       "      <td>False</td>\n",
       "      <td>False</td>\n",
       "      <td>False</td>\n",
       "      <td>False</td>\n",
       "      <td>False</td>\n",
       "      <td>False</td>\n",
       "      <td>False</td>\n",
       "    </tr>\n",
       "    <tr>\n",
       "      <th>18977</th>\n",
       "      <td>20</td>\n",
       "      <td>100000</td>\n",
       "      <td>2000</td>\n",
       "      <td>False</td>\n",
       "      <td>False</td>\n",
       "      <td>False</td>\n",
       "      <td>False</td>\n",
       "      <td>False</td>\n",
       "      <td>False</td>\n",
       "      <td>False</td>\n",
       "      <td>...</td>\n",
       "      <td>False</td>\n",
       "      <td>False</td>\n",
       "      <td>False</td>\n",
       "      <td>False</td>\n",
       "      <td>False</td>\n",
       "      <td>False</td>\n",
       "      <td>False</td>\n",
       "      <td>False</td>\n",
       "      <td>False</td>\n",
       "      <td>True</td>\n",
       "    </tr>\n",
       "    <tr>\n",
       "      <th>18978</th>\n",
       "      <td>21</td>\n",
       "      <td>100000</td>\n",
       "      <td>1000</td>\n",
       "      <td>False</td>\n",
       "      <td>False</td>\n",
       "      <td>False</td>\n",
       "      <td>False</td>\n",
       "      <td>False</td>\n",
       "      <td>False</td>\n",
       "      <td>False</td>\n",
       "      <td>...</td>\n",
       "      <td>False</td>\n",
       "      <td>True</td>\n",
       "      <td>False</td>\n",
       "      <td>False</td>\n",
       "      <td>False</td>\n",
       "      <td>False</td>\n",
       "      <td>False</td>\n",
       "      <td>False</td>\n",
       "      <td>False</td>\n",
       "      <td>False</td>\n",
       "    </tr>\n",
       "  </tbody>\n",
       "</table>\n",
       "<p>18979 rows × 864 columns</p>\n",
       "</div>"
      ],
      "text/plain": [
       "       Age      Value    Wage  Nationality_Afghanistan  Nationality_Albania  \\\n",
       "0       33  103500000  560000                    False                False   \n",
       "1       35   63000000  220000                    False                False   \n",
       "2       27  120000000  125000                    False                False   \n",
       "3       29  129000000  370000                    False                False   \n",
       "4       28  132000000  270000                    False                False   \n",
       "...    ...        ...     ...                      ...                  ...   \n",
       "18974   21     100000    1000                    False                False   \n",
       "18975   17     130000     500                    False                False   \n",
       "18976   18     120000     500                    False                False   \n",
       "18977   20     100000    2000                    False                False   \n",
       "18978   21     100000    1000                    False                False   \n",
       "\n",
       "       Nationality_Algeria  Nationality_Andorra  Nationality_Angola  \\\n",
       "0                    False                False               False   \n",
       "1                    False                False               False   \n",
       "2                    False                False               False   \n",
       "3                    False                False               False   \n",
       "4                    False                False               False   \n",
       "...                    ...                  ...                 ...   \n",
       "18974                False                False               False   \n",
       "18975                False                False               False   \n",
       "18976                False                False               False   \n",
       "18977                False                False               False   \n",
       "18978                False                False               False   \n",
       "\n",
       "       Nationality_Antigua & Barbuda  Nationality_Argentina  ...  Position_GK  \\\n",
       "0                              False                   True  ...        False   \n",
       "1                              False                  False  ...        False   \n",
       "2                              False                  False  ...         True   \n",
       "3                              False                  False  ...        False   \n",
       "4                              False                  False  ...        False   \n",
       "...                              ...                    ...  ...          ...   \n",
       "18974                          False                  False  ...        False   \n",
       "18975                          False                  False  ...        False   \n",
       "18976                          False                  False  ...        False   \n",
       "18977                          False                  False  ...        False   \n",
       "18978                          False                  False  ...        False   \n",
       "\n",
       "       Position_LB  Position_LM  Position_LW  Position_LWB  Position_RB  \\\n",
       "0            False        False        False         False        False   \n",
       "1            False        False        False         False        False   \n",
       "2            False        False        False         False        False   \n",
       "3            False        False        False         False        False   \n",
       "4            False        False         True         False        False   \n",
       "...            ...          ...          ...           ...          ...   \n",
       "18974        False        False        False         False        False   \n",
       "18975        False        False        False         False        False   \n",
       "18976        False        False        False         False        False   \n",
       "18977        False        False        False         False        False   \n",
       "18978         True        False        False         False        False   \n",
       "\n",
       "       Position_RM  Position_RW  Position_RWB  Position_ST  \n",
       "0            False         True         False        False  \n",
       "1            False        False         False         True  \n",
       "2            False        False         False        False  \n",
       "3            False        False         False        False  \n",
       "4            False        False         False        False  \n",
       "...            ...          ...           ...          ...  \n",
       "18974        False        False         False        False  \n",
       "18975        False        False         False        False  \n",
       "18976        False        False         False        False  \n",
       "18977        False        False         False         True  \n",
       "18978        False        False         False        False  \n",
       "\n",
       "[18979 rows x 864 columns]"
      ]
     },
     "execution_count": 35,
     "metadata": {},
     "output_type": "execute_result"
    }
   ],
   "source": [
    "predictors=pd.get_dummies(predictors)\n",
    "predictors"
   ]
  },
  {
   "cell_type": "markdown",
   "id": "4d57378e",
   "metadata": {
    "_cell_guid": "a41bc714-cebf-4b1a-9622-1f3c7ceb7f00",
    "_uuid": "6c05e3a4-27d0-460f-9135-c382e1e0c248",
    "papermill": {
     "duration": 0.035317,
     "end_time": "2023-11-30T00:23:48.893919",
     "exception": false,
     "start_time": "2023-11-30T00:23:48.858602",
     "status": "completed"
    },
    "tags": []
   },
   "source": [
    "**Decision Tree**"
   ]
  },
  {
   "cell_type": "code",
   "execution_count": 36,
   "id": "0d016fb0",
   "metadata": {
    "_cell_guid": "dc688cce-bbb2-4aab-927f-16d37a00c9dc",
    "_uuid": "f1fc862c-b017-4d80-adf8-d0d9d219738d",
    "collapsed": false,
    "execution": {
     "iopub.execute_input": "2023-11-30T00:23:48.967215Z",
     "iopub.status.busy": "2023-11-30T00:23:48.966479Z",
     "iopub.status.idle": "2023-11-30T00:23:49.155465Z",
     "shell.execute_reply": "2023-11-30T00:23:49.154350Z"
    },
    "jupyter": {
     "outputs_hidden": false
    },
    "papermill": {
     "duration": 0.228855,
     "end_time": "2023-11-30T00:23:49.158147",
     "exception": false,
     "start_time": "2023-11-30T00:23:48.929292",
     "status": "completed"
    },
    "tags": []
   },
   "outputs": [],
   "source": [
    "from sklearn.model_selection import train_test_split \n",
    "\n",
    "predictors_train, predictors_test, target_train, target_test = train_test_split(predictors, target, test_size=0.3) #split the data where 70% of the data is used for training, and 30% for testing\n",
    "predictors_train_new, predictors_val, target_train_new, target_val = train_test_split(predictors_train, target_train, test_size=0.1) #The data is split with a 90-10 ratio within the training data. This means 90% of the initial training data is used for the new training set, and 10% is used for the validation set."
   ]
  },
  {
   "cell_type": "code",
   "execution_count": 37,
   "id": "0f482104",
   "metadata": {
    "_cell_guid": "6dcb8c2b-972b-4736-a0ed-6d6a25ecc08b",
    "_uuid": "0e0a0e91-4ce6-4026-bcc4-05a10f542047",
    "collapsed": false,
    "execution": {
     "iopub.execute_input": "2023-11-30T00:23:49.233699Z",
     "iopub.status.busy": "2023-11-30T00:23:49.233010Z",
     "iopub.status.idle": "2023-11-30T00:23:55.017207Z",
     "shell.execute_reply": "2023-11-30T00:23:55.016028Z"
    },
    "jupyter": {
     "outputs_hidden": false
    },
    "papermill": {
     "duration": 5.824285,
     "end_time": "2023-11-30T00:23:55.019680",
     "exception": false,
     "start_time": "2023-11-30T00:23:49.195395",
     "status": "completed"
    },
    "tags": []
   },
   "outputs": [
    {
     "name": "stdout",
     "output_type": "stream",
     "text": [
      "[0.8306997742663657, 0.9367945823927766, 0.9390519187358917, 0.9510910458991723, 0.9578630549285176, 0.963130173062453, 0.963882618510158, 0.9563581640331076, 0.9616252821670429, 0.9593679458239278, 0.9608728367193379, 0.9593679458239278, 0.9563581640331076, 0.9616252821670429, 0.9608728367193379]\n"
     ]
    }
   ],
   "source": [
    "from sklearn import tree \n",
    "from sklearn import metrics \n",
    "\n",
    "max_depth_range = range(1,16)\n",
    "\n",
    "val_results = []\n",
    "train_results = []\n",
    "\n",
    "for i in max_depth_range:\n",
    "    clf_2 = tree.DecisionTreeClassifier(max_depth=i) \n",
    "    clf_2 = clf_2.fit(predictors_train_new, target_train_new)\n",
    "    pred_train_new = clf_2.predict(predictors_train_new)\n",
    "    train_score = metrics.accuracy_score(target_train_new, pred_train_new)\n",
    "    train_results.append(train_score)\n",
    "    pred_val = clf_2.predict(predictors_val)\n",
    "    val_score = metrics.accuracy_score(target_val, pred_val)\n",
    "    val_results.append(val_score)\n",
    "print(val_results)"
   ]
  },
  {
   "cell_type": "markdown",
   "id": "7920a413",
   "metadata": {
    "_cell_guid": "38436d01-acb6-4b36-b957-c8efb026eb0b",
    "_uuid": "5c4262aa-68bf-4463-94c2-7b2c60b9a418",
    "papermill": {
     "duration": 0.035696,
     "end_time": "2023-11-30T00:23:55.091223",
     "exception": false,
     "start_time": "2023-11-30T00:23:55.055527",
     "status": "completed"
    },
    "tags": []
   },
   "source": [
    "By observing the plot, you can identify the maximum validation score and its corresponding maximum depth. This information can guide you in selecting the appropriate maximum depth for your decision tree model to avoid overfitting or underfitting."
   ]
  },
  {
   "cell_type": "code",
   "execution_count": 38,
   "id": "f3921783",
   "metadata": {
    "_cell_guid": "e2b0ddd2-7a81-40f8-be43-d9e3c5b26bda",
    "_uuid": "c8750902-7739-4c41-99fc-40594dde4867",
    "collapsed": false,
    "execution": {
     "iopub.execute_input": "2023-11-30T00:23:55.165218Z",
     "iopub.status.busy": "2023-11-30T00:23:55.164774Z",
     "iopub.status.idle": "2023-11-30T00:23:55.470400Z",
     "shell.execute_reply": "2023-11-30T00:23:55.469388Z"
    },
    "jupyter": {
     "outputs_hidden": false
    },
    "papermill": {
     "duration": 0.345349,
     "end_time": "2023-11-30T00:23:55.472868",
     "exception": false,
     "start_time": "2023-11-30T00:23:55.127519",
     "status": "completed"
    },
    "tags": []
   },
   "outputs": [
    {
     "data": {
      "image/png": "[encoded data removed]",
      "text/plain": [
       "<Figure size 640x480 with 1 Axes>"
      ]
     },
     "metadata": {},
     "output_type": "display_data"
    }
   ],
   "source": [
    "plt.plot(max_depth_range, val_results, 'g-', label='Val score')\n",
    "plt.plot(max_depth_range, train_results, 'r-', label='Train score')\n",
    "plt.ylabel('Score')\n",
    "plt.xlabel('Model complexity: tree depth')\n",
    "plt.legend()\n",
    "\n",
    "max_val_index = val_results.index(max(val_results))\n",
    "\n",
    "plt.axvline(x=max_depth_range[max_val_index], color='k', linestyle='--', label='Max Val score')\n",
    "\n",
    "plt.show()"
   ]
  },
  {
   "cell_type": "markdown",
   "id": "8ad394c7",
   "metadata": {
    "_cell_guid": "3ada082a-d519-40ff-91af-13157b30996f",
    "_uuid": "2510f96a-bbc6-4de8-99ff-e629ab82a40c",
    "papermill": {
     "duration": 0.035826,
     "end_time": "2023-11-30T00:23:55.544559",
     "exception": false,
     "start_time": "2023-11-30T00:23:55.508733",
     "status": "completed"
    },
    "tags": []
   },
   "source": [
    "The best peforming module has a depth of 10 and a success rate of 96.86%"
   ]
  },
  {
   "cell_type": "code",
   "execution_count": 39,
   "id": "375f5960",
   "metadata": {
    "_cell_guid": "733c473e-5010-4197-acdb-f76794985293",
    "_uuid": "d140bd48-74d9-4ea7-afbd-81338523e418",
    "collapsed": false,
    "execution": {
     "iopub.execute_input": "2023-11-30T00:23:55.619117Z",
     "iopub.status.busy": "2023-11-30T00:23:55.618303Z",
     "iopub.status.idle": "2023-11-30T00:23:55.971472Z",
     "shell.execute_reply": "2023-11-30T00:23:55.969962Z"
    },
    "jupyter": {
     "outputs_hidden": false
    },
    "papermill": {
     "duration": 0.393711,
     "end_time": "2023-11-30T00:23:55.974379",
     "exception": false,
     "start_time": "2023-11-30T00:23:55.580668",
     "status": "completed"
    },
    "tags": []
   },
   "outputs": [
    {
     "name": "stdout",
     "output_type": "stream",
     "text": [
      "0.9603090972953987\n"
     ]
    }
   ],
   "source": [
    "clf_best1 = tree.DecisionTreeClassifier(max_depth=val_results.index(max(val_results))) \n",
    "clf_best1 = clf_best1.fit(predictors_train , target_train) \n",
    "y_pred = clf_best1.predict(predictors_test)\n",
    "print(metrics.accuracy_score(target_test , y_pred))"
   ]
  },
  {
   "cell_type": "code",
   "execution_count": 40,
   "id": "14fb8533",
   "metadata": {
    "_cell_guid": "e0a2f1e3-1975-424b-a8f2-55d86d742ede",
    "_uuid": "053ad899-af57-4ab0-96b8-b00599e2e88c",
    "collapsed": false,
    "execution": {
     "iopub.execute_input": "2023-11-30T00:23:56.056939Z",
     "iopub.status.busy": "2023-11-30T00:23:56.056074Z",
     "iopub.status.idle": "2023-11-30T00:24:01.378194Z",
     "shell.execute_reply": "2023-11-30T00:24:01.377248Z"
    },
    "jupyter": {
     "outputs_hidden": false
    },
    "papermill": {
     "duration": 5.36724,
     "end_time": "2023-11-30T00:24:01.381323",
     "exception": false,
     "start_time": "2023-11-30T00:23:56.014083",
     "status": "completed"
    },
    "tags": []
   },
   "outputs": [
    {
     "data": {
      "image/png": "[encoded data removed]",
      "text/plain": [
       "<Figure size 1400x1100 with 1 Axes>"
      ]
     },
     "metadata": {},
     "output_type": "display_data"
    }
   ],
   "source": [
    "fig = plt.figure(figsize=(14, 11)) #plot the decision tree\n",
    "_ = tree.plot_tree(clf_best1, feature_names=predictors.columns, class_names=[\"Low\",\"Mid\", \"High\"],  filled=True)"
   ]
  },
  {
   "cell_type": "markdown",
   "id": "34c2668a",
   "metadata": {
    "_cell_guid": "592111c1-6e5d-40e7-81b1-34cffb2e6d07",
    "_uuid": "9be60aaa-71ba-466e-9771-1498d8c23726",
    "papermill": {
     "duration": 0.038256,
     "end_time": "2023-11-30T00:24:01.459279",
     "exception": false,
     "start_time": "2023-11-30T00:24:01.421023",
     "status": "completed"
    },
    "tags": []
   },
   "source": [
    "Logical regression method"
   ]
  },
  {
   "cell_type": "code",
   "execution_count": 41,
   "id": "336cccc7",
   "metadata": {
    "_cell_guid": "d730e0b1-ec00-4464-be86-e6210b2863c6",
    "_uuid": "286a5732-a222-47db-8102-06c8026d0b2b",
    "collapsed": false,
    "execution": {
     "iopub.execute_input": "2023-11-30T00:24:01.539676Z",
     "iopub.status.busy": "2023-11-30T00:24:01.538941Z",
     "iopub.status.idle": "2023-11-30T00:24:01.544293Z",
     "shell.execute_reply": "2023-11-30T00:24:01.543405Z"
    },
    "jupyter": {
     "outputs_hidden": false
    },
    "papermill": {
     "duration": 0.048426,
     "end_time": "2023-11-30T00:24:01.546608",
     "exception": false,
     "start_time": "2023-11-30T00:24:01.498182",
     "status": "completed"
    },
    "tags": []
   },
   "outputs": [],
   "source": [
    "import numpy as np\n",
    "import matplotlib.pyplot as plt\n",
    "from sklearn.linear_model import LogisticRegression\n",
    "from sklearn.model_selection import train_test_split\n",
    "from sklearn.preprocessing import MinMaxScaler\n",
    "from sklearn import metrics\n",
    "from sklearn.model_selection import GridSearchCV"
   ]
  },
  {
   "cell_type": "code",
   "execution_count": 42,
   "id": "6bb17c47",
   "metadata": {
    "_cell_guid": "d04017da-5c2f-45a9-9d68-ca56c0f76f59",
    "_uuid": "ab7a61f9-9475-43fd-b7b9-afdd1f02b4da",
    "collapsed": false,
    "execution": {
     "iopub.execute_input": "2023-11-30T00:24:01.625998Z",
     "iopub.status.busy": "2023-11-30T00:24:01.625559Z",
     "iopub.status.idle": "2023-11-30T00:24:01.778511Z",
     "shell.execute_reply": "2023-11-30T00:24:01.777602Z"
    },
    "jupyter": {
     "outputs_hidden": false
    },
    "papermill": {
     "duration": 0.195989,
     "end_time": "2023-11-30T00:24:01.780999",
     "exception": false,
     "start_time": "2023-11-30T00:24:01.585010",
     "status": "completed"
    },
    "tags": []
   },
   "outputs": [
    {
     "data": {
      "text/html": [
       "<div>\n",
       "<style scoped>\n",
       "    .dataframe tbody tr th:only-of-type {\n",
       "        vertical-align: middle;\n",
       "    }\n",
       "\n",
       "    .dataframe tbody tr th {\n",
       "        vertical-align: top;\n",
       "    }\n",
       "\n",
       "    .dataframe thead th {\n",
       "        text-align: right;\n",
       "    }\n",
       "</style>\n",
       "<table border=\"1\" class=\"dataframe\">\n",
       "  <thead>\n",
       "    <tr style=\"text-align: right;\">\n",
       "      <th></th>\n",
       "      <th>Age</th>\n",
       "      <th>Value</th>\n",
       "      <th>Wage</th>\n",
       "      <th>Nationality_Afghanistan</th>\n",
       "      <th>Nationality_Albania</th>\n",
       "      <th>Nationality_Algeria</th>\n",
       "      <th>Nationality_Andorra</th>\n",
       "      <th>Nationality_Angola</th>\n",
       "      <th>Nationality_Antigua &amp; Barbuda</th>\n",
       "      <th>Nationality_Argentina</th>\n",
       "      <th>...</th>\n",
       "      <th>Position_GK</th>\n",
       "      <th>Position_LB</th>\n",
       "      <th>Position_LM</th>\n",
       "      <th>Position_LW</th>\n",
       "      <th>Position_LWB</th>\n",
       "      <th>Position_RB</th>\n",
       "      <th>Position_RM</th>\n",
       "      <th>Position_RW</th>\n",
       "      <th>Position_RWB</th>\n",
       "      <th>Position_ST</th>\n",
       "    </tr>\n",
       "  </thead>\n",
       "  <tbody>\n",
       "    <tr>\n",
       "      <th>0</th>\n",
       "      <td>33</td>\n",
       "      <td>103500000</td>\n",
       "      <td>560000</td>\n",
       "      <td>False</td>\n",
       "      <td>False</td>\n",
       "      <td>False</td>\n",
       "      <td>False</td>\n",
       "      <td>False</td>\n",
       "      <td>False</td>\n",
       "      <td>True</td>\n",
       "      <td>...</td>\n",
       "      <td>False</td>\n",
       "      <td>False</td>\n",
       "      <td>False</td>\n",
       "      <td>False</td>\n",
       "      <td>False</td>\n",
       "      <td>False</td>\n",
       "      <td>False</td>\n",
       "      <td>True</td>\n",
       "      <td>False</td>\n",
       "      <td>False</td>\n",
       "    </tr>\n",
       "    <tr>\n",
       "      <th>1</th>\n",
       "      <td>35</td>\n",
       "      <td>63000000</td>\n",
       "      <td>220000</td>\n",
       "      <td>False</td>\n",
       "      <td>False</td>\n",
       "      <td>False</td>\n",
       "      <td>False</td>\n",
       "      <td>False</td>\n",
       "      <td>False</td>\n",
       "      <td>False</td>\n",
       "      <td>...</td>\n",
       "      <td>False</td>\n",
       "      <td>False</td>\n",
       "      <td>False</td>\n",
       "      <td>False</td>\n",
       "      <td>False</td>\n",
       "      <td>False</td>\n",
       "      <td>False</td>\n",
       "      <td>False</td>\n",
       "      <td>False</td>\n",
       "      <td>True</td>\n",
       "    </tr>\n",
       "    <tr>\n",
       "      <th>2</th>\n",
       "      <td>27</td>\n",
       "      <td>120000000</td>\n",
       "      <td>125000</td>\n",
       "      <td>False</td>\n",
       "      <td>False</td>\n",
       "      <td>False</td>\n",
       "      <td>False</td>\n",
       "      <td>False</td>\n",
       "      <td>False</td>\n",
       "      <td>False</td>\n",
       "      <td>...</td>\n",
       "      <td>True</td>\n",
       "      <td>False</td>\n",
       "      <td>False</td>\n",
       "      <td>False</td>\n",
       "      <td>False</td>\n",
       "      <td>False</td>\n",
       "      <td>False</td>\n",
       "      <td>False</td>\n",
       "      <td>False</td>\n",
       "      <td>False</td>\n",
       "    </tr>\n",
       "    <tr>\n",
       "      <th>3</th>\n",
       "      <td>29</td>\n",
       "      <td>129000000</td>\n",
       "      <td>370000</td>\n",
       "      <td>False</td>\n",
       "      <td>False</td>\n",
       "      <td>False</td>\n",
       "      <td>False</td>\n",
       "      <td>False</td>\n",
       "      <td>False</td>\n",
       "      <td>False</td>\n",
       "      <td>...</td>\n",
       "      <td>False</td>\n",
       "      <td>False</td>\n",
       "      <td>False</td>\n",
       "      <td>False</td>\n",
       "      <td>False</td>\n",
       "      <td>False</td>\n",
       "      <td>False</td>\n",
       "      <td>False</td>\n",
       "      <td>False</td>\n",
       "      <td>False</td>\n",
       "    </tr>\n",
       "    <tr>\n",
       "      <th>4</th>\n",
       "      <td>28</td>\n",
       "      <td>132000000</td>\n",
       "      <td>270000</td>\n",
       "      <td>False</td>\n",
       "      <td>False</td>\n",
       "      <td>False</td>\n",
       "      <td>False</td>\n",
       "      <td>False</td>\n",
       "      <td>False</td>\n",
       "      <td>False</td>\n",
       "      <td>...</td>\n",
       "      <td>False</td>\n",
       "      <td>False</td>\n",
       "      <td>False</td>\n",
       "      <td>True</td>\n",
       "      <td>False</td>\n",
       "      <td>False</td>\n",
       "      <td>False</td>\n",
       "      <td>False</td>\n",
       "      <td>False</td>\n",
       "      <td>False</td>\n",
       "    </tr>\n",
       "  </tbody>\n",
       "</table>\n",
       "<p>5 rows × 864 columns</p>\n",
       "</div>"
      ],
      "text/plain": [
       "   Age      Value    Wage  Nationality_Afghanistan  Nationality_Albania  \\\n",
       "0   33  103500000  560000                    False                False   \n",
       "1   35   63000000  220000                    False                False   \n",
       "2   27  120000000  125000                    False                False   \n",
       "3   29  129000000  370000                    False                False   \n",
       "4   28  132000000  270000                    False                False   \n",
       "\n",
       "   Nationality_Algeria  Nationality_Andorra  Nationality_Angola  \\\n",
       "0                False                False               False   \n",
       "1                False                False               False   \n",
       "2                False                False               False   \n",
       "3                False                False               False   \n",
       "4                False                False               False   \n",
       "\n",
       "   Nationality_Antigua & Barbuda  Nationality_Argentina  ...  Position_GK  \\\n",
       "0                          False                   True  ...        False   \n",
       "1                          False                  False  ...        False   \n",
       "2                          False                  False  ...         True   \n",
       "3                          False                  False  ...        False   \n",
       "4                          False                  False  ...        False   \n",
       "\n",
       "   Position_LB  Position_LM  Position_LW  Position_LWB  Position_RB  \\\n",
       "0        False        False        False         False        False   \n",
       "1        False        False        False         False        False   \n",
       "2        False        False        False         False        False   \n",
       "3        False        False        False         False        False   \n",
       "4        False        False         True         False        False   \n",
       "\n",
       "   Position_RM  Position_RW  Position_RWB  Position_ST  \n",
       "0        False         True         False        False  \n",
       "1        False        False         False         True  \n",
       "2        False        False         False        False  \n",
       "3        False        False         False        False  \n",
       "4        False        False         False        False  \n",
       "\n",
       "[5 rows x 864 columns]"
      ]
     },
     "execution_count": 42,
     "metadata": {},
     "output_type": "execute_result"
    }
   ],
   "source": [
    "X=df[['Nationality', 'Age', 'Club', 'Position', 'Value', 'Wage']]\n",
    "y=df[\"encoded_rating\"]\n",
    "X = pd.get_dummies(X)\n",
    "X.head()"
   ]
  },
  {
   "cell_type": "code",
   "execution_count": 43,
   "id": "dd3cb533",
   "metadata": {
    "_cell_guid": "2a8e0b2b-fbda-4304-8e2a-6e1f2b9f9a70",
    "_uuid": "94d79c55-dd8c-4c02-9ed1-48b2dffc7a49",
    "collapsed": false,
    "execution": {
     "iopub.execute_input": "2023-11-30T00:24:01.861158Z",
     "iopub.status.busy": "2023-11-30T00:24:01.860476Z",
     "iopub.status.idle": "2023-11-30T00:24:02.910742Z",
     "shell.execute_reply": "2023-11-30T00:24:02.909586Z"
    },
    "jupyter": {
     "outputs_hidden": false
    },
    "papermill": {
     "duration": 1.093677,
     "end_time": "2023-11-30T00:24:02.913853",
     "exception": false,
     "start_time": "2023-11-30T00:24:01.820176",
     "status": "completed"
    },
    "tags": []
   },
   "outputs": [],
   "source": [
    "X_train, X_test, y_train, y_test = train_test_split(X, y, test_size=0.3, random_state=4)\n",
    "#Normalisation of data\n",
    "scaler = MinMaxScaler()\n",
    "scaler.fit(X_train)\n",
    "X_train = scaler.transform(X_train)\n",
    "X_test = scaler.transform(X_test)"
   ]
  },
  {
   "cell_type": "code",
   "execution_count": 44,
   "id": "f4d6cfad",
   "metadata": {
    "_cell_guid": "13bf475c-ac48-49c5-b7ec-6a6a821b82ef",
    "_uuid": "003e8bb6-e2bc-4b29-90c5-4769e1f4480d",
    "collapsed": false,
    "execution": {
     "iopub.execute_input": "2023-11-30T00:24:02.997339Z",
     "iopub.status.busy": "2023-11-30T00:24:02.996217Z",
     "iopub.status.idle": "2023-11-30T00:25:03.714911Z",
     "shell.execute_reply": "2023-11-30T00:25:03.713320Z"
    },
    "jupyter": {
     "outputs_hidden": false
    },
    "papermill": {
     "duration": 60.769232,
     "end_time": "2023-11-30T00:25:03.723537",
     "exception": false,
     "start_time": "2023-11-30T00:24:02.954305",
     "status": "completed"
    },
    "tags": []
   },
   "outputs": [
    {
     "name": "stdout",
     "output_type": "stream",
     "text": [
      "Fitting 5 folds for each of 12 candidates, totalling 60 fits\n",
      "[CV 1/5] END .................C=0.001, penalty=l1;, score=nan total time=   0.1s\n",
      "[CV 2/5] END .................C=0.001, penalty=l1;, score=nan total time=   0.0s\n",
      "[CV 3/5] END .................C=0.001, penalty=l1;, score=nan total time=   0.0s\n",
      "[CV 4/5] END .................C=0.001, penalty=l1;, score=nan total time=   0.0s\n",
      "[CV 5/5] END .................C=0.001, penalty=l1;, score=nan total time=   0.0s\n",
      "[CV 1/5] END ...............C=0.001, penalty=l2;, score=0.795 total time=   0.4s\n",
      "[CV 2/5] END ...............C=0.001, penalty=l2;, score=0.796 total time=   0.4s\n",
      "[CV 3/5] END ...............C=0.001, penalty=l2;, score=0.796 total time=   0.4s\n",
      "[CV 4/5] END ...............C=0.001, penalty=l2;, score=0.796 total time=   0.4s\n",
      "[CV 5/5] END ...............C=0.001, penalty=l2;, score=0.796 total time=   0.4s\n",
      "[CV 1/5] END ..................C=0.01, penalty=l1;, score=nan total time=   0.1s\n",
      "[CV 2/5] END ..................C=0.01, penalty=l1;, score=nan total time=   0.1s\n",
      "[CV 3/5] END ..................C=0.01, penalty=l1;, score=nan total time=   0.0s\n",
      "[CV 4/5] END ..................C=0.01, penalty=l1;, score=nan total time=   0.0s\n",
      "[CV 5/5] END ..................C=0.01, penalty=l1;, score=nan total time=   0.0s\n",
      "[CV 1/5] END ................C=0.01, penalty=l2;, score=0.797 total time=   0.6s\n",
      "[CV 2/5] END ................C=0.01, penalty=l2;, score=0.796 total time=   0.7s\n",
      "[CV 3/5] END ................C=0.01, penalty=l2;, score=0.798 total time=   0.6s\n",
      "[CV 4/5] END ................C=0.01, penalty=l2;, score=0.798 total time=   0.7s\n",
      "[CV 5/5] END ................C=0.01, penalty=l2;, score=0.798 total time=   0.6s\n",
      "[CV 1/5] END ...................C=0.1, penalty=l1;, score=nan total time=   0.1s\n",
      "[CV 2/5] END ...................C=0.1, penalty=l1;, score=nan total time=   0.1s\n",
      "[CV 3/5] END ...................C=0.1, penalty=l1;, score=nan total time=   0.0s\n",
      "[CV 4/5] END ...................C=0.1, penalty=l1;, score=nan total time=   0.0s\n",
      "[CV 5/5] END ...................C=0.1, penalty=l1;, score=nan total time=   0.0s\n",
      "[CV 1/5] END .................C=0.1, penalty=l2;, score=0.855 total time=   1.3s\n",
      "[CV 2/5] END .................C=0.1, penalty=l2;, score=0.853 total time=   1.3s\n",
      "[CV 3/5] END .................C=0.1, penalty=l2;, score=0.860 total time=   1.2s\n",
      "[CV 4/5] END .................C=0.1, penalty=l2;, score=0.848 total time=   1.4s\n",
      "[CV 5/5] END .................C=0.1, penalty=l2;, score=0.850 total time=   1.4s\n",
      "[CV 1/5] END .....................C=1, penalty=l1;, score=nan total time=   0.1s\n",
      "[CV 2/5] END .....................C=1, penalty=l1;, score=nan total time=   0.1s\n",
      "[CV 3/5] END .....................C=1, penalty=l1;, score=nan total time=   0.0s\n",
      "[CV 4/5] END .....................C=1, penalty=l1;, score=nan total time=   0.0s\n",
      "[CV 5/5] END .....................C=1, penalty=l1;, score=nan total time=   0.0s\n"
     ]
    },
    {
     "name": "stderr",
     "output_type": "stream",
     "text": [
      "/opt/conda/lib/python3.10/site-packages/sklearn/linear_model/_logistic.py:458: ConvergenceWarning: lbfgs failed to converge (status=1):\n",
      "STOP: TOTAL NO. of ITERATIONS REACHED LIMIT.\n",
      "\n",
      "Increase the number of iterations (max_iter) or scale the data as shown in:\n",
      "    https://scikit-learn.org/stable/modules/preprocessing.html\n",
      "Please also refer to the documentation for alternative solver options:\n",
      "    https://scikit-learn.org/stable/modules/linear_model.html#logistic-regression\n",
      "  n_iter_i = _check_optimize_result(\n"
     ]
    },
    {
     "name": "stdout",
     "output_type": "stream",
     "text": [
      "[CV 1/5] END ...................C=1, penalty=l2;, score=0.870 total time=   3.4s\n"
     ]
    },
    {
     "name": "stderr",
     "output_type": "stream",
     "text": [
      "/opt/conda/lib/python3.10/site-packages/sklearn/linear_model/_logistic.py:458: ConvergenceWarning: lbfgs failed to converge (status=1):\n",
      "STOP: TOTAL NO. of ITERATIONS REACHED LIMIT.\n",
      "\n",
      "Increase the number of iterations (max_iter) or scale the data as shown in:\n",
      "    https://scikit-learn.org/stable/modules/preprocessing.html\n",
      "Please also refer to the documentation for alternative solver options:\n",
      "    https://scikit-learn.org/stable/modules/linear_model.html#logistic-regression\n",
      "  n_iter_i = _check_optimize_result(\n"
     ]
    },
    {
     "name": "stdout",
     "output_type": "stream",
     "text": [
      "[CV 2/5] END ...................C=1, penalty=l2;, score=0.869 total time=   3.2s\n"
     ]
    },
    {
     "name": "stderr",
     "output_type": "stream",
     "text": [
      "/opt/conda/lib/python3.10/site-packages/sklearn/linear_model/_logistic.py:458: ConvergenceWarning: lbfgs failed to converge (status=1):\n",
      "STOP: TOTAL NO. of ITERATIONS REACHED LIMIT.\n",
      "\n",
      "Increase the number of iterations (max_iter) or scale the data as shown in:\n",
      "    https://scikit-learn.org/stable/modules/preprocessing.html\n",
      "Please also refer to the documentation for alternative solver options:\n",
      "    https://scikit-learn.org/stable/modules/linear_model.html#logistic-regression\n",
      "  n_iter_i = _check_optimize_result(\n"
     ]
    },
    {
     "name": "stdout",
     "output_type": "stream",
     "text": [
      "[CV 3/5] END ...................C=1, penalty=l2;, score=0.875 total time=   2.7s\n"
     ]
    },
    {
     "name": "stderr",
     "output_type": "stream",
     "text": [
      "/opt/conda/lib/python3.10/site-packages/sklearn/linear_model/_logistic.py:458: ConvergenceWarning: lbfgs failed to converge (status=1):\n",
      "STOP: TOTAL NO. of ITERATIONS REACHED LIMIT.\n",
      "\n",
      "Increase the number of iterations (max_iter) or scale the data as shown in:\n",
      "    https://scikit-learn.org/stable/modules/preprocessing.html\n",
      "Please also refer to the documentation for alternative solver options:\n",
      "    https://scikit-learn.org/stable/modules/linear_model.html#logistic-regression\n",
      "  n_iter_i = _check_optimize_result(\n"
     ]
    },
    {
     "name": "stdout",
     "output_type": "stream",
     "text": [
      "[CV 4/5] END ...................C=1, penalty=l2;, score=0.875 total time=   2.9s\n"
     ]
    },
    {
     "name": "stderr",
     "output_type": "stream",
     "text": [
      "/opt/conda/lib/python3.10/site-packages/sklearn/linear_model/_logistic.py:458: ConvergenceWarning: lbfgs failed to converge (status=1):\n",
      "STOP: TOTAL NO. of ITERATIONS REACHED LIMIT.\n",
      "\n",
      "Increase the number of iterations (max_iter) or scale the data as shown in:\n",
      "    https://scikit-learn.org/stable/modules/preprocessing.html\n",
      "Please also refer to the documentation for alternative solver options:\n",
      "    https://scikit-learn.org/stable/modules/linear_model.html#logistic-regression\n",
      "  n_iter_i = _check_optimize_result(\n"
     ]
    },
    {
     "name": "stdout",
     "output_type": "stream",
     "text": [
      "[CV 5/5] END ...................C=1, penalty=l2;, score=0.878 total time=   2.6s\n",
      "[CV 1/5] END ....................C=10, penalty=l1;, score=nan total time=   0.1s\n",
      "[CV 2/5] END ....................C=10, penalty=l1;, score=nan total time=   0.1s\n",
      "[CV 3/5] END ....................C=10, penalty=l1;, score=nan total time=   0.1s\n",
      "[CV 4/5] END ....................C=10, penalty=l1;, score=nan total time=   0.0s\n",
      "[CV 5/5] END ....................C=10, penalty=l1;, score=nan total time=   0.0s\n"
     ]
    },
    {
     "name": "stderr",
     "output_type": "stream",
     "text": [
      "/opt/conda/lib/python3.10/site-packages/sklearn/linear_model/_logistic.py:458: ConvergenceWarning: lbfgs failed to converge (status=1):\n",
      "STOP: TOTAL NO. of ITERATIONS REACHED LIMIT.\n",
      "\n",
      "Increase the number of iterations (max_iter) or scale the data as shown in:\n",
      "    https://scikit-learn.org/stable/modules/preprocessing.html\n",
      "Please also refer to the documentation for alternative solver options:\n",
      "    https://scikit-learn.org/stable/modules/linear_model.html#logistic-regression\n",
      "  n_iter_i = _check_optimize_result(\n"
     ]
    },
    {
     "name": "stdout",
     "output_type": "stream",
     "text": [
      "[CV 1/5] END ..................C=10, penalty=l2;, score=0.877 total time=   2.7s\n"
     ]
    },
    {
     "name": "stderr",
     "output_type": "stream",
     "text": [
      "/opt/conda/lib/python3.10/site-packages/sklearn/linear_model/_logistic.py:458: ConvergenceWarning: lbfgs failed to converge (status=1):\n",
      "STOP: TOTAL NO. of ITERATIONS REACHED LIMIT.\n",
      "\n",
      "Increase the number of iterations (max_iter) or scale the data as shown in:\n",
      "    https://scikit-learn.org/stable/modules/preprocessing.html\n",
      "Please also refer to the documentation for alternative solver options:\n",
      "    https://scikit-learn.org/stable/modules/linear_model.html#logistic-regression\n",
      "  n_iter_i = _check_optimize_result(\n"
     ]
    },
    {
     "name": "stdout",
     "output_type": "stream",
     "text": [
      "[CV 2/5] END ..................C=10, penalty=l2;, score=0.879 total time=   2.8s\n"
     ]
    },
    {
     "name": "stderr",
     "output_type": "stream",
     "text": [
      "/opt/conda/lib/python3.10/site-packages/sklearn/linear_model/_logistic.py:458: ConvergenceWarning: lbfgs failed to converge (status=1):\n",
      "STOP: TOTAL NO. of ITERATIONS REACHED LIMIT.\n",
      "\n",
      "Increase the number of iterations (max_iter) or scale the data as shown in:\n",
      "    https://scikit-learn.org/stable/modules/preprocessing.html\n",
      "Please also refer to the documentation for alternative solver options:\n",
      "    https://scikit-learn.org/stable/modules/linear_model.html#logistic-regression\n",
      "  n_iter_i = _check_optimize_result(\n"
     ]
    },
    {
     "name": "stdout",
     "output_type": "stream",
     "text": [
      "[CV 3/5] END ..................C=10, penalty=l2;, score=0.881 total time=   2.7s\n"
     ]
    },
    {
     "name": "stderr",
     "output_type": "stream",
     "text": [
      "/opt/conda/lib/python3.10/site-packages/sklearn/linear_model/_logistic.py:458: ConvergenceWarning: lbfgs failed to converge (status=1):\n",
      "STOP: TOTAL NO. of ITERATIONS REACHED LIMIT.\n",
      "\n",
      "Increase the number of iterations (max_iter) or scale the data as shown in:\n",
      "    https://scikit-learn.org/stable/modules/preprocessing.html\n",
      "Please also refer to the documentation for alternative solver options:\n",
      "    https://scikit-learn.org/stable/modules/linear_model.html#logistic-regression\n",
      "  n_iter_i = _check_optimize_result(\n"
     ]
    },
    {
     "name": "stdout",
     "output_type": "stream",
     "text": [
      "[CV 4/5] END ..................C=10, penalty=l2;, score=0.881 total time=   2.7s\n"
     ]
    },
    {
     "name": "stderr",
     "output_type": "stream",
     "text": [
      "/opt/conda/lib/python3.10/site-packages/sklearn/linear_model/_logistic.py:458: ConvergenceWarning: lbfgs failed to converge (status=1):\n",
      "STOP: TOTAL NO. of ITERATIONS REACHED LIMIT.\n",
      "\n",
      "Increase the number of iterations (max_iter) or scale the data as shown in:\n",
      "    https://scikit-learn.org/stable/modules/preprocessing.html\n",
      "Please also refer to the documentation for alternative solver options:\n",
      "    https://scikit-learn.org/stable/modules/linear_model.html#logistic-regression\n",
      "  n_iter_i = _check_optimize_result(\n"
     ]
    },
    {
     "name": "stdout",
     "output_type": "stream",
     "text": [
      "[CV 5/5] END ..................C=10, penalty=l2;, score=0.889 total time=   2.7s\n",
      "[CV 1/5] END ...................C=100, penalty=l1;, score=nan total time=   0.1s\n",
      "[CV 2/5] END ...................C=100, penalty=l1;, score=nan total time=   0.1s\n",
      "[CV 3/5] END ...................C=100, penalty=l1;, score=nan total time=   0.1s\n",
      "[CV 4/5] END ...................C=100, penalty=l1;, score=nan total time=   0.0s\n",
      "[CV 5/5] END ...................C=100, penalty=l1;, score=nan total time=   0.0s\n"
     ]
    },
    {
     "name": "stderr",
     "output_type": "stream",
     "text": [
      "/opt/conda/lib/python3.10/site-packages/sklearn/linear_model/_logistic.py:458: ConvergenceWarning: lbfgs failed to converge (status=1):\n",
      "STOP: TOTAL NO. of ITERATIONS REACHED LIMIT.\n",
      "\n",
      "Increase the number of iterations (max_iter) or scale the data as shown in:\n",
      "    https://scikit-learn.org/stable/modules/preprocessing.html\n",
      "Please also refer to the documentation for alternative solver options:\n",
      "    https://scikit-learn.org/stable/modules/linear_model.html#logistic-regression\n",
      "  n_iter_i = _check_optimize_result(\n"
     ]
    },
    {
     "name": "stdout",
     "output_type": "stream",
     "text": [
      "[CV 1/5] END .................C=100, penalty=l2;, score=0.886 total time=   2.8s\n"
     ]
    },
    {
     "name": "stderr",
     "output_type": "stream",
     "text": [
      "/opt/conda/lib/python3.10/site-packages/sklearn/linear_model/_logistic.py:458: ConvergenceWarning: lbfgs failed to converge (status=1):\n",
      "STOP: TOTAL NO. of ITERATIONS REACHED LIMIT.\n",
      "\n",
      "Increase the number of iterations (max_iter) or scale the data as shown in:\n",
      "    https://scikit-learn.org/stable/modules/preprocessing.html\n",
      "Please also refer to the documentation for alternative solver options:\n",
      "    https://scikit-learn.org/stable/modules/linear_model.html#logistic-regression\n",
      "  n_iter_i = _check_optimize_result(\n"
     ]
    },
    {
     "name": "stdout",
     "output_type": "stream",
     "text": [
      "[CV 2/5] END .................C=100, penalty=l2;, score=0.883 total time=   2.9s\n"
     ]
    },
    {
     "name": "stderr",
     "output_type": "stream",
     "text": [
      "/opt/conda/lib/python3.10/site-packages/sklearn/linear_model/_logistic.py:458: ConvergenceWarning: lbfgs failed to converge (status=1):\n",
      "STOP: TOTAL NO. of ITERATIONS REACHED LIMIT.\n",
      "\n",
      "Increase the number of iterations (max_iter) or scale the data as shown in:\n",
      "    https://scikit-learn.org/stable/modules/preprocessing.html\n",
      "Please also refer to the documentation for alternative solver options:\n",
      "    https://scikit-learn.org/stable/modules/linear_model.html#logistic-regression\n",
      "  n_iter_i = _check_optimize_result(\n"
     ]
    },
    {
     "name": "stdout",
     "output_type": "stream",
     "text": [
      "[CV 3/5] END .................C=100, penalty=l2;, score=0.895 total time=   3.6s\n"
     ]
    },
    {
     "name": "stderr",
     "output_type": "stream",
     "text": [
      "/opt/conda/lib/python3.10/site-packages/sklearn/linear_model/_logistic.py:458: ConvergenceWarning: lbfgs failed to converge (status=1):\n",
      "STOP: TOTAL NO. of ITERATIONS REACHED LIMIT.\n",
      "\n",
      "Increase the number of iterations (max_iter) or scale the data as shown in:\n",
      "    https://scikit-learn.org/stable/modules/preprocessing.html\n",
      "Please also refer to the documentation for alternative solver options:\n",
      "    https://scikit-learn.org/stable/modules/linear_model.html#logistic-regression\n",
      "  n_iter_i = _check_optimize_result(\n"
     ]
    },
    {
     "name": "stdout",
     "output_type": "stream",
     "text": [
      "[CV 4/5] END .................C=100, penalty=l2;, score=0.884 total time=   2.9s\n"
     ]
    },
    {
     "name": "stderr",
     "output_type": "stream",
     "text": [
      "/opt/conda/lib/python3.10/site-packages/sklearn/linear_model/_logistic.py:458: ConvergenceWarning: lbfgs failed to converge (status=1):\n",
      "STOP: TOTAL NO. of ITERATIONS REACHED LIMIT.\n",
      "\n",
      "Increase the number of iterations (max_iter) or scale the data as shown in:\n",
      "    https://scikit-learn.org/stable/modules/preprocessing.html\n",
      "Please also refer to the documentation for alternative solver options:\n",
      "    https://scikit-learn.org/stable/modules/linear_model.html#logistic-regression\n",
      "  n_iter_i = _check_optimize_result(\n",
      "/opt/conda/lib/python3.10/site-packages/sklearn/model_selection/_validation.py:378: FitFailedWarning: \n",
      "30 fits failed out of a total of 60.\n",
      "The score on these train-test partitions for these parameters will be set to nan.\n",
      "If these failures are not expected, you can try to debug them by setting error_score='raise'.\n",
      "\n",
      "Below are more details about the failures:\n",
      "--------------------------------------------------------------------------------\n",
      "30 fits failed with the following error:\n",
      "Traceback (most recent call last):\n",
      "  File \"/opt/conda/lib/python3.10/site-packages/sklearn/model_selection/_validation.py\", line 686, in _fit_and_score\n",
      "    estimator.fit(X_train, y_train, **fit_params)\n",
      "  File \"/opt/conda/lib/python3.10/site-packages/sklearn/linear_model/_logistic.py\", line 1162, in fit\n",
      "    solver = _check_solver(self.solver, self.penalty, self.dual)\n",
      "  File \"/opt/conda/lib/python3.10/site-packages/sklearn/linear_model/_logistic.py\", line 54, in _check_solver\n",
      "    raise ValueError(\n",
      "ValueError: Solver lbfgs supports only 'l2' or 'none' penalties, got l1 penalty.\n",
      "\n",
      "  warnings.warn(some_fits_failed_message, FitFailedWarning)\n",
      "/opt/conda/lib/python3.10/site-packages/sklearn/model_selection/_search.py:952: UserWarning: One or more of the test scores are non-finite: [       nan 0.7955589         nan 0.79729018        nan 0.85314264\n",
      "        nan 0.87339104        nan 0.88136997        nan 0.88980053]\n",
      "  warnings.warn(\n"
     ]
    },
    {
     "name": "stdout",
     "output_type": "stream",
     "text": [
      "[CV 5/5] END .................C=100, penalty=l2;, score=0.901 total time=   2.7s\n",
      "Best hyperparameters:\n",
      " {'C': 100, 'penalty': 'l2'}\n",
      "Best score: 0.8898005269100489\n"
     ]
    },
    {
     "name": "stderr",
     "output_type": "stream",
     "text": [
      "/opt/conda/lib/python3.10/site-packages/sklearn/linear_model/_logistic.py:458: ConvergenceWarning: lbfgs failed to converge (status=1):\n",
      "STOP: TOTAL NO. of ITERATIONS REACHED LIMIT.\n",
      "\n",
      "Increase the number of iterations (max_iter) or scale the data as shown in:\n",
      "    https://scikit-learn.org/stable/modules/preprocessing.html\n",
      "Please also refer to the documentation for alternative solver options:\n",
      "    https://scikit-learn.org/stable/modules/linear_model.html#logistic-regression\n",
      "  n_iter_i = _check_optimize_result(\n"
     ]
    }
   ],
   "source": [
    "#hyperparameters using GridSearchCV\n",
    "from sklearn.model_selection import GridSearchCV\n",
    "param_grid = {'C': [0.001, 0.01, 0.1, 1, 10, 100], 'penalty': ['l1', 'l2']}\n",
    "grid = GridSearchCV(LogisticRegression(), param_grid, verbose=3)\n",
    "grid.fit(X_train, y_train)\n",
    "print(\"Best hyperparameters:\\n\", grid.best_params_)\n",
    "print(\"Best score:\", grid.best_score_)"
   ]
  },
  {
   "cell_type": "code",
   "execution_count": 45,
   "id": "ce403a02",
   "metadata": {
    "_cell_guid": "aab79671-9f33-4ce4-915e-28a955f9fa1f",
    "_uuid": "37cf65cb-feb8-49a2-900b-ed53ff8c7ee8",
    "collapsed": false,
    "execution": {
     "iopub.execute_input": "2023-11-30T00:25:03.870748Z",
     "iopub.status.busy": "2023-11-30T00:25:03.869607Z",
     "iopub.status.idle": "2023-11-30T00:25:07.266440Z",
     "shell.execute_reply": "2023-11-30T00:25:07.257656Z"
    },
    "jupyter": {
     "outputs_hidden": false
    },
    "papermill": {
     "duration": 3.453061,
     "end_time": "2023-11-30T00:25:07.271115",
     "exception": false,
     "start_time": "2023-11-30T00:25:03.818054",
     "status": "completed"
    },
    "tags": []
   },
   "outputs": [
    {
     "name": "stdout",
     "output_type": "stream",
     "text": [
      "Model parameters:\n",
      " {'C': 100, 'class_weight': None, 'dual': False, 'fit_intercept': True, 'intercept_scaling': 1, 'l1_ratio': None, 'max_iter': 100, 'multi_class': 'auto', 'n_jobs': None, 'penalty': 'l2', 'random_state': None, 'solver': 'lbfgs', 'tol': 0.0001, 'verbose': 0, 'warm_start': False}\n"
     ]
    },
    {
     "name": "stderr",
     "output_type": "stream",
     "text": [
      "/opt/conda/lib/python3.10/site-packages/sklearn/linear_model/_logistic.py:458: ConvergenceWarning: lbfgs failed to converge (status=1):\n",
      "STOP: TOTAL NO. of ITERATIONS REACHED LIMIT.\n",
      "\n",
      "Increase the number of iterations (max_iter) or scale the data as shown in:\n",
      "    https://scikit-learn.org/stable/modules/preprocessing.html\n",
      "Please also refer to the documentation for alternative solver options:\n",
      "    https://scikit-learn.org/stable/modules/linear_model.html#logistic-regression\n",
      "  n_iter_i = _check_optimize_result(\n"
     ]
    }
   ],
   "source": [
    "clf = LogisticRegression(C=grid.best_params_['C'], penalty=grid.best_params_['penalty'])\n",
    "clf = clf.fit(X_train, y_train)\n",
    "print(\"Model parameters:\\n\", clf.get_params())"
   ]
  },
  {
   "cell_type": "code",
   "execution_count": 46,
   "id": "aead393a",
   "metadata": {
    "_cell_guid": "291e2be2-a533-4baf-bc14-44c4117cbb4e",
    "_uuid": "1390217e-d8c0-4f43-8787-589139c57979",
    "collapsed": false,
    "execution": {
     "iopub.execute_input": "2023-11-30T00:25:07.418815Z",
     "iopub.status.busy": "2023-11-30T00:25:07.418417Z",
     "iopub.status.idle": "2023-11-30T00:25:07.445866Z",
     "shell.execute_reply": "2023-11-30T00:25:07.444257Z"
    },
    "jupyter": {
     "outputs_hidden": false
    },
    "papermill": {
     "duration": 0.083038,
     "end_time": "2023-11-30T00:25:07.449974",
     "exception": false,
     "start_time": "2023-11-30T00:25:07.366936",
     "status": "completed"
    },
    "tags": []
   },
   "outputs": [
    {
     "name": "stdout",
     "output_type": "stream",
     "text": [
      "Predictions:\n",
      " [2 1 2]\n",
      "Actual:\n",
      " 14982    2\n",
      "17465    1\n",
      "13133    2\n",
      "Name: encoded_rating, dtype: int64\n",
      "Accuracy: 0.8939234281700035\n"
     ]
    }
   ],
   "source": [
    "from sklearn import metrics\n",
    "y_pred = clf.predict(X_test)\n",
    "print(\"Predictions:\\n\", y_pred[0:3])\n",
    "print(\"Actual:\\n\", y_test[0:3])\n",
    "print(\"Accuracy:\", metrics.accuracy_score(y_test, y_pred))"
   ]
  },
  {
   "cell_type": "code",
   "execution_count": 47,
   "id": "233f43e6",
   "metadata": {
    "_cell_guid": "13c963ab-704c-4127-a9f6-35c28a5fa1df",
    "_uuid": "1badf73b-fc32-4cb1-af51-fcc8a342c032",
    "collapsed": false,
    "execution": {
     "iopub.execute_input": "2023-11-30T00:25:07.598039Z",
     "iopub.status.busy": "2023-11-30T00:25:07.597614Z",
     "iopub.status.idle": "2023-11-30T00:25:07.614059Z",
     "shell.execute_reply": "2023-11-30T00:25:07.612874Z"
    },
    "jupyter": {
     "outputs_hidden": false
    },
    "papermill": {
     "duration": 0.072534,
     "end_time": "2023-11-30T00:25:07.616345",
     "exception": false,
     "start_time": "2023-11-30T00:25:07.543811",
     "status": "completed"
    },
    "tags": []
   },
   "outputs": [
    {
     "data": {
      "text/html": [
       "<div>\n",
       "<style scoped>\n",
       "    .dataframe tbody tr th:only-of-type {\n",
       "        vertical-align: middle;\n",
       "    }\n",
       "\n",
       "    .dataframe tbody tr th {\n",
       "        vertical-align: top;\n",
       "    }\n",
       "\n",
       "    .dataframe thead th {\n",
       "        text-align: right;\n",
       "    }\n",
       "</style>\n",
       "<table border=\"1\" class=\"dataframe\">\n",
       "  <thead>\n",
       "    <tr style=\"text-align: right;\">\n",
       "      <th></th>\n",
       "      <th>features</th>\n",
       "      <th>coefficient</th>\n",
       "    </tr>\n",
       "  </thead>\n",
       "  <tbody>\n",
       "    <tr>\n",
       "      <th>0</th>\n",
       "      <td>Age</td>\n",
       "      <td>14.424852</td>\n",
       "    </tr>\n",
       "    <tr>\n",
       "      <th>1</th>\n",
       "      <td>Value</td>\n",
       "      <td>88.790362</td>\n",
       "    </tr>\n",
       "    <tr>\n",
       "      <th>2</th>\n",
       "      <td>Wage</td>\n",
       "      <td>49.875085</td>\n",
       "    </tr>\n",
       "    <tr>\n",
       "      <th>3</th>\n",
       "      <td>Nationality_Afghanistan</td>\n",
       "      <td>-0.018318</td>\n",
       "    </tr>\n",
       "    <tr>\n",
       "      <th>4</th>\n",
       "      <td>Nationality_Albania</td>\n",
       "      <td>0.444580</td>\n",
       "    </tr>\n",
       "    <tr>\n",
       "      <th>...</th>\n",
       "      <td>...</td>\n",
       "      <td>...</td>\n",
       "    </tr>\n",
       "    <tr>\n",
       "      <th>859</th>\n",
       "      <td>Position_RB</td>\n",
       "      <td>-0.267815</td>\n",
       "    </tr>\n",
       "    <tr>\n",
       "      <th>860</th>\n",
       "      <td>Position_RM</td>\n",
       "      <td>-2.518016</td>\n",
       "    </tr>\n",
       "    <tr>\n",
       "      <th>861</th>\n",
       "      <td>Position_RW</td>\n",
       "      <td>0.356427</td>\n",
       "    </tr>\n",
       "    <tr>\n",
       "      <th>862</th>\n",
       "      <td>Position_RWB</td>\n",
       "      <td>-2.765422</td>\n",
       "    </tr>\n",
       "    <tr>\n",
       "      <th>863</th>\n",
       "      <td>Position_ST</td>\n",
       "      <td>-1.797118</td>\n",
       "    </tr>\n",
       "  </tbody>\n",
       "</table>\n",
       "<p>864 rows × 2 columns</p>\n",
       "</div>"
      ],
      "text/plain": [
       "                    features  coefficient\n",
       "0                        Age    14.424852\n",
       "1                      Value    88.790362\n",
       "2                       Wage    49.875085\n",
       "3    Nationality_Afghanistan    -0.018318\n",
       "4        Nationality_Albania     0.444580\n",
       "..                       ...          ...\n",
       "859              Position_RB    -0.267815\n",
       "860              Position_RM    -2.518016\n",
       "861              Position_RW     0.356427\n",
       "862             Position_RWB    -2.765422\n",
       "863              Position_ST    -1.797118\n",
       "\n",
       "[864 rows x 2 columns]"
      ]
     },
     "execution_count": 47,
     "metadata": {},
     "output_type": "execute_result"
    }
   ],
   "source": [
    "df3 = pd.DataFrame(zip(X.columns , np.transpose(\n",
    "clf.coef_.tolist()[0])), columns=['features','coefficient']) # create a dataframe \n",
    "df3"
   ]
  }
 ],
 "metadata": {
  "kaggle": {
   "accelerator": "none",
   "dataSources": [
    {
     "datasetId": 923113,
     "sourceId": 1579237,
     "sourceType": "datasetVersion"
    }
   ],
   "dockerImageVersionId": 30558,
   "isGpuEnabled": false,
   "isInternetEnabled": false,
   "language": "python",
   "sourceType": "notebook"
  },
  "kernelspec": {
   "display_name": "Python 3",
   "language": "python",
   "name": "python3"
  },
  "language_info": {
   "codemirror_mode": {
    "name": "ipython",
    "version": 3
   },
   "file_extension": ".py",
   "mimetype": "text/x-python",
   "name": "python",
   "nbconvert_exporter": "python",
   "pygments_lexer": "ipython3",
   "version": "3.10.12"
  },
  "papermill": {
   "default_parameters": {},
   "duration": 97.371138,
   "end_time": "2023-11-30T00:25:08.384075",
   "environment_variables": {},
   "exception": null,
   "input_path": "__notebook__.ipynb",
   "output_path": "__notebook__.ipynb",
   "parameters": {},
   "start_time": "2023-11-30T00:23:31.012937",
   "version": "2.4.0"
  }
 },
 "nbformat": 4,
 "nbformat_minor": 5
}
